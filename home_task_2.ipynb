{
 "cells": [
  {
   "cell_type": "code",
   "id": "initial_id",
   "metadata": {
    "ExecuteTime": {
     "end_time": "2025-05-18T15:37:11.891713Z",
     "start_time": "2025-05-18T15:37:11.889372Z"
    }
   },
   "source": [
    "import pandas as pd\n",
    "from matplotlib import pyplot as plt\n",
    "import os\n",
    "from pathlib import Path\n",
    "import seaborn as sns"
   ],
   "outputs": [],
   "execution_count": 130
  },
  {
   "metadata": {
    "ExecuteTime": {
     "end_time": "2025-05-18T15:37:12.045882Z",
     "start_time": "2025-05-18T15:37:12.040783Z"
    }
   },
   "cell_type": "code",
   "source": [
    "data_path = os.path.join(str(Path.home()), 'PycharmProjects/ML/src/data/sentiment_twitter')\n",
    "for dirname, _, filenames in os.walk(data_path):\n",
    "    for filename in filenames:\n",
    "        print(os.path.join(dirname, filename))"
   ],
   "id": "8577c5fc8564114a",
   "outputs": [
    {
     "name": "stdout",
     "output_type": "stream",
     "text": [
      "/Users/aleksandrkoval/PycharmProjects/ML/src/data/sentiment_twitter/test.csv\n",
      "/Users/aleksandrkoval/PycharmProjects/ML/src/data/sentiment_twitter/train.csv\n",
      "/Users/aleksandrkoval/PycharmProjects/ML/src/data/sentiment_twitter/labeled_data.csv\n"
     ]
    }
   ],
   "execution_count": 131
  },
  {
   "metadata": {
    "ExecuteTime": {
     "end_time": "2025-05-18T15:37:12.080070Z",
     "start_time": "2025-05-18T15:37:12.075496Z"
    }
   },
   "cell_type": "code",
   "source": [
    "path = os.path.join(str(Path.home()), 'PycharmProjects/ML/src/data/sentiment_twitter')\n",
    "test_path = os.path.join(path, os.listdir(path)[0])\n",
    "train_path = os.path.join(path, os.listdir(path)[1])\n",
    "label_path = os.path.join(path, os.listdir(path)[2])\n",
    "os.listdir(path)"
   ],
   "id": "5f0134ecec6706a7",
   "outputs": [
    {
     "data": {
      "text/plain": [
       "['test.csv', 'train.csv', 'labeled_data.csv']"
      ]
     },
     "execution_count": 132,
     "metadata": {},
     "output_type": "execute_result"
    }
   ],
   "execution_count": 132
  },
  {
   "cell_type": "code",
   "id": "f4f1d1e8cdfb32e2",
   "metadata": {
    "ExecuteTime": {
     "end_time": "2025-05-18T15:37:12.179618Z",
     "start_time": "2025-05-18T15:37:12.097367Z"
    }
   },
   "source": [
    "df_train = pd.read_csv(train_path)\n",
    "df_test = pd.read_csv(test_path)\n",
    "df_label = pd.read_csv(label_path)\n",
    "df_train.head()"
   ],
   "outputs": [
    {
     "data": {
      "text/plain": [
       "   id  label                                              tweet\n",
       "0   1      0   @user when a father is dysfunctional and is s...\n",
       "1   2      0  @user @user thanks for #lyft credit i can't us...\n",
       "2   3      0                                bihday your majesty\n",
       "3   4      0  #model   i love u take with u all the time in ...\n",
       "4   5      0             factsguide: society now    #motivation"
      ],
      "text/html": [
       "<div>\n",
       "<style scoped>\n",
       "    .dataframe tbody tr th:only-of-type {\n",
       "        vertical-align: middle;\n",
       "    }\n",
       "\n",
       "    .dataframe tbody tr th {\n",
       "        vertical-align: top;\n",
       "    }\n",
       "\n",
       "    .dataframe thead th {\n",
       "        text-align: right;\n",
       "    }\n",
       "</style>\n",
       "<table border=\"1\" class=\"dataframe\">\n",
       "  <thead>\n",
       "    <tr style=\"text-align: right;\">\n",
       "      <th></th>\n",
       "      <th>id</th>\n",
       "      <th>label</th>\n",
       "      <th>tweet</th>\n",
       "    </tr>\n",
       "  </thead>\n",
       "  <tbody>\n",
       "    <tr>\n",
       "      <th>0</th>\n",
       "      <td>1</td>\n",
       "      <td>0</td>\n",
       "      <td>@user when a father is dysfunctional and is s...</td>\n",
       "    </tr>\n",
       "    <tr>\n",
       "      <th>1</th>\n",
       "      <td>2</td>\n",
       "      <td>0</td>\n",
       "      <td>@user @user thanks for #lyft credit i can't us...</td>\n",
       "    </tr>\n",
       "    <tr>\n",
       "      <th>2</th>\n",
       "      <td>3</td>\n",
       "      <td>0</td>\n",
       "      <td>bihday your majesty</td>\n",
       "    </tr>\n",
       "    <tr>\n",
       "      <th>3</th>\n",
       "      <td>4</td>\n",
       "      <td>0</td>\n",
       "      <td>#model   i love u take with u all the time in ...</td>\n",
       "    </tr>\n",
       "    <tr>\n",
       "      <th>4</th>\n",
       "      <td>5</td>\n",
       "      <td>0</td>\n",
       "      <td>factsguide: society now    #motivation</td>\n",
       "    </tr>\n",
       "  </tbody>\n",
       "</table>\n",
       "</div>"
      ]
     },
     "execution_count": 133,
     "metadata": {},
     "output_type": "execute_result"
    }
   ],
   "execution_count": 133
  },
  {
   "cell_type": "code",
   "id": "385e968222d7f7ba",
   "metadata": {
    "ExecuteTime": {
     "end_time": "2025-05-18T15:37:12.195430Z",
     "start_time": "2025-05-18T15:37:12.183527Z"
    }
   },
   "source": [
    "print(\"shape: \\n\", df_train.shape, \"\\n\")\n",
    "print(\"describe \\n\", df_train.describe(), \"\\n\")\n",
    "print(\"info \\n\", df_train.info(), \"\\n\")"
   ],
   "outputs": [
    {
     "name": "stdout",
     "output_type": "stream",
     "text": [
      "shape: \n",
      " (31962, 3) \n",
      "\n",
      "describe \n",
      "                  id         label\n",
      "count  31962.000000  31962.000000\n",
      "mean   15981.500000      0.070146\n",
      "std     9226.778988      0.255397\n",
      "min        1.000000      0.000000\n",
      "25%     7991.250000      0.000000\n",
      "50%    15981.500000      0.000000\n",
      "75%    23971.750000      0.000000\n",
      "max    31962.000000      1.000000 \n",
      "\n",
      "<class 'pandas.core.frame.DataFrame'>\n",
      "RangeIndex: 31962 entries, 0 to 31961\n",
      "Data columns (total 3 columns):\n",
      " #   Column  Non-Null Count  Dtype \n",
      "---  ------  --------------  ----- \n",
      " 0   id      31962 non-null  int64 \n",
      " 1   label   31962 non-null  int64 \n",
      " 2   tweet   31962 non-null  object\n",
      "dtypes: int64(2), object(1)\n",
      "memory usage: 749.2+ KB\n",
      "info \n",
      " None \n",
      "\n"
     ]
    }
   ],
   "execution_count": 134
  },
  {
   "cell_type": "code",
   "id": "97ffad6eb5466c73",
   "metadata": {
    "ExecuteTime": {
     "end_time": "2025-05-18T15:37:12.306566Z",
     "start_time": "2025-05-18T15:37:12.197136Z"
    }
   },
   "source": [
    "plt.figure(figsize=(8, 6))\n",
    "sns.countplot(data=df_train, x='label', palette='pastel', stat='percent', hue='label')\n",
    "plt.title('sentiment of twit')\n",
    "plt.xlabel('sentiment')\n",
    "plt.ylabel('count')\n",
    "plt.legend(title='sentiment of twit', labels=['positive', 'negative'])\n",
    "plt.show()"
   ],
   "outputs": [
    {
     "data": {
      "text/plain": [
       "<Figure size 800x600 with 1 Axes>"
      ],
      "image/png": "[encoded data removed]"
     },
     "metadata": {},
     "output_type": "display_data"
    }
   ],
   "execution_count": 135
  },
  {
   "metadata": {},
   "cell_type": "markdown",
   "source": "Негативных данных немного. Посмотрим, что мы сможем увидеть на этом наборе",
   "id": "b58e6ab8bb620fe3"
  },
  {
   "metadata": {
    "ExecuteTime": {
     "end_time": "2025-05-18T15:37:12.313796Z",
     "start_time": "2025-05-18T15:37:12.310286Z"
    }
   },
   "cell_type": "code",
   "source": "df_train.drop('id',axis=1,inplace=True)",
   "id": "61c096b822c727bc",
   "outputs": [],
   "execution_count": 136
  },
  {
   "metadata": {
    "ExecuteTime": {
     "end_time": "2025-05-18T15:37:12.321338Z",
     "start_time": "2025-05-18T15:37:12.315372Z"
    }
   },
   "cell_type": "code",
   "source": "df_label.head()",
   "id": "df88fd59986c3d9d",
   "outputs": [
    {
     "data": {
      "text/plain": [
       "   Unnamed: 0  count  hate_speech  offensive_language  neither  class  \\\n",
       "0           0      3            0                   0        3      2   \n",
       "1           1      3            0                   3        0      1   \n",
       "2           2      3            0                   3        0      1   \n",
       "3           3      3            0                   2        1      1   \n",
       "4           4      6            0                   6        0      1   \n",
       "\n",
       "                                               tweet  \n",
       "0  !!! RT @mayasolovely: As a woman you shouldn't...  \n",
       "1  !!!!! RT @mleew17: boy dats cold...tyga dwn ba...  \n",
       "2  !!!!!!! RT @UrKindOfBrand Dawg!!!! RT @80sbaby...  \n",
       "3  !!!!!!!!! RT @C_G_Anderson: @viva_based she lo...  \n",
       "4  !!!!!!!!!!!!! RT @ShenikaRoberts: The shit you...  "
      ],
      "text/html": [
       "<div>\n",
       "<style scoped>\n",
       "    .dataframe tbody tr th:only-of-type {\n",
       "        vertical-align: middle;\n",
       "    }\n",
       "\n",
       "    .dataframe tbody tr th {\n",
       "        vertical-align: top;\n",
       "    }\n",
       "\n",
       "    .dataframe thead th {\n",
       "        text-align: right;\n",
       "    }\n",
       "</style>\n",
       "<table border=\"1\" class=\"dataframe\">\n",
       "  <thead>\n",
       "    <tr style=\"text-align: right;\">\n",
       "      <th></th>\n",
       "      <th>Unnamed: 0</th>\n",
       "      <th>count</th>\n",
       "      <th>hate_speech</th>\n",
       "      <th>offensive_language</th>\n",
       "      <th>neither</th>\n",
       "      <th>class</th>\n",
       "      <th>tweet</th>\n",
       "    </tr>\n",
       "  </thead>\n",
       "  <tbody>\n",
       "    <tr>\n",
       "      <th>0</th>\n",
       "      <td>0</td>\n",
       "      <td>3</td>\n",
       "      <td>0</td>\n",
       "      <td>0</td>\n",
       "      <td>3</td>\n",
       "      <td>2</td>\n",
       "      <td>!!! RT @mayasolovely: As a woman you shouldn't...</td>\n",
       "    </tr>\n",
       "    <tr>\n",
       "      <th>1</th>\n",
       "      <td>1</td>\n",
       "      <td>3</td>\n",
       "      <td>0</td>\n",
       "      <td>3</td>\n",
       "      <td>0</td>\n",
       "      <td>1</td>\n",
       "      <td>!!!!! RT @mleew17: boy dats cold...tyga dwn ba...</td>\n",
       "    </tr>\n",
       "    <tr>\n",
       "      <th>2</th>\n",
       "      <td>2</td>\n",
       "      <td>3</td>\n",
       "      <td>0</td>\n",
       "      <td>3</td>\n",
       "      <td>0</td>\n",
       "      <td>1</td>\n",
       "      <td>!!!!!!! RT @UrKindOfBrand Dawg!!!! RT @80sbaby...</td>\n",
       "    </tr>\n",
       "    <tr>\n",
       "      <th>3</th>\n",
       "      <td>3</td>\n",
       "      <td>3</td>\n",
       "      <td>0</td>\n",
       "      <td>2</td>\n",
       "      <td>1</td>\n",
       "      <td>1</td>\n",
       "      <td>!!!!!!!!! RT @C_G_Anderson: @viva_based she lo...</td>\n",
       "    </tr>\n",
       "    <tr>\n",
       "      <th>4</th>\n",
       "      <td>4</td>\n",
       "      <td>6</td>\n",
       "      <td>0</td>\n",
       "      <td>6</td>\n",
       "      <td>0</td>\n",
       "      <td>1</td>\n",
       "      <td>!!!!!!!!!!!!! RT @ShenikaRoberts: The shit you...</td>\n",
       "    </tr>\n",
       "  </tbody>\n",
       "</table>\n",
       "</div>"
      ]
     },
     "execution_count": 137,
     "metadata": {},
     "output_type": "execute_result"
    }
   ],
   "execution_count": 137
  },
  {
   "metadata": {
    "ExecuteTime": {
     "end_time": "2025-05-18T15:37:12.326582Z",
     "start_time": "2025-05-18T15:37:12.322776Z"
    }
   },
   "cell_type": "code",
   "source": "df_label.shape",
   "id": "e4ee8566694e2fed",
   "outputs": [
    {
     "data": {
      "text/plain": [
       "(24783, 7)"
      ]
     },
     "execution_count": 138,
     "metadata": {},
     "output_type": "execute_result"
    }
   ],
   "execution_count": 138
  },
  {
   "metadata": {
    "ExecuteTime": {
     "end_time": "2025-05-18T15:37:12.330598Z",
     "start_time": "2025-05-18T15:37:12.327591Z"
    }
   },
   "cell_type": "code",
   "source": "df_train.shape",
   "id": "560b80780a3966cd",
   "outputs": [
    {
     "data": {
      "text/plain": [
       "(31962, 2)"
      ]
     },
     "execution_count": 139,
     "metadata": {},
     "output_type": "execute_result"
    }
   ],
   "execution_count": 139
  },
  {
   "metadata": {
    "ExecuteTime": {
     "end_time": "2025-05-18T15:37:12.334529Z",
     "start_time": "2025-05-18T15:37:12.331628Z"
    }
   },
   "cell_type": "code",
   "source": "df_test.shape",
   "id": "e7eaaabb7b33c7e2",
   "outputs": [
    {
     "data": {
      "text/plain": [
       "(17197, 2)"
      ]
     },
     "execution_count": 140,
     "metadata": {},
     "output_type": "execute_result"
    }
   ],
   "execution_count": 140
  },
  {
   "metadata": {
    "ExecuteTime": {
     "end_time": "2025-05-18T15:37:12.459213Z",
     "start_time": "2025-05-18T15:37:12.335406Z"
    }
   },
   "cell_type": "code",
   "source": [
    "plt.figure(figsize=(8, 6))\n",
    "sns.countplot(data=df_train, x='class', palette='pastel', stat='percent', hue='class')\n",
    "plt.title('sentiment of twit')\n",
    "plt.xlabel('sentiment')\n",
    "plt.ylabel('count')\n",
    "plt.legend(title='sentiment of twit', labels=['positive', 'negative'])\n",
    "plt.show()"
   ],
   "id": "275f3b032bb6d3d7",
   "outputs": [
    {
     "ename": "ValueError",
     "evalue": "Could not interpret value `class` for `x`. An entry with this name does not appear in `data`.",
     "output_type": "error",
     "traceback": [
      "\u001B[31m---------------------------------------------------------------------------\u001B[39m",
      "\u001B[31mValueError\u001B[39m                                Traceback (most recent call last)",
      "\u001B[36mCell\u001B[39m\u001B[36m \u001B[39m\u001B[32mIn[141]\u001B[39m\u001B[32m, line 2\u001B[39m\n\u001B[32m      1\u001B[39m plt.figure(figsize=(\u001B[32m8\u001B[39m, \u001B[32m6\u001B[39m))\n\u001B[32m----> \u001B[39m\u001B[32m2\u001B[39m \u001B[43msns\u001B[49m\u001B[43m.\u001B[49m\u001B[43mcountplot\u001B[49m\u001B[43m(\u001B[49m\u001B[43mdata\u001B[49m\u001B[43m=\u001B[49m\u001B[43mdf_train\u001B[49m\u001B[43m,\u001B[49m\u001B[43m \u001B[49m\u001B[43mx\u001B[49m\u001B[43m=\u001B[49m\u001B[33;43m'\u001B[39;49m\u001B[33;43mclass\u001B[39;49m\u001B[33;43m'\u001B[39;49m\u001B[43m,\u001B[49m\u001B[43m \u001B[49m\u001B[43mpalette\u001B[49m\u001B[43m=\u001B[49m\u001B[33;43m'\u001B[39;49m\u001B[33;43mpastel\u001B[39;49m\u001B[33;43m'\u001B[39;49m\u001B[43m,\u001B[49m\u001B[43m \u001B[49m\u001B[43mstat\u001B[49m\u001B[43m=\u001B[49m\u001B[33;43m'\u001B[39;49m\u001B[33;43mpercent\u001B[39;49m\u001B[33;43m'\u001B[39;49m\u001B[43m,\u001B[49m\u001B[43m \u001B[49m\u001B[43mhue\u001B[49m\u001B[43m=\u001B[49m\u001B[33;43m'\u001B[39;49m\u001B[33;43mclass\u001B[39;49m\u001B[33;43m'\u001B[39;49m\u001B[43m)\u001B[49m\n\u001B[32m      3\u001B[39m plt.title(\u001B[33m'\u001B[39m\u001B[33msentiment of twit\u001B[39m\u001B[33m'\u001B[39m)\n\u001B[32m      4\u001B[39m plt.xlabel(\u001B[33m'\u001B[39m\u001B[33msentiment\u001B[39m\u001B[33m'\u001B[39m)\n",
      "\u001B[36mFile \u001B[39m\u001B[32m~/PycharmProjects/ML/virt/lib/python3.12/site-packages/seaborn/categorical.py:2631\u001B[39m, in \u001B[36mcountplot\u001B[39m\u001B[34m(data, x, y, hue, order, hue_order, orient, color, palette, saturation, fill, hue_norm, stat, width, dodge, gap, log_scale, native_scale, formatter, legend, ax, **kwargs)\u001B[39m\n\u001B[32m   2628\u001B[39m \u001B[38;5;28;01melif\u001B[39;00m x \u001B[38;5;129;01mis\u001B[39;00m \u001B[38;5;129;01mnot\u001B[39;00m \u001B[38;5;28;01mNone\u001B[39;00m \u001B[38;5;129;01mand\u001B[39;00m y \u001B[38;5;129;01mis\u001B[39;00m \u001B[38;5;129;01mnot\u001B[39;00m \u001B[38;5;28;01mNone\u001B[39;00m:\n\u001B[32m   2629\u001B[39m     \u001B[38;5;28;01mraise\u001B[39;00m \u001B[38;5;167;01mTypeError\u001B[39;00m(\u001B[33m\"\u001B[39m\u001B[33mCannot pass values for both `x` and `y`.\u001B[39m\u001B[33m\"\u001B[39m)\n\u001B[32m-> \u001B[39m\u001B[32m2631\u001B[39m p = \u001B[43m_CategoricalAggPlotter\u001B[49m\u001B[43m(\u001B[49m\n\u001B[32m   2632\u001B[39m \u001B[43m    \u001B[49m\u001B[43mdata\u001B[49m\u001B[43m=\u001B[49m\u001B[43mdata\u001B[49m\u001B[43m,\u001B[49m\n\u001B[32m   2633\u001B[39m \u001B[43m    \u001B[49m\u001B[43mvariables\u001B[49m\u001B[43m=\u001B[49m\u001B[38;5;28;43mdict\u001B[39;49m\u001B[43m(\u001B[49m\u001B[43mx\u001B[49m\u001B[43m=\u001B[49m\u001B[43mx\u001B[49m\u001B[43m,\u001B[49m\u001B[43m \u001B[49m\u001B[43my\u001B[49m\u001B[43m=\u001B[49m\u001B[43my\u001B[49m\u001B[43m,\u001B[49m\u001B[43m \u001B[49m\u001B[43mhue\u001B[49m\u001B[43m=\u001B[49m\u001B[43mhue\u001B[49m\u001B[43m)\u001B[49m\u001B[43m,\u001B[49m\n\u001B[32m   2634\u001B[39m \u001B[43m    \u001B[49m\u001B[43morder\u001B[49m\u001B[43m=\u001B[49m\u001B[43morder\u001B[49m\u001B[43m,\u001B[49m\n\u001B[32m   2635\u001B[39m \u001B[43m    \u001B[49m\u001B[43morient\u001B[49m\u001B[43m=\u001B[49m\u001B[43morient\u001B[49m\u001B[43m,\u001B[49m\n\u001B[32m   2636\u001B[39m \u001B[43m    \u001B[49m\u001B[43mcolor\u001B[49m\u001B[43m=\u001B[49m\u001B[43mcolor\u001B[49m\u001B[43m,\u001B[49m\n\u001B[32m   2637\u001B[39m \u001B[43m    \u001B[49m\u001B[43mlegend\u001B[49m\u001B[43m=\u001B[49m\u001B[43mlegend\u001B[49m\u001B[43m,\u001B[49m\n\u001B[32m   2638\u001B[39m \u001B[43m\u001B[49m\u001B[43m)\u001B[49m\n\u001B[32m   2640\u001B[39m \u001B[38;5;28;01mif\u001B[39;00m ax \u001B[38;5;129;01mis\u001B[39;00m \u001B[38;5;28;01mNone\u001B[39;00m:\n\u001B[32m   2641\u001B[39m     ax = plt.gca()\n",
      "\u001B[36mFile \u001B[39m\u001B[32m~/PycharmProjects/ML/virt/lib/python3.12/site-packages/seaborn/categorical.py:67\u001B[39m, in \u001B[36m_CategoricalPlotter.__init__\u001B[39m\u001B[34m(self, data, variables, order, orient, require_numeric, color, legend)\u001B[39m\n\u001B[32m     56\u001B[39m \u001B[38;5;28;01mdef\u001B[39;00m\u001B[38;5;250m \u001B[39m\u001B[34m__init__\u001B[39m(\n\u001B[32m     57\u001B[39m     \u001B[38;5;28mself\u001B[39m,\n\u001B[32m     58\u001B[39m     data=\u001B[38;5;28;01mNone\u001B[39;00m,\n\u001B[32m   (...)\u001B[39m\u001B[32m     64\u001B[39m     legend=\u001B[33m\"\u001B[39m\u001B[33mauto\u001B[39m\u001B[33m\"\u001B[39m,\n\u001B[32m     65\u001B[39m ):\n\u001B[32m---> \u001B[39m\u001B[32m67\u001B[39m     \u001B[38;5;28;43msuper\u001B[39;49m\u001B[43m(\u001B[49m\u001B[43m)\u001B[49m\u001B[43m.\u001B[49m\u001B[34;43m__init__\u001B[39;49m\u001B[43m(\u001B[49m\u001B[43mdata\u001B[49m\u001B[43m=\u001B[49m\u001B[43mdata\u001B[49m\u001B[43m,\u001B[49m\u001B[43m \u001B[49m\u001B[43mvariables\u001B[49m\u001B[43m=\u001B[49m\u001B[43mvariables\u001B[49m\u001B[43m)\u001B[49m\n\u001B[32m     69\u001B[39m     \u001B[38;5;66;03m# This method takes care of some bookkeeping that is necessary because the\u001B[39;00m\n\u001B[32m     70\u001B[39m     \u001B[38;5;66;03m# original categorical plots (prior to the 2021 refactor) had some rules that\u001B[39;00m\n\u001B[32m     71\u001B[39m     \u001B[38;5;66;03m# don't fit exactly into VectorPlotter logic. It may be wise to have a second\u001B[39;00m\n\u001B[32m   (...)\u001B[39m\u001B[32m     76\u001B[39m     \u001B[38;5;66;03m# default VectorPlotter rules. If we do decide to make orient part of the\u001B[39;00m\n\u001B[32m     77\u001B[39m     \u001B[38;5;66;03m# _base variable assignment, we'll want to figure out how to express that.\u001B[39;00m\n\u001B[32m     78\u001B[39m     \u001B[38;5;28;01mif\u001B[39;00m \u001B[38;5;28mself\u001B[39m.input_format == \u001B[33m\"\u001B[39m\u001B[33mwide\u001B[39m\u001B[33m\"\u001B[39m \u001B[38;5;129;01mand\u001B[39;00m orient \u001B[38;5;129;01min\u001B[39;00m [\u001B[33m\"\u001B[39m\u001B[33mh\u001B[39m\u001B[33m\"\u001B[39m, \u001B[33m\"\u001B[39m\u001B[33my\u001B[39m\u001B[33m\"\u001B[39m]:\n",
      "\u001B[36mFile \u001B[39m\u001B[32m~/PycharmProjects/ML/virt/lib/python3.12/site-packages/seaborn/_base.py:634\u001B[39m, in \u001B[36mVectorPlotter.__init__\u001B[39m\u001B[34m(self, data, variables)\u001B[39m\n\u001B[32m    629\u001B[39m \u001B[38;5;66;03m# var_ordered is relevant only for categorical axis variables, and may\u001B[39;00m\n\u001B[32m    630\u001B[39m \u001B[38;5;66;03m# be better handled by an internal axis information object that tracks\u001B[39;00m\n\u001B[32m    631\u001B[39m \u001B[38;5;66;03m# such information and is set up by the scale_* methods. The analogous\u001B[39;00m\n\u001B[32m    632\u001B[39m \u001B[38;5;66;03m# information for numeric axes would be information about log scales.\u001B[39;00m\n\u001B[32m    633\u001B[39m \u001B[38;5;28mself\u001B[39m._var_ordered = {\u001B[33m\"\u001B[39m\u001B[33mx\u001B[39m\u001B[33m\"\u001B[39m: \u001B[38;5;28;01mFalse\u001B[39;00m, \u001B[33m\"\u001B[39m\u001B[33my\u001B[39m\u001B[33m\"\u001B[39m: \u001B[38;5;28;01mFalse\u001B[39;00m}  \u001B[38;5;66;03m# alt., used DefaultDict\u001B[39;00m\n\u001B[32m--> \u001B[39m\u001B[32m634\u001B[39m \u001B[38;5;28;43mself\u001B[39;49m\u001B[43m.\u001B[49m\u001B[43massign_variables\u001B[49m\u001B[43m(\u001B[49m\u001B[43mdata\u001B[49m\u001B[43m,\u001B[49m\u001B[43m \u001B[49m\u001B[43mvariables\u001B[49m\u001B[43m)\u001B[49m\n\u001B[32m    636\u001B[39m \u001B[38;5;66;03m# TODO Lots of tests assume that these are called to initialize the\u001B[39;00m\n\u001B[32m    637\u001B[39m \u001B[38;5;66;03m# mappings to default values on class initialization. I'd prefer to\u001B[39;00m\n\u001B[32m    638\u001B[39m \u001B[38;5;66;03m# move away from that and only have a mapping when explicitly called.\u001B[39;00m\n\u001B[32m    639\u001B[39m \u001B[38;5;28;01mfor\u001B[39;00m var \u001B[38;5;129;01min\u001B[39;00m [\u001B[33m\"\u001B[39m\u001B[33mhue\u001B[39m\u001B[33m\"\u001B[39m, \u001B[33m\"\u001B[39m\u001B[33msize\u001B[39m\u001B[33m\"\u001B[39m, \u001B[33m\"\u001B[39m\u001B[33mstyle\u001B[39m\u001B[33m\"\u001B[39m]:\n",
      "\u001B[36mFile \u001B[39m\u001B[32m~/PycharmProjects/ML/virt/lib/python3.12/site-packages/seaborn/_base.py:679\u001B[39m, in \u001B[36mVectorPlotter.assign_variables\u001B[39m\u001B[34m(self, data, variables)\u001B[39m\n\u001B[32m    674\u001B[39m \u001B[38;5;28;01melse\u001B[39;00m:\n\u001B[32m    675\u001B[39m     \u001B[38;5;66;03m# When dealing with long-form input, use the newer PlotData\u001B[39;00m\n\u001B[32m    676\u001B[39m     \u001B[38;5;66;03m# object (internal but introduced for the objects interface)\u001B[39;00m\n\u001B[32m    677\u001B[39m     \u001B[38;5;66;03m# to centralize / standardize data consumption logic.\u001B[39;00m\n\u001B[32m    678\u001B[39m     \u001B[38;5;28mself\u001B[39m.input_format = \u001B[33m\"\u001B[39m\u001B[33mlong\u001B[39m\u001B[33m\"\u001B[39m\n\u001B[32m--> \u001B[39m\u001B[32m679\u001B[39m     plot_data = \u001B[43mPlotData\u001B[49m\u001B[43m(\u001B[49m\u001B[43mdata\u001B[49m\u001B[43m,\u001B[49m\u001B[43m \u001B[49m\u001B[43mvariables\u001B[49m\u001B[43m)\u001B[49m\n\u001B[32m    680\u001B[39m     frame = plot_data.frame\n\u001B[32m    681\u001B[39m     names = plot_data.names\n",
      "\u001B[36mFile \u001B[39m\u001B[32m~/PycharmProjects/ML/virt/lib/python3.12/site-packages/seaborn/_core/data.py:58\u001B[39m, in \u001B[36mPlotData.__init__\u001B[39m\u001B[34m(self, data, variables)\u001B[39m\n\u001B[32m     51\u001B[39m \u001B[38;5;28;01mdef\u001B[39;00m\u001B[38;5;250m \u001B[39m\u001B[34m__init__\u001B[39m(\n\u001B[32m     52\u001B[39m     \u001B[38;5;28mself\u001B[39m,\n\u001B[32m     53\u001B[39m     data: DataSource,\n\u001B[32m     54\u001B[39m     variables: \u001B[38;5;28mdict\u001B[39m[\u001B[38;5;28mstr\u001B[39m, VariableSpec],\n\u001B[32m     55\u001B[39m ):\n\u001B[32m     57\u001B[39m     data = handle_data_source(data)\n\u001B[32m---> \u001B[39m\u001B[32m58\u001B[39m     frame, names, ids = \u001B[38;5;28;43mself\u001B[39;49m\u001B[43m.\u001B[49m\u001B[43m_assign_variables\u001B[49m\u001B[43m(\u001B[49m\u001B[43mdata\u001B[49m\u001B[43m,\u001B[49m\u001B[43m \u001B[49m\u001B[43mvariables\u001B[49m\u001B[43m)\u001B[49m\n\u001B[32m     60\u001B[39m     \u001B[38;5;28mself\u001B[39m.frame = frame\n\u001B[32m     61\u001B[39m     \u001B[38;5;28mself\u001B[39m.names = names\n",
      "\u001B[36mFile \u001B[39m\u001B[32m~/PycharmProjects/ML/virt/lib/python3.12/site-packages/seaborn/_core/data.py:232\u001B[39m, in \u001B[36mPlotData._assign_variables\u001B[39m\u001B[34m(self, data, variables)\u001B[39m\n\u001B[32m    230\u001B[39m     \u001B[38;5;28;01melse\u001B[39;00m:\n\u001B[32m    231\u001B[39m         err += \u001B[33m\"\u001B[39m\u001B[33mAn entry with this name does not appear in `data`.\u001B[39m\u001B[33m\"\u001B[39m\n\u001B[32m--> \u001B[39m\u001B[32m232\u001B[39m     \u001B[38;5;28;01mraise\u001B[39;00m \u001B[38;5;167;01mValueError\u001B[39;00m(err)\n\u001B[32m    234\u001B[39m \u001B[38;5;28;01melse\u001B[39;00m:\n\u001B[32m    235\u001B[39m \n\u001B[32m    236\u001B[39m     \u001B[38;5;66;03m# Otherwise, assume the value somehow represents data\u001B[39;00m\n\u001B[32m    237\u001B[39m \n\u001B[32m    238\u001B[39m     \u001B[38;5;66;03m# Ignore empty data structures\u001B[39;00m\n\u001B[32m    239\u001B[39m     \u001B[38;5;28;01mif\u001B[39;00m \u001B[38;5;28misinstance\u001B[39m(val, Sized) \u001B[38;5;129;01mand\u001B[39;00m \u001B[38;5;28mlen\u001B[39m(val) == \u001B[32m0\u001B[39m:\n",
      "\u001B[31mValueError\u001B[39m: Could not interpret value `class` for `x`. An entry with this name does not appear in `data`."
     ]
    },
    {
     "data": {
      "text/plain": [
       "<Figure size 800x600 with 0 Axes>"
      ]
     },
     "metadata": {},
     "output_type": "display_data"
    }
   ],
   "execution_count": 141
  },
  {
   "metadata": {},
   "cell_type": "markdown",
   "source": "Подготовка данных для обработки",
   "id": "341b1b4e18e07507"
  },
  {
   "metadata": {},
   "cell_type": "code",
   "source": [
    "import re\n",
    "result = re.sub(r'India', 'the World', 'AV is largest Analytics community of India')\n",
    "print(result)"
   ],
   "id": "4991a6ae0e9a0f46",
   "outputs": [],
   "execution_count": null
  },
  {
   "metadata": {},
   "cell_type": "code",
   "source": [
    "import re\n",
    "import nltk\n",
    "stemmer = nltk.SnowballStemmer(\"english\")\n",
    "from nltk.corpus import stopwords\n",
    "stopword=set(stopwords.words('english'))"
   ],
   "id": "8b6a39f6c12cdda",
   "outputs": [],
   "execution_count": null
  },
  {
   "metadata": {},
   "cell_type": "code",
   "source": [
    "# выполним очистку текста от синтаксического и пунктуационного мусора\n",
    "def clean_text(string): \n",
    "    string = str(string).lower() # Понизить регистры. Мы будем вызывать CountVectorizer, который по-умолчанию это выполняет, но лишний раз может оказаться не лишним.\n",
    "    string = re.sub(r\"[^a-zA-Z]\", \" \", string) # Оставляем только латинские буквы. Это сильное условие для английского текста, но не универсальное. Поэтому по развлекаемся точечно.\n",
    "    string = re.sub(r'\\[.*?\\]', '', string) # разберёмся с квадратными скобками\n",
    "    string = re.sub(r'https?://\\S+|www\\.\\S+', '', string) # убрать адресные строки\n",
    "    string = re.sub(r'<.*?>+', '', string) # убираем случайные HTML-теги\n",
    "    string = re.sub(r'[^\\w\\s]', '', string) #убрать всю пунктуацию\n",
    "    string = re.sub(r'\\n', '', string) # удалим все переносы строки\n",
    "    string = re.sub(r'\\w*\\d\\w*', '', string) # убираем слова с цифрой в середине\n",
    "    string = [word for word in string.split(' ') if word not in stopword] # очищаем текст от слов исключений\n",
    "    string= \" \".join(string)\n",
    "    string = [stemmer.stem(word) for word in string.split(' ')] # приводим слова к исходному значению, убирая склонения\n",
    "    string= \" \".join(string)\n",
    "    string = re.sub('  ', '', string) # уберём все двойные пробелы\n",
    "    print(string)\n",
    "    return string"
   ],
   "id": "4cd3e90a839a728e",
   "outputs": [],
   "execution_count": null
  },
  {
   "metadata": {
    "ExecuteTime": {
     "end_time": "2025-05-20T19:45:04.229436Z",
     "start_time": "2025-05-20T19:44:06.004695Z"
    }
   },
   "cell_type": "code",
   "source": [
    "df_train['tweet']=df_train['tweet'].apply(clean_text)\n",
    "df_train"
   ],
   "id": "51eaa60eb9606987",
   "outputs": [
    {
     "data": {
      "text/plain": [
       "       label                                              tweet\n",
       "0          0  user father dysfunct selfish drag kid dysfunct...\n",
       "1          0   userus thanklyft credit use caus offer wheelc...\n",
       "2          0                                     bihday majesti\n",
       "3          0                        model love u take u time ur\n",
       "4          0                             factsguidsocieti motiv\n",
       "...      ...                                                ...\n",
       "31957      0                                    ateus isz youuu\n",
       "31958      0  see nina turner airwav tri wrap mantl genuin h...\n",
       "31959      0           listen sad song monday morn otw work sad\n",
       "31960      1       usersikhtempl vandaliscalgari wso condemnact\n",
       "31961      0                                     thankus follow\n",
       "\n",
       "[31962 rows x 2 columns]"
      ],
      "text/html": [
       "<div>\n",
       "<style scoped>\n",
       "    .dataframe tbody tr th:only-of-type {\n",
       "        vertical-align: middle;\n",
       "    }\n",
       "\n",
       "    .dataframe tbody tr th {\n",
       "        vertical-align: top;\n",
       "    }\n",
       "\n",
       "    .dataframe thead th {\n",
       "        text-align: right;\n",
       "    }\n",
       "</style>\n",
       "<table border=\"1\" class=\"dataframe\">\n",
       "  <thead>\n",
       "    <tr style=\"text-align: right;\">\n",
       "      <th></th>\n",
       "      <th>label</th>\n",
       "      <th>tweet</th>\n",
       "    </tr>\n",
       "  </thead>\n",
       "  <tbody>\n",
       "    <tr>\n",
       "      <th>0</th>\n",
       "      <td>0</td>\n",
       "      <td>user father dysfunct selfish drag kid dysfunct...</td>\n",
       "    </tr>\n",
       "    <tr>\n",
       "      <th>1</th>\n",
       "      <td>0</td>\n",
       "      <td>userus thanklyft credit use caus offer wheelc...</td>\n",
       "    </tr>\n",
       "    <tr>\n",
       "      <th>2</th>\n",
       "      <td>0</td>\n",
       "      <td>bihday majesti</td>\n",
       "    </tr>\n",
       "    <tr>\n",
       "      <th>3</th>\n",
       "      <td>0</td>\n",
       "      <td>model love u take u time ur</td>\n",
       "    </tr>\n",
       "    <tr>\n",
       "      <th>4</th>\n",
       "      <td>0</td>\n",
       "      <td>factsguidsocieti motiv</td>\n",
       "    </tr>\n",
       "    <tr>\n",
       "      <th>...</th>\n",
       "      <td>...</td>\n",
       "      <td>...</td>\n",
       "    </tr>\n",
       "    <tr>\n",
       "      <th>31957</th>\n",
       "      <td>0</td>\n",
       "      <td>ateus isz youuu</td>\n",
       "    </tr>\n",
       "    <tr>\n",
       "      <th>31958</th>\n",
       "      <td>0</td>\n",
       "      <td>see nina turner airwav tri wrap mantl genuin h...</td>\n",
       "    </tr>\n",
       "    <tr>\n",
       "      <th>31959</th>\n",
       "      <td>0</td>\n",
       "      <td>listen sad song monday morn otw work sad</td>\n",
       "    </tr>\n",
       "    <tr>\n",
       "      <th>31960</th>\n",
       "      <td>1</td>\n",
       "      <td>usersikhtempl vandaliscalgari wso condemnact</td>\n",
       "    </tr>\n",
       "    <tr>\n",
       "      <th>31961</th>\n",
       "      <td>0</td>\n",
       "      <td>thankus follow</td>\n",
       "    </tr>\n",
       "  </tbody>\n",
       "</table>\n",
       "<p>31962 rows × 2 columns</p>\n",
       "</div>"
      ]
     },
     "execution_count": 227,
     "metadata": {},
     "output_type": "execute_result"
    }
   ],
   "execution_count": 227
  },
  {
   "metadata": {
    "ExecuteTime": {
     "end_time": "2025-05-20T19:45:32.024462Z",
     "start_time": "2025-05-20T19:45:32.021040Z"
    }
   },
   "cell_type": "code",
   "source": "df_train.shape",
   "id": "2611e1ef90bf7d6c",
   "outputs": [
    {
     "data": {
      "text/plain": [
       "(31962, 2)"
      ]
     },
     "execution_count": 228,
     "metadata": {},
     "output_type": "execute_result"
    }
   ],
   "execution_count": 228
  },
  {
   "metadata": {
    "ExecuteTime": {
     "end_time": "2025-05-20T19:53:01.303946Z",
     "start_time": "2025-05-20T19:52:04.436358Z"
    }
   },
   "cell_type": "code",
   "source": [
    "df_label['tweet']=df_label['tweet'].apply(clean_text)\n",
    "df_label"
   ],
   "id": "f780a32d71d6d2f0",
   "outputs": [
    {
     "data": {
      "text/plain": [
       "       label                                              tweet\n",
       "0          0  rtmayasolovwoman complain clean hous ampman al...\n",
       "1          1     rtboy dat cold tyga dwn bad cuffin dat hoeplac\n",
       "2          1  rturkindofbrand dawg rtever fuck bitch start c...\n",
       "3          1          rtc g anderson viva base look like tranni\n",
       "4          1  rtshenikarobertshit hear might true might fake...\n",
       "...      ...                                                ...\n",
       "24778      1  muthaf lie lifeaskpearlcorey emanuel righttl t...\n",
       "24779      0      gone broke wrong heart babidrov redneck crazi\n",
       "24780      1  young buck wanna eat dat nigguh like aint fuck...\n",
       "24781      1                     youu got wild bitch tellin lie\n",
       "24782      0  ruffl ntac eileen dahlia beauti color combin p...\n",
       "\n",
       "[24783 rows x 2 columns]"
      ],
      "text/html": [
       "<div>\n",
       "<style scoped>\n",
       "    .dataframe tbody tr th:only-of-type {\n",
       "        vertical-align: middle;\n",
       "    }\n",
       "\n",
       "    .dataframe tbody tr th {\n",
       "        vertical-align: top;\n",
       "    }\n",
       "\n",
       "    .dataframe thead th {\n",
       "        text-align: right;\n",
       "    }\n",
       "</style>\n",
       "<table border=\"1\" class=\"dataframe\">\n",
       "  <thead>\n",
       "    <tr style=\"text-align: right;\">\n",
       "      <th></th>\n",
       "      <th>label</th>\n",
       "      <th>tweet</th>\n",
       "    </tr>\n",
       "  </thead>\n",
       "  <tbody>\n",
       "    <tr>\n",
       "      <th>0</th>\n",
       "      <td>0</td>\n",
       "      <td>rtmayasolovwoman complain clean hous ampman al...</td>\n",
       "    </tr>\n",
       "    <tr>\n",
       "      <th>1</th>\n",
       "      <td>1</td>\n",
       "      <td>rtboy dat cold tyga dwn bad cuffin dat hoeplac</td>\n",
       "    </tr>\n",
       "    <tr>\n",
       "      <th>2</th>\n",
       "      <td>1</td>\n",
       "      <td>rturkindofbrand dawg rtever fuck bitch start c...</td>\n",
       "    </tr>\n",
       "    <tr>\n",
       "      <th>3</th>\n",
       "      <td>1</td>\n",
       "      <td>rtc g anderson viva base look like tranni</td>\n",
       "    </tr>\n",
       "    <tr>\n",
       "      <th>4</th>\n",
       "      <td>1</td>\n",
       "      <td>rtshenikarobertshit hear might true might fake...</td>\n",
       "    </tr>\n",
       "    <tr>\n",
       "      <th>...</th>\n",
       "      <td>...</td>\n",
       "      <td>...</td>\n",
       "    </tr>\n",
       "    <tr>\n",
       "      <th>24778</th>\n",
       "      <td>1</td>\n",
       "      <td>muthaf lie lifeaskpearlcorey emanuel righttl t...</td>\n",
       "    </tr>\n",
       "    <tr>\n",
       "      <th>24779</th>\n",
       "      <td>0</td>\n",
       "      <td>gone broke wrong heart babidrov redneck crazi</td>\n",
       "    </tr>\n",
       "    <tr>\n",
       "      <th>24780</th>\n",
       "      <td>1</td>\n",
       "      <td>young buck wanna eat dat nigguh like aint fuck...</td>\n",
       "    </tr>\n",
       "    <tr>\n",
       "      <th>24781</th>\n",
       "      <td>1</td>\n",
       "      <td>youu got wild bitch tellin lie</td>\n",
       "    </tr>\n",
       "    <tr>\n",
       "      <th>24782</th>\n",
       "      <td>0</td>\n",
       "      <td>ruffl ntac eileen dahlia beauti color combin p...</td>\n",
       "    </tr>\n",
       "  </tbody>\n",
       "</table>\n",
       "<p>24783 rows × 2 columns</p>\n",
       "</div>"
      ]
     },
     "execution_count": 232,
     "metadata": {},
     "output_type": "execute_result"
    }
   ],
   "execution_count": 232
  },
  {
   "metadata": {
    "ExecuteTime": {
     "end_time": "2025-05-20T19:15:08.038075Z",
     "start_time": "2025-05-20T19:15:08.032190Z"
    }
   },
   "cell_type": "code",
   "source": "df_train.head()",
   "id": "cd0d723959fdb149",
   "outputs": [
    {
     "data": {
      "text/plain": [
       "   label                                              tweet\n",
       "0      0  user father dysfunct selfish drag kid dysfunct...\n",
       "1      0   useruser thanklyft credit use caus offer whee...\n",
       "2      0                                     bihday majesti\n",
       "3      0                        model love u take u time ur\n",
       "4      0                             factsguidsocieti motiv"
      ],
      "text/html": [
       "<div>\n",
       "<style scoped>\n",
       "    .dataframe tbody tr th:only-of-type {\n",
       "        vertical-align: middle;\n",
       "    }\n",
       "\n",
       "    .dataframe tbody tr th {\n",
       "        vertical-align: top;\n",
       "    }\n",
       "\n",
       "    .dataframe thead th {\n",
       "        text-align: right;\n",
       "    }\n",
       "</style>\n",
       "<table border=\"1\" class=\"dataframe\">\n",
       "  <thead>\n",
       "    <tr style=\"text-align: right;\">\n",
       "      <th></th>\n",
       "      <th>label</th>\n",
       "      <th>tweet</th>\n",
       "    </tr>\n",
       "  </thead>\n",
       "  <tbody>\n",
       "    <tr>\n",
       "      <th>0</th>\n",
       "      <td>0</td>\n",
       "      <td>user father dysfunct selfish drag kid dysfunct...</td>\n",
       "    </tr>\n",
       "    <tr>\n",
       "      <th>1</th>\n",
       "      <td>0</td>\n",
       "      <td>useruser thanklyft credit use caus offer whee...</td>\n",
       "    </tr>\n",
       "    <tr>\n",
       "      <th>2</th>\n",
       "      <td>0</td>\n",
       "      <td>bihday majesti</td>\n",
       "    </tr>\n",
       "    <tr>\n",
       "      <th>3</th>\n",
       "      <td>0</td>\n",
       "      <td>model love u take u time ur</td>\n",
       "    </tr>\n",
       "    <tr>\n",
       "      <th>4</th>\n",
       "      <td>0</td>\n",
       "      <td>factsguidsocieti motiv</td>\n",
       "    </tr>\n",
       "  </tbody>\n",
       "</table>\n",
       "</div>"
      ]
     },
     "execution_count": 204,
     "metadata": {},
     "output_type": "execute_result"
    }
   ],
   "execution_count": 204
  },
  {
   "metadata": {},
   "cell_type": "code",
   "source": [
    "#проконтролируем тип наших данных\n",
    "x=df_train['tweet']\n",
    "y=df_train['label']\n",
    "type(x)"
   ],
   "id": "902a9aeb41fb58ee",
   "outputs": [],
   "execution_count": null
  },
  {
   "metadata": {},
   "cell_type": "markdown",
   "source": "Разделим нашу выборку на обучающую и тестовую",
   "id": "7ec8ff9cdb94890f"
  },
  {
   "metadata": {},
   "cell_type": "code",
   "source": [
    "from sklearn.model_selection import train_test_split\n",
    "\n",
    "x_train, x_test, y_train, y_test = train_test_split(x, y, test_size=0.2, shuffle=True)"
   ],
   "id": "bffc5627a55a9adf",
   "outputs": [],
   "execution_count": null
  },
  {
   "metadata": {},
   "cell_type": "markdown",
   "source": [
    "Запустим класс CountVectorizer. Этот класс позволит выполнить преобразование нашего текста в тензор частоты слов нашего списка твитов для каждого твита.\n",
    "\n",
    "Этот класс позволяет также задавать n-граммы, смысловые последовательности слов, чтобы удержать контекст вхождения. Используем вхождение до 4 слов"
   ],
   "id": "1b2ef74fb0559f68"
  },
  {
   "metadata": {},
   "cell_type": "code",
   "source": [
    "from sklearn.feature_extraction.text import CountVectorizer\n",
    "\n",
    "count = CountVectorizer(ngram_range=(1,4))\n",
    "x_train_vectorizer=count.fit_transform(x_train)"
   ],
   "id": "a3758a1e4ab692a8",
   "outputs": [],
   "execution_count": null
  },
  {
   "metadata": {
    "ExecuteTime": {
     "end_time": "2025-05-18T15:37:13.327491Z",
     "start_time": "2025-05-18T15:37:12.468960Z"
    }
   },
   "cell_type": "code",
   "source": [
    "x_test_vectorizer=count.transform(x_test)\n",
    "x_train_vectorizer.toarray()"
   ],
   "id": "191e6112ba34fc1b",
   "outputs": [
    {
     "data": {
      "text/plain": [
       "array([[0, 0, 0, ..., 0, 0, 0],\n",
       "       [0, 0, 0, ..., 0, 0, 0],\n",
       "       [0, 0, 0, ..., 0, 0, 0],\n",
       "       ...,\n",
       "       [0, 0, 0, ..., 0, 0, 0],\n",
       "       [0, 0, 0, ..., 0, 0, 0],\n",
       "       [0, 0, 0, ..., 0, 0, 0]])"
      ]
     },
     "execution_count": 142,
     "metadata": {},
     "output_type": "execute_result"
    }
   ],
   "execution_count": 142
  },
  {
   "metadata": {},
   "cell_type": "markdown",
   "source": "Мы получили сильно разреженную матрицу с большим количеством нулей, но это ожидаемо",
   "id": "af4592599d3dbf47"
  },
  {
   "metadata": {},
   "cell_type": "markdown",
   "source": "Выполним преобразование нашего тензора с помощью метода взвешивания важности слова в твите TF-IDF",
   "id": "29bc6510e3d7936f"
  },
  {
   "metadata": {
    "ExecuteTime": {
     "end_time": "2025-05-18T15:37:13.331159Z",
     "start_time": "2025-05-18T15:37:13.329041Z"
    }
   },
   "cell_type": "code",
   "source": [
    "from sklearn.feature_extraction.text import TfidfTransformer\n",
    "tfidf_transformer = TfidfTransformer()"
   ],
   "id": "f64d9f58eb999abc",
   "outputs": [],
   "execution_count": 143
  },
  {
   "metadata": {
    "ExecuteTime": {
     "end_time": "2025-05-18T15:37:13.999136Z",
     "start_time": "2025-05-18T15:37:13.332196Z"
    }
   },
   "cell_type": "code",
   "source": [
    "x_train_tfidf = tfidf_transformer.fit_transform(x_train_vectorizer)\n",
    "x_train_tfidf.toarray()"
   ],
   "id": "becccb1a977e2817",
   "outputs": [
    {
     "data": {
      "text/plain": [
       "array([[0., 0., 0., ..., 0., 0., 0.],\n",
       "       [0., 0., 0., ..., 0., 0., 0.],\n",
       "       [0., 0., 0., ..., 0., 0., 0.],\n",
       "       ...,\n",
       "       [0., 0., 0., ..., 0., 0., 0.],\n",
       "       [0., 0., 0., ..., 0., 0., 0.],\n",
       "       [0., 0., 0., ..., 0., 0., 0.]])"
      ]
     },
     "execution_count": 144,
     "metadata": {},
     "output_type": "execute_result"
    }
   ],
   "execution_count": 144
  },
  {
   "metadata": {
    "ExecuteTime": {
     "end_time": "2025-05-18T15:37:14.127741Z",
     "start_time": "2025-05-18T15:37:14.001243Z"
    }
   },
   "cell_type": "code",
   "source": [
    "x_test_tfidf = tfidf_transformer.transform(x_test_vectorizer)\n",
    "x_test_tfidf.toarray()"
   ],
   "id": "a93728cf3b87fe73",
   "outputs": [
    {
     "data": {
      "text/plain": [
       "array([[0., 0., 0., ..., 0., 0., 0.],\n",
       "       [0., 0., 0., ..., 0., 0., 0.],\n",
       "       [0., 0., 0., ..., 0., 0., 0.],\n",
       "       ...,\n",
       "       [0., 0., 0., ..., 0., 0., 0.],\n",
       "       [0., 0., 0., ..., 0., 0., 0.],\n",
       "       [0., 0., 0., ..., 0., 0., 0.]])"
      ]
     },
     "execution_count": 145,
     "metadata": {},
     "output_type": "execute_result"
    }
   ],
   "execution_count": 145
  },
  {
   "metadata": {
    "ExecuteTime": {
     "end_time": "2025-05-18T15:37:14.131307Z",
     "start_time": "2025-05-18T15:37:14.128880Z"
    }
   },
   "cell_type": "code",
   "source": [
    "from sklearn.naive_bayes import MultinomialNB\n",
    "from sklearn.metrics import classification_report\n",
    "from sklearn.metrics import confusion_matrix"
   ],
   "id": "1b06accadf2a7da5",
   "outputs": [],
   "execution_count": 146
  },
  {
   "metadata": {},
   "cell_type": "markdown",
   "source": "Теперь наши данные готовы для обучения модели наивного Байесовского классификатора с мультиномиальным распределением. ",
   "id": "c5451b9da3d02f86"
  },
  {
   "metadata": {
    "ExecuteTime": {
     "end_time": "2025-05-18T15:37:14.146437Z",
     "start_time": "2025-05-18T15:37:14.132070Z"
    }
   },
   "cell_type": "code",
   "source": "model_vectorizer= MultinomialNB().fit(x_train_vectorizer, y_train)",
   "id": "d6cc0b3820ed2213",
   "outputs": [],
   "execution_count": 147
  },
  {
   "metadata": {},
   "cell_type": "markdown",
   "source": "Произведём предсказание на нашей модели Vectorizer",
   "id": "ddef2c4a3243e3e9"
  },
  {
   "metadata": {
    "ExecuteTime": {
     "end_time": "2025-05-18T15:37:14.152081Z",
     "start_time": "2025-05-18T15:37:14.147396Z"
    }
   },
   "cell_type": "code",
   "source": "prediction_vectorizer=model_vectorizer.predict(x_test_vectorizer)",
   "id": "a866b7ea737d6868",
   "outputs": [],
   "execution_count": 148
  },
  {
   "metadata": {},
   "cell_type": "markdown",
   "source": "Поинтересуемся качеством нашего предсказания. Для этого выведем матрицу ошибок для целевых y_test, и предсказанных, prediction_vectorizer, значений",
   "id": "2672be09e9d745f6"
  },
  {
   "metadata": {
    "ExecuteTime": {
     "end_time": "2025-05-18T15:37:14.157672Z",
     "start_time": "2025-05-18T15:37:14.152982Z"
    }
   },
   "cell_type": "code",
   "source": "print(confusion_matrix(y_test,prediction_vectorizer))",
   "id": "43575645c7f6c885",
   "outputs": [
    {
     "name": "stdout",
     "output_type": "stream",
     "text": [
      "[[5920    0]\n",
      " [ 290  183]]\n"
     ]
    }
   ],
   "execution_count": 149
  },
  {
   "metadata": {},
   "cell_type": "markdown",
   "source": [
    "Этот результат нам показывает:\n",
    "* TN = 5920 - модель правильно предсказала негативность твита\n",
    "* FN = 290 - модель неправильно предсказала негативность твита\n",
    "* TP = 183 - модель правильно предсказала позитивность твита\n",
    "* FP = 0 - модель неправильно предсказала позитивность твита"
   ],
   "id": "1337bcc65af251f6"
  },
  {
   "metadata": {},
   "cell_type": "markdown",
   "source": "Посмотрим подробный отчёт по классификации",
   "id": "6c3297ec5c5cff22"
  },
  {
   "metadata": {
    "ExecuteTime": {
     "end_time": "2025-05-18T15:37:14.172597Z",
     "start_time": "2025-05-18T15:37:14.158749Z"
    }
   },
   "cell_type": "code",
   "source": "print (classification_report(y_test, prediction_vectorizer))",
   "id": "59bd507ce2f699e4",
   "outputs": [
    {
     "name": "stdout",
     "output_type": "stream",
     "text": [
      "              precision    recall  f1-score   support\n",
      "\n",
      "           0       0.95      1.00      0.98      5920\n",
      "           1       1.00      0.39      0.56       473\n",
      "\n",
      "    accuracy                           0.95      6393\n",
      "   macro avg       0.98      0.69      0.77      6393\n",
      "weighted avg       0.96      0.95      0.95      6393\n",
      "\n"
     ]
    }
   ],
   "execution_count": 150
  },
  {
   "metadata": {},
   "cell_type": "markdown",
   "source": [
    "Мы получили очень хорошие результаты предсказания.\n",
    " \n",
    "Точность соотнесения объекта класса к классам предсказанным, как этот класс - точность положительных прогнозов 95% и 100%\n",
    "\n",
    "<h1 align=\"center\"> $ precision = \\frac{ TP }{ TP + FP } $ </h1>\n",
    "\n",
    "Доля правильно идентифицированных положительных прогнозов, однако, показала результаты скромнее 100% и 39% \n",
    "\n",
    "<h1 align=\"center\"> $ recall = \\frac{ TP }{ TP + FN } $ </h1>\n",
    "\n",
    "f1-score среднее гармоническое между precision и recall:\n",
    "\n",
    "<h1 align=\"center\"> $ f1score = 2*\\frac{ recall * rpecision }{ recall + precision } $ </h1>\n",
    "\n",
    "Интерпретация значений для f1 имеет смысл:\n",
    "* f1-score > 0,9 = отлично.\n",
    "* f1-score между 0,8 и 0,9 = хорошо,\n",
    "* f1-score от 0,5 до 0,8 = среднее,\n",
    "* f1-score < 0,5 = плохо.\n",
    "\n",
    "Значит, мы получили очень хорошее предсказание для негативных твитов и чуть выше среднего для позитивных. Вероятно, это связано с недостаточностью данных"
   ],
   "id": "a79e13e073b87a39"
  },
  {
   "metadata": {},
   "cell_type": "markdown",
   "source": "Повторим вычисления на модели TF-IDF",
   "id": "64adf6d96cb44015"
  },
  {
   "metadata": {
    "ExecuteTime": {
     "end_time": "2025-05-18T15:37:14.207908Z",
     "start_time": "2025-05-18T15:37:14.175863Z"
    }
   },
   "cell_type": "code",
   "source": [
    "model_tfidf= MultinomialNB().fit(x_train_tfidf, y_train)\n",
    "prediction_tfidf=model_tfidf.predict(x_test_tfidf)\n",
    "print (classification_report(y_test, prediction_tfidf))\n",
    "print(confusion_matrix(y_test,prediction_tfidf))"
   ],
   "id": "ae1fdc197cce378a",
   "outputs": [
    {
     "name": "stdout",
     "output_type": "stream",
     "text": [
      "              precision    recall  f1-score   support\n",
      "\n",
      "           0       0.93      1.00      0.97      5920\n",
      "           1       1.00      0.11      0.19       473\n",
      "\n",
      "    accuracy                           0.93      6393\n",
      "   macro avg       0.97      0.55      0.58      6393\n",
      "weighted avg       0.94      0.93      0.91      6393\n",
      "\n",
      "[[5920    0]\n",
      " [ 422   51]]\n"
     ]
    }
   ],
   "execution_count": 151
  },
  {
   "metadata": {},
   "cell_type": "markdown",
   "source": [
    "Результаты прогноза оказались хуже, чем для Vectorizer.\n",
    "\n",
    "Попробуем увеличить количество данных и сравнить результаты\n",
    "\n",
    "Для этого воспользуемся источником дополнительных исследований https://github.com/t-davidson/hate-speech-and-offensive-language/tree/master/data"
   ],
   "id": "843691e8b6e51a70"
  },
  {
   "metadata": {
    "ExecuteTime": {
     "end_time": "2025-05-18T15:37:14.240612Z",
     "start_time": "2025-05-18T15:37:14.209098Z"
    }
   },
   "cell_type": "code",
   "source": [
    "df_label = pd.read_csv(label_path)\n",
    "df_label.head()"
   ],
   "id": "32d8aeb7bc0ae481",
   "outputs": [
    {
     "data": {
      "text/plain": [
       "   Unnamed: 0  count  hate_speech  offensive_language  neither  class  \\\n",
       "0           0      3            0                   0        3      2   \n",
       "1           1      3            0                   3        0      1   \n",
       "2           2      3            0                   3        0      1   \n",
       "3           3      3            0                   2        1      1   \n",
       "4           4      6            0                   6        0      1   \n",
       "\n",
       "                                               tweet  \n",
       "0  !!! RT @mayasolovely: As a woman you shouldn't...  \n",
       "1  !!!!! RT @mleew17: boy dats cold...tyga dwn ba...  \n",
       "2  !!!!!!! RT @UrKindOfBrand Dawg!!!! RT @80sbaby...  \n",
       "3  !!!!!!!!! RT @C_G_Anderson: @viva_based she lo...  \n",
       "4  !!!!!!!!!!!!! RT @ShenikaRoberts: The shit you...  "
      ],
      "text/html": [
       "<div>\n",
       "<style scoped>\n",
       "    .dataframe tbody tr th:only-of-type {\n",
       "        vertical-align: middle;\n",
       "    }\n",
       "\n",
       "    .dataframe tbody tr th {\n",
       "        vertical-align: top;\n",
       "    }\n",
       "\n",
       "    .dataframe thead th {\n",
       "        text-align: right;\n",
       "    }\n",
       "</style>\n",
       "<table border=\"1\" class=\"dataframe\">\n",
       "  <thead>\n",
       "    <tr style=\"text-align: right;\">\n",
       "      <th></th>\n",
       "      <th>Unnamed: 0</th>\n",
       "      <th>count</th>\n",
       "      <th>hate_speech</th>\n",
       "      <th>offensive_language</th>\n",
       "      <th>neither</th>\n",
       "      <th>class</th>\n",
       "      <th>tweet</th>\n",
       "    </tr>\n",
       "  </thead>\n",
       "  <tbody>\n",
       "    <tr>\n",
       "      <th>0</th>\n",
       "      <td>0</td>\n",
       "      <td>3</td>\n",
       "      <td>0</td>\n",
       "      <td>0</td>\n",
       "      <td>3</td>\n",
       "      <td>2</td>\n",
       "      <td>!!! RT @mayasolovely: As a woman you shouldn't...</td>\n",
       "    </tr>\n",
       "    <tr>\n",
       "      <th>1</th>\n",
       "      <td>1</td>\n",
       "      <td>3</td>\n",
       "      <td>0</td>\n",
       "      <td>3</td>\n",
       "      <td>0</td>\n",
       "      <td>1</td>\n",
       "      <td>!!!!! RT @mleew17: boy dats cold...tyga dwn ba...</td>\n",
       "    </tr>\n",
       "    <tr>\n",
       "      <th>2</th>\n",
       "      <td>2</td>\n",
       "      <td>3</td>\n",
       "      <td>0</td>\n",
       "      <td>3</td>\n",
       "      <td>0</td>\n",
       "      <td>1</td>\n",
       "      <td>!!!!!!! RT @UrKindOfBrand Dawg!!!! RT @80sbaby...</td>\n",
       "    </tr>\n",
       "    <tr>\n",
       "      <th>3</th>\n",
       "      <td>3</td>\n",
       "      <td>3</td>\n",
       "      <td>0</td>\n",
       "      <td>2</td>\n",
       "      <td>1</td>\n",
       "      <td>1</td>\n",
       "      <td>!!!!!!!!! RT @C_G_Anderson: @viva_based she lo...</td>\n",
       "    </tr>\n",
       "    <tr>\n",
       "      <th>4</th>\n",
       "      <td>4</td>\n",
       "      <td>6</td>\n",
       "      <td>0</td>\n",
       "      <td>6</td>\n",
       "      <td>0</td>\n",
       "      <td>1</td>\n",
       "      <td>!!!!!!!!!!!!! RT @ShenikaRoberts: The shit you...</td>\n",
       "    </tr>\n",
       "  </tbody>\n",
       "</table>\n",
       "</div>"
      ]
     },
     "execution_count": 152,
     "metadata": {},
     "output_type": "execute_result"
    }
   ],
   "execution_count": 152
  },
  {
   "metadata": {
    "ExecuteTime": {
     "end_time": "2025-05-20T19:57:50.613615Z",
     "start_time": "2025-05-20T19:57:50.581992Z"
    }
   },
   "cell_type": "code",
   "source": [
    "df_label = pd.read_csv(label_path)\n",
    "df_label.drop(['Unnamed: 0','count','hate_speech','offensive_language','neither'],axis=1,inplace=True)\n",
    "df_label.replace({\"class\":{0: 1}}, inplace=True)\n",
    "df_label.replace({'class':{2: 0}}, inplace=True)\n",
    "df_label.rename(columns ={'class':'label'}, inplace = True)\n",
    "df_label"
   ],
   "id": "963e2c08cd76ec7",
   "outputs": [
    {
     "data": {
      "text/plain": [
       "       label                                              tweet\n",
       "0          0  !!! RT @mayasolovely: As a woman you shouldn't...\n",
       "1          1  !!!!! RT @mleew17: boy dats cold...tyga dwn ba...\n",
       "2          1  !!!!!!! RT @UrKindOfBrand Dawg!!!! RT @80sbaby...\n",
       "3          1  !!!!!!!!! RT @C_G_Anderson: @viva_based she lo...\n",
       "4          1  !!!!!!!!!!!!! RT @ShenikaRoberts: The shit you...\n",
       "...      ...                                                ...\n",
       "24778      1  you's a muthaf***in lie &#8220;@LifeAsKing: @2...\n",
       "24779      0  you've gone and broke the wrong heart baby, an...\n",
       "24780      1  young buck wanna eat!!.. dat nigguh like I ain...\n",
       "24781      1              youu got wild bitches tellin you lies\n",
       "24782      0  ~~Ruffled | Ntac Eileen Dahlia - Beautiful col...\n",
       "\n",
       "[24783 rows x 2 columns]"
      ],
      "text/html": [
       "<div>\n",
       "<style scoped>\n",
       "    .dataframe tbody tr th:only-of-type {\n",
       "        vertical-align: middle;\n",
       "    }\n",
       "\n",
       "    .dataframe tbody tr th {\n",
       "        vertical-align: top;\n",
       "    }\n",
       "\n",
       "    .dataframe thead th {\n",
       "        text-align: right;\n",
       "    }\n",
       "</style>\n",
       "<table border=\"1\" class=\"dataframe\">\n",
       "  <thead>\n",
       "    <tr style=\"text-align: right;\">\n",
       "      <th></th>\n",
       "      <th>label</th>\n",
       "      <th>tweet</th>\n",
       "    </tr>\n",
       "  </thead>\n",
       "  <tbody>\n",
       "    <tr>\n",
       "      <th>0</th>\n",
       "      <td>0</td>\n",
       "      <td>!!! RT @mayasolovely: As a woman you shouldn't...</td>\n",
       "    </tr>\n",
       "    <tr>\n",
       "      <th>1</th>\n",
       "      <td>1</td>\n",
       "      <td>!!!!! RT @mleew17: boy dats cold...tyga dwn ba...</td>\n",
       "    </tr>\n",
       "    <tr>\n",
       "      <th>2</th>\n",
       "      <td>1</td>\n",
       "      <td>!!!!!!! RT @UrKindOfBrand Dawg!!!! RT @80sbaby...</td>\n",
       "    </tr>\n",
       "    <tr>\n",
       "      <th>3</th>\n",
       "      <td>1</td>\n",
       "      <td>!!!!!!!!! RT @C_G_Anderson: @viva_based she lo...</td>\n",
       "    </tr>\n",
       "    <tr>\n",
       "      <th>4</th>\n",
       "      <td>1</td>\n",
       "      <td>!!!!!!!!!!!!! RT @ShenikaRoberts: The shit you...</td>\n",
       "    </tr>\n",
       "    <tr>\n",
       "      <th>...</th>\n",
       "      <td>...</td>\n",
       "      <td>...</td>\n",
       "    </tr>\n",
       "    <tr>\n",
       "      <th>24778</th>\n",
       "      <td>1</td>\n",
       "      <td>you's a muthaf***in lie &amp;#8220;@LifeAsKing: @2...</td>\n",
       "    </tr>\n",
       "    <tr>\n",
       "      <th>24779</th>\n",
       "      <td>0</td>\n",
       "      <td>you've gone and broke the wrong heart baby, an...</td>\n",
       "    </tr>\n",
       "    <tr>\n",
       "      <th>24780</th>\n",
       "      <td>1</td>\n",
       "      <td>young buck wanna eat!!.. dat nigguh like I ain...</td>\n",
       "    </tr>\n",
       "    <tr>\n",
       "      <th>24781</th>\n",
       "      <td>1</td>\n",
       "      <td>youu got wild bitches tellin you lies</td>\n",
       "    </tr>\n",
       "    <tr>\n",
       "      <th>24782</th>\n",
       "      <td>0</td>\n",
       "      <td>~~Ruffled | Ntac Eileen Dahlia - Beautiful col...</td>\n",
       "    </tr>\n",
       "  </tbody>\n",
       "</table>\n",
       "<p>24783 rows × 2 columns</p>\n",
       "</div>"
      ]
     },
     "execution_count": 235,
     "metadata": {},
     "output_type": "execute_result"
    }
   ],
   "execution_count": 235
  },
  {
   "metadata": {
    "ExecuteTime": {
     "end_time": "2025-05-20T19:58:31.369619Z",
     "start_time": "2025-05-20T19:58:31.363461Z"
    }
   },
   "cell_type": "code",
   "source": [
    "frame=[df_train,df_label]\n",
    "frame"
   ],
   "id": "e0861da6cc330276",
   "outputs": [
    {
     "data": {
      "text/plain": [
       "[       label                                              tweet\n",
       " 0          0  user father dysfunct selfish drag kid dysfunct...\n",
       " 1          0   userus thanklyft credit use caus offer wheelc...\n",
       " 2          0                                     bihday majesti\n",
       " 3          0                        model love u take u time ur\n",
       " 4          0                             factsguidsocieti motiv\n",
       " ...      ...                                                ...\n",
       " 31957      0                                    ateus isz youuu\n",
       " 31958      0  see nina turner airwav tri wrap mantl genuin h...\n",
       " 31959      0           listen sad song monday morn otw work sad\n",
       " 31960      1       usersikhtempl vandaliscalgari wso condemnact\n",
       " 31961      0                                     thankus follow\n",
       " \n",
       " [31962 rows x 2 columns],\n",
       "        label                                              tweet\n",
       " 0          0  !!! RT @mayasolovely: As a woman you shouldn't...\n",
       " 1          1  !!!!! RT @mleew17: boy dats cold...tyga dwn ba...\n",
       " 2          1  !!!!!!! RT @UrKindOfBrand Dawg!!!! RT @80sbaby...\n",
       " 3          1  !!!!!!!!! RT @C_G_Anderson: @viva_based she lo...\n",
       " 4          1  !!!!!!!!!!!!! RT @ShenikaRoberts: The shit you...\n",
       " ...      ...                                                ...\n",
       " 24778      1  you's a muthaf***in lie &#8220;@LifeAsKing: @2...\n",
       " 24779      0  you've gone and broke the wrong heart baby, an...\n",
       " 24780      1  young buck wanna eat!!.. dat nigguh like I ain...\n",
       " 24781      1              youu got wild bitches tellin you lies\n",
       " 24782      0  ~~Ruffled | Ntac Eileen Dahlia - Beautiful col...\n",
       " \n",
       " [24783 rows x 2 columns]]"
      ]
     },
     "execution_count": 236,
     "metadata": {},
     "output_type": "execute_result"
    }
   ],
   "execution_count": 236
  },
  {
   "metadata": {
    "ExecuteTime": {
     "end_time": "2025-05-20T20:02:52.459521Z",
     "start_time": "2025-05-20T20:02:52.452639Z"
    }
   },
   "cell_type": "code",
   "source": [
    "df_wide = pd.concat(frame, ignore_index=True)\n",
    "df_wide"
   ],
   "id": "71f89e4412c591c2",
   "outputs": [
    {
     "data": {
      "text/plain": [
       "       label                                              tweet\n",
       "0          0  user father dysfunct selfish drag kid dysfunct...\n",
       "1          0   userus thanklyft credit use caus offer wheelc...\n",
       "2          0                                     bihday majesti\n",
       "3          0                        model love u take u time ur\n",
       "4          0                             factsguidsocieti motiv\n",
       "...      ...                                                ...\n",
       "56740      1  you's a muthaf***in lie &#8220;@LifeAsKing: @2...\n",
       "56741      0  you've gone and broke the wrong heart baby, an...\n",
       "56742      1  young buck wanna eat!!.. dat nigguh like I ain...\n",
       "56743      1              youu got wild bitches tellin you lies\n",
       "56744      0  ~~Ruffled | Ntac Eileen Dahlia - Beautiful col...\n",
       "\n",
       "[56745 rows x 2 columns]"
      ],
      "text/html": [
       "<div>\n",
       "<style scoped>\n",
       "    .dataframe tbody tr th:only-of-type {\n",
       "        vertical-align: middle;\n",
       "    }\n",
       "\n",
       "    .dataframe tbody tr th {\n",
       "        vertical-align: top;\n",
       "    }\n",
       "\n",
       "    .dataframe thead th {\n",
       "        text-align: right;\n",
       "    }\n",
       "</style>\n",
       "<table border=\"1\" class=\"dataframe\">\n",
       "  <thead>\n",
       "    <tr style=\"text-align: right;\">\n",
       "      <th></th>\n",
       "      <th>label</th>\n",
       "      <th>tweet</th>\n",
       "    </tr>\n",
       "  </thead>\n",
       "  <tbody>\n",
       "    <tr>\n",
       "      <th>0</th>\n",
       "      <td>0</td>\n",
       "      <td>user father dysfunct selfish drag kid dysfunct...</td>\n",
       "    </tr>\n",
       "    <tr>\n",
       "      <th>1</th>\n",
       "      <td>0</td>\n",
       "      <td>userus thanklyft credit use caus offer wheelc...</td>\n",
       "    </tr>\n",
       "    <tr>\n",
       "      <th>2</th>\n",
       "      <td>0</td>\n",
       "      <td>bihday majesti</td>\n",
       "    </tr>\n",
       "    <tr>\n",
       "      <th>3</th>\n",
       "      <td>0</td>\n",
       "      <td>model love u take u time ur</td>\n",
       "    </tr>\n",
       "    <tr>\n",
       "      <th>4</th>\n",
       "      <td>0</td>\n",
       "      <td>factsguidsocieti motiv</td>\n",
       "    </tr>\n",
       "    <tr>\n",
       "      <th>...</th>\n",
       "      <td>...</td>\n",
       "      <td>...</td>\n",
       "    </tr>\n",
       "    <tr>\n",
       "      <th>56740</th>\n",
       "      <td>1</td>\n",
       "      <td>you's a muthaf***in lie &amp;#8220;@LifeAsKing: @2...</td>\n",
       "    </tr>\n",
       "    <tr>\n",
       "      <th>56741</th>\n",
       "      <td>0</td>\n",
       "      <td>you've gone and broke the wrong heart baby, an...</td>\n",
       "    </tr>\n",
       "    <tr>\n",
       "      <th>56742</th>\n",
       "      <td>1</td>\n",
       "      <td>young buck wanna eat!!.. dat nigguh like I ain...</td>\n",
       "    </tr>\n",
       "    <tr>\n",
       "      <th>56743</th>\n",
       "      <td>1</td>\n",
       "      <td>youu got wild bitches tellin you lies</td>\n",
       "    </tr>\n",
       "    <tr>\n",
       "      <th>56744</th>\n",
       "      <td>0</td>\n",
       "      <td>~~Ruffled | Ntac Eileen Dahlia - Beautiful col...</td>\n",
       "    </tr>\n",
       "  </tbody>\n",
       "</table>\n",
       "<p>56745 rows × 2 columns</p>\n",
       "</div>"
      ]
     },
     "execution_count": 239,
     "metadata": {},
     "output_type": "execute_result"
    }
   ],
   "execution_count": 239
  },
  {
   "metadata": {
    "ExecuteTime": {
     "end_time": "2025-05-20T19:02:29.354559Z",
     "start_time": "2025-05-20T19:02:29.349194Z"
    }
   },
   "cell_type": "code",
   "source": "df_label.head()",
   "id": "8fe98c7a511cc2d3",
   "outputs": [
    {
     "data": {
      "text/plain": [
       "   label                                              tweet\n",
       "0      0  !!! RT @mayasolovely: As a woman you shouldn't...\n",
       "1      1  !!!!! RT @mleew17: boy dats cold...tyga dwn ba...\n",
       "2      1  !!!!!!! RT @UrKindOfBrand Dawg!!!! RT @80sbaby...\n",
       "3      1  !!!!!!!!! RT @C_G_Anderson: @viva_based she lo...\n",
       "4      1  !!!!!!!!!!!!! RT @ShenikaRoberts: The shit you..."
      ],
      "text/html": [
       "<div>\n",
       "<style scoped>\n",
       "    .dataframe tbody tr th:only-of-type {\n",
       "        vertical-align: middle;\n",
       "    }\n",
       "\n",
       "    .dataframe tbody tr th {\n",
       "        vertical-align: top;\n",
       "    }\n",
       "\n",
       "    .dataframe thead th {\n",
       "        text-align: right;\n",
       "    }\n",
       "</style>\n",
       "<table border=\"1\" class=\"dataframe\">\n",
       "  <thead>\n",
       "    <tr style=\"text-align: right;\">\n",
       "      <th></th>\n",
       "      <th>label</th>\n",
       "      <th>tweet</th>\n",
       "    </tr>\n",
       "  </thead>\n",
       "  <tbody>\n",
       "    <tr>\n",
       "      <th>0</th>\n",
       "      <td>0</td>\n",
       "      <td>!!! RT @mayasolovely: As a woman you shouldn't...</td>\n",
       "    </tr>\n",
       "    <tr>\n",
       "      <th>1</th>\n",
       "      <td>1</td>\n",
       "      <td>!!!!! RT @mleew17: boy dats cold...tyga dwn ba...</td>\n",
       "    </tr>\n",
       "    <tr>\n",
       "      <th>2</th>\n",
       "      <td>1</td>\n",
       "      <td>!!!!!!! RT @UrKindOfBrand Dawg!!!! RT @80sbaby...</td>\n",
       "    </tr>\n",
       "    <tr>\n",
       "      <th>3</th>\n",
       "      <td>1</td>\n",
       "      <td>!!!!!!!!! RT @C_G_Anderson: @viva_based she lo...</td>\n",
       "    </tr>\n",
       "    <tr>\n",
       "      <th>4</th>\n",
       "      <td>1</td>\n",
       "      <td>!!!!!!!!!!!!! RT @ShenikaRoberts: The shit you...</td>\n",
       "    </tr>\n",
       "  </tbody>\n",
       "</table>\n",
       "</div>"
      ]
     },
     "execution_count": 201,
     "metadata": {},
     "output_type": "execute_result"
    }
   ],
   "execution_count": 201
  },
  {
   "metadata": {
    "ExecuteTime": {
     "end_time": "2025-05-20T20:05:22.837312Z",
     "start_time": "2025-05-20T20:03:18.130803Z"
    }
   },
   "cell_type": "code",
   "source": [
    "df_wide['tweet'] = df_wide['tweet'].apply(clean_text)\n",
    "df_wide"
   ],
   "id": "cd98b4420855d44c",
   "outputs": [
    {
     "data": {
      "text/plain": [
       "       label                                              tweet\n",
       "0          0  user father dysfunct selfish drag kid dysfunct...\n",
       "1          0   userus thanklyft credit use caus offer wheelc...\n",
       "2          0                                     bihday majesti\n",
       "3          0                        model love u take u time ur\n",
       "4          0                             factsguidsocieti motiv\n",
       "...      ...                                                ...\n",
       "56740      1  muthaf lie lifeaskpearlcorey emanuel righttl t...\n",
       "56741      0     gone broke wrong heart babidrove redneck crazi\n",
       "56742      1  young buck wanna eat dat nigguh like aint fuck...\n",
       "56743      1                     youu got wild bitch tellin lie\n",
       "56744      0  ruffl ntac eileen dahlia beauti color combin p...\n",
       "\n",
       "[56745 rows x 2 columns]"
      ],
      "text/html": [
       "<div>\n",
       "<style scoped>\n",
       "    .dataframe tbody tr th:only-of-type {\n",
       "        vertical-align: middle;\n",
       "    }\n",
       "\n",
       "    .dataframe tbody tr th {\n",
       "        vertical-align: top;\n",
       "    }\n",
       "\n",
       "    .dataframe thead th {\n",
       "        text-align: right;\n",
       "    }\n",
       "</style>\n",
       "<table border=\"1\" class=\"dataframe\">\n",
       "  <thead>\n",
       "    <tr style=\"text-align: right;\">\n",
       "      <th></th>\n",
       "      <th>label</th>\n",
       "      <th>tweet</th>\n",
       "    </tr>\n",
       "  </thead>\n",
       "  <tbody>\n",
       "    <tr>\n",
       "      <th>0</th>\n",
       "      <td>0</td>\n",
       "      <td>user father dysfunct selfish drag kid dysfunct...</td>\n",
       "    </tr>\n",
       "    <tr>\n",
       "      <th>1</th>\n",
       "      <td>0</td>\n",
       "      <td>userus thanklyft credit use caus offer wheelc...</td>\n",
       "    </tr>\n",
       "    <tr>\n",
       "      <th>2</th>\n",
       "      <td>0</td>\n",
       "      <td>bihday majesti</td>\n",
       "    </tr>\n",
       "    <tr>\n",
       "      <th>3</th>\n",
       "      <td>0</td>\n",
       "      <td>model love u take u time ur</td>\n",
       "    </tr>\n",
       "    <tr>\n",
       "      <th>4</th>\n",
       "      <td>0</td>\n",
       "      <td>factsguidsocieti motiv</td>\n",
       "    </tr>\n",
       "    <tr>\n",
       "      <th>...</th>\n",
       "      <td>...</td>\n",
       "      <td>...</td>\n",
       "    </tr>\n",
       "    <tr>\n",
       "      <th>56740</th>\n",
       "      <td>1</td>\n",
       "      <td>muthaf lie lifeaskpearlcorey emanuel righttl t...</td>\n",
       "    </tr>\n",
       "    <tr>\n",
       "      <th>56741</th>\n",
       "      <td>0</td>\n",
       "      <td>gone broke wrong heart babidrove redneck crazi</td>\n",
       "    </tr>\n",
       "    <tr>\n",
       "      <th>56742</th>\n",
       "      <td>1</td>\n",
       "      <td>young buck wanna eat dat nigguh like aint fuck...</td>\n",
       "    </tr>\n",
       "    <tr>\n",
       "      <th>56743</th>\n",
       "      <td>1</td>\n",
       "      <td>youu got wild bitch tellin lie</td>\n",
       "    </tr>\n",
       "    <tr>\n",
       "      <th>56744</th>\n",
       "      <td>0</td>\n",
       "      <td>ruffl ntac eileen dahlia beauti color combin p...</td>\n",
       "    </tr>\n",
       "  </tbody>\n",
       "</table>\n",
       "<p>56745 rows × 2 columns</p>\n",
       "</div>"
      ]
     },
     "execution_count": 240,
     "metadata": {},
     "output_type": "execute_result"
    }
   ],
   "execution_count": 240
  },
  {
   "metadata": {
    "ExecuteTime": {
     "end_time": "2025-05-20T20:05:37.595843Z",
     "start_time": "2025-05-20T20:05:37.591186Z"
    }
   },
   "cell_type": "code",
   "source": "df_wide.tail()",
   "id": "6a9616f1be4d2337",
   "outputs": [
    {
     "data": {
      "text/plain": [
       "       label                                              tweet\n",
       "56740      1  muthaf lie lifeaskpearlcorey emanuel righttl t...\n",
       "56741      0     gone broke wrong heart babidrove redneck crazi\n",
       "56742      1  young buck wanna eat dat nigguh like aint fuck...\n",
       "56743      1                     youu got wild bitch tellin lie\n",
       "56744      0  ruffl ntac eileen dahlia beauti color combin p..."
      ],
      "text/html": [
       "<div>\n",
       "<style scoped>\n",
       "    .dataframe tbody tr th:only-of-type {\n",
       "        vertical-align: middle;\n",
       "    }\n",
       "\n",
       "    .dataframe tbody tr th {\n",
       "        vertical-align: top;\n",
       "    }\n",
       "\n",
       "    .dataframe thead th {\n",
       "        text-align: right;\n",
       "    }\n",
       "</style>\n",
       "<table border=\"1\" class=\"dataframe\">\n",
       "  <thead>\n",
       "    <tr style=\"text-align: right;\">\n",
       "      <th></th>\n",
       "      <th>label</th>\n",
       "      <th>tweet</th>\n",
       "    </tr>\n",
       "  </thead>\n",
       "  <tbody>\n",
       "    <tr>\n",
       "      <th>56740</th>\n",
       "      <td>1</td>\n",
       "      <td>muthaf lie lifeaskpearlcorey emanuel righttl t...</td>\n",
       "    </tr>\n",
       "    <tr>\n",
       "      <th>56741</th>\n",
       "      <td>0</td>\n",
       "      <td>gone broke wrong heart babidrove redneck crazi</td>\n",
       "    </tr>\n",
       "    <tr>\n",
       "      <th>56742</th>\n",
       "      <td>1</td>\n",
       "      <td>young buck wanna eat dat nigguh like aint fuck...</td>\n",
       "    </tr>\n",
       "    <tr>\n",
       "      <th>56743</th>\n",
       "      <td>1</td>\n",
       "      <td>youu got wild bitch tellin lie</td>\n",
       "    </tr>\n",
       "    <tr>\n",
       "      <th>56744</th>\n",
       "      <td>0</td>\n",
       "      <td>ruffl ntac eileen dahlia beauti color combin p...</td>\n",
       "    </tr>\n",
       "  </tbody>\n",
       "</table>\n",
       "</div>"
      ]
     },
     "execution_count": 241,
     "metadata": {},
     "output_type": "execute_result"
    }
   ],
   "execution_count": 241
  },
  {
   "metadata": {
    "ExecuteTime": {
     "end_time": "2025-05-20T20:05:44.602286Z",
     "start_time": "2025-05-20T20:05:44.471102Z"
    }
   },
   "cell_type": "code",
   "source": [
    "plt.figure(figsize=(8, 6))\n",
    "sns.countplot(data=df_wide, x='label', palette='pastel', stat='percent', hue='label')\n",
    "plt.title('sentiment of twit')\n",
    "plt.xlabel('sentiment')\n",
    "plt.ylabel('count')\n",
    "plt.legend(title='sentiment of twit', labels=['positive', 'negative'])\n",
    "plt.show()\n"
   ],
   "id": "c77aa4f9da7b905b",
   "outputs": [
    {
     "data": {
      "text/plain": [
       "<Figure size 800x600 with 1 Axes>"
      ],
      "image/png": "[encoded data removed]"
     },
     "metadata": {},
     "output_type": "display_data"
    }
   ],
   "execution_count": 242
  },
  {
   "metadata": {
    "ExecuteTime": {
     "end_time": "2025-05-20T20:05:50.223532Z",
     "start_time": "2025-05-20T20:05:50.220298Z"
    }
   },
   "cell_type": "code",
   "source": "df_wide.shape",
   "id": "6faafb1ffd1043bb",
   "outputs": [
    {
     "data": {
      "text/plain": [
       "(56745, 2)"
      ]
     },
     "execution_count": 243,
     "metadata": {},
     "output_type": "execute_result"
    }
   ],
   "execution_count": 243
  },
  {
   "metadata": {
    "ExecuteTime": {
     "end_time": "2025-05-20T20:05:57.048555Z",
     "start_time": "2025-05-20T20:05:57.045812Z"
    }
   },
   "cell_type": "code",
   "source": "df_train.shape",
   "id": "a773b951a9c83561",
   "outputs": [
    {
     "data": {
      "text/plain": [
       "(31962, 2)"
      ]
     },
     "execution_count": 244,
     "metadata": {},
     "output_type": "execute_result"
    }
   ],
   "execution_count": 244
  },
  {
   "metadata": {},
   "cell_type": "markdown",
   "source": "Повторим обучение на новом наборе данных",
   "id": "9c09f9d5d1764452"
  },
  {
   "metadata": {
    "ExecuteTime": {
     "end_time": "2025-05-20T20:05:58.558198Z",
     "start_time": "2025-05-20T20:05:58.551618Z"
    }
   },
   "cell_type": "code",
   "source": "x_train, x_test, y_train, y_test = train_test_split(df_wide['tweet'], df_wide['label'], test_size=0.2, shuffle=True)",
   "id": "4b99dc046eadc2dc",
   "outputs": [],
   "execution_count": 245
  },
  {
   "metadata": {
    "ExecuteTime": {
     "end_time": "2025-05-20T20:06:01.537098Z",
     "start_time": "2025-05-20T20:05:59.096993Z"
    }
   },
   "cell_type": "code",
   "source": [
    "count = CountVectorizer(ngram_range=(1, 4))\n",
    "x_train_vectorizer = count.fit_transform(x_train)\n",
    "x_test_vectorizer = count.transform(x_test)"
   ],
   "id": "d651950690a951db",
   "outputs": [],
   "execution_count": 246
  },
  {
   "metadata": {
    "ExecuteTime": {
     "end_time": "2025-05-20T20:06:03.966776Z",
     "start_time": "2025-05-20T20:06:02.868204Z"
    }
   },
   "cell_type": "code",
   "source": "x_train_vectorizer.toarray()",
   "id": "7cb5e8485cd0c5c",
   "outputs": [
    {
     "data": {
      "text/plain": [
       "array([[0, 0, 0, ..., 0, 0, 0],\n",
       "       [0, 0, 0, ..., 0, 0, 0],\n",
       "       [0, 0, 0, ..., 0, 0, 0],\n",
       "       ...,\n",
       "       [0, 0, 0, ..., 0, 0, 0],\n",
       "       [0, 0, 0, ..., 0, 0, 0],\n",
       "       [0, 0, 0, ..., 0, 0, 0]])"
      ]
     },
     "execution_count": 247,
     "metadata": {},
     "output_type": "execute_result"
    }
   ],
   "execution_count": 247
  },
  {
   "metadata": {
    "ExecuteTime": {
     "end_time": "2025-05-20T20:06:10.635947Z",
     "start_time": "2025-05-20T20:06:09.409875Z"
    }
   },
   "cell_type": "code",
   "source": [
    "x_train_tfidf = tfidf_transformer.fit_transform(x_train_vectorizer)\n",
    "x_train_tfidf.toarray()\n",
    "x_test_tfidf = tfidf_transformer.transform(x_test_vectorizer)\n",
    "x_test_tfidf.toarray()"
   ],
   "id": "f9917cf749930ff6",
   "outputs": [
    {
     "data": {
      "text/plain": [
       "array([[0., 0., 0., ..., 0., 0., 0.],\n",
       "       [0., 0., 0., ..., 0., 0., 0.],\n",
       "       [0., 0., 0., ..., 0., 0., 0.],\n",
       "       ...,\n",
       "       [0., 0., 0., ..., 0., 0., 0.],\n",
       "       [0., 0., 0., ..., 0., 0., 0.],\n",
       "       [0., 0., 0., ..., 0., 0., 0.]])"
      ]
     },
     "execution_count": 248,
     "metadata": {},
     "output_type": "execute_result"
    }
   ],
   "execution_count": 248
  },
  {
   "metadata": {
    "ExecuteTime": {
     "end_time": "2025-05-20T20:06:12.675887Z",
     "start_time": "2025-05-20T20:06:12.630659Z"
    }
   },
   "cell_type": "code",
   "source": [
    "model_vectorizer = MultinomialNB().fit(x_train_vectorizer, y_train)\n",
    "prediction_vectorizer = model_vectorizer.predict(x_test_vectorizer)\n",
    "print(confusion_matrix(y_test,prediction_vectorizer))\n",
    "print (classification_report(y_test, prediction_vectorizer))"
   ],
   "id": "de993ef405e7b1db",
   "outputs": [
    {
     "name": "stdout",
     "output_type": "stream",
     "text": [
      "[[6294  524]\n",
      " [ 525 4006]]\n",
      "              precision    recall  f1-score   support\n",
      "\n",
      "           0       0.92      0.92      0.92      6818\n",
      "           1       0.88      0.88      0.88      4531\n",
      "\n",
      "    accuracy                           0.91     11349\n",
      "   macro avg       0.90      0.90      0.90     11349\n",
      "weighted avg       0.91      0.91      0.91     11349\n",
      "\n"
     ]
    }
   ],
   "execution_count": 249
  },
  {
   "metadata": {
    "ExecuteTime": {
     "end_time": "2025-05-20T20:06:15.272600Z",
     "start_time": "2025-05-20T20:06:15.235331Z"
    }
   },
   "cell_type": "code",
   "source": [
    "model_tfidf= MultinomialNB().fit(x_train_tfidf, y_train)\n",
    "prediction_tfidf=model_tfidf.predict(x_test_tfidf)\n",
    "print(confusion_matrix(y_test,prediction_tfidf))\n",
    "print (classification_report(y_test, prediction_tfidf))"
   ],
   "id": "d70d262b5a7665c8",
   "outputs": [
    {
     "name": "stdout",
     "output_type": "stream",
     "text": [
      "[[6536  282]\n",
      " [ 866 3665]]\n",
      "              precision    recall  f1-score   support\n",
      "\n",
      "           0       0.88      0.96      0.92      6818\n",
      "           1       0.93      0.81      0.86      4531\n",
      "\n",
      "    accuracy                           0.90     11349\n",
      "   macro avg       0.91      0.88      0.89     11349\n",
      "weighted avg       0.90      0.90      0.90     11349\n",
      "\n"
     ]
    }
   ],
   "execution_count": 250
  },
  {
   "metadata": {
    "ExecuteTime": {
     "end_time": "2025-05-20T20:07:45.099908Z",
     "start_time": "2025-05-20T20:07:45.084869Z"
    }
   },
   "cell_type": "code",
   "source": "x_test_tfidf",
   "id": "4bbe9a601c2e42f",
   "outputs": [
    {
     "data": {
      "text/plain": [
       "<Compressed Sparse Row sparse matrix of dtype 'float64'\n",
       "\twith 80041 stored elements and shape (11349, 565648)>"
      ]
     },
     "execution_count": 252,
     "metadata": {},
     "output_type": "execute_result"
    }
   ],
   "execution_count": 252
  },
  {
   "metadata": {},
   "cell_type": "markdown",
   "source": "Мы получили значения сильно лучше, чем на первом наборе",
   "id": "ac578f0856c92abb"
  },
  {
   "metadata": {
    "ExecuteTime": {
     "end_time": "2025-05-20T20:06:27.932663Z",
     "start_time": "2025-05-20T20:06:27.773062Z"
    }
   },
   "cell_type": "code",
   "source": [
    "text = \"I love love love love love love love\"\n",
    "text = clean_text(text)\n",
    "model_tfidf.predict(text)"
   ],
   "id": "26b81c43d3329ab0",
   "outputs": [
    {
     "ename": "ValueError",
     "evalue": "Expected 2D array, got scalar array instead:\narray=love love love love love love love.\nReshape your data either using array.reshape(-1, 1) if your data has a single feature or array.reshape(1, -1) if it contains a single sample.",
     "output_type": "error",
     "traceback": [
      "\u001B[31m---------------------------------------------------------------------------\u001B[39m",
      "\u001B[31mValueError\u001B[39m                                Traceback (most recent call last)",
      "\u001B[36mCell\u001B[39m\u001B[36m \u001B[39m\u001B[32mIn[251]\u001B[39m\u001B[32m, line 3\u001B[39m\n\u001B[32m      1\u001B[39m text = \u001B[33m\"\u001B[39m\u001B[33mI love love love love love love love\u001B[39m\u001B[33m\"\u001B[39m\n\u001B[32m      2\u001B[39m text = clean_text(text)\n\u001B[32m----> \u001B[39m\u001B[32m3\u001B[39m \u001B[43mmodel_tfidf\u001B[49m\u001B[43m.\u001B[49m\u001B[43mpredict\u001B[49m\u001B[43m(\u001B[49m\u001B[43mtext\u001B[49m\u001B[43m)\u001B[49m\n",
      "\u001B[36mFile \u001B[39m\u001B[32m~/PycharmProjects/ML/virt/lib/python3.12/site-packages/sklearn/naive_bayes.py:105\u001B[39m, in \u001B[36m_BaseNB.predict\u001B[39m\u001B[34m(self, X)\u001B[39m\n\u001B[32m     91\u001B[39m \u001B[38;5;250m\u001B[39m\u001B[33;03m\"\"\"\u001B[39;00m\n\u001B[32m     92\u001B[39m \u001B[33;03mPerform classification on an array of test vectors X.\u001B[39;00m\n\u001B[32m     93\u001B[39m \n\u001B[32m   (...)\u001B[39m\u001B[32m    102\u001B[39m \u001B[33;03m    Predicted target values for X.\u001B[39;00m\n\u001B[32m    103\u001B[39m \u001B[33;03m\"\"\"\u001B[39;00m\n\u001B[32m    104\u001B[39m check_is_fitted(\u001B[38;5;28mself\u001B[39m)\n\u001B[32m--> \u001B[39m\u001B[32m105\u001B[39m X = \u001B[38;5;28;43mself\u001B[39;49m\u001B[43m.\u001B[49m\u001B[43m_check_X\u001B[49m\u001B[43m(\u001B[49m\u001B[43mX\u001B[49m\u001B[43m)\u001B[49m\n\u001B[32m    106\u001B[39m jll = \u001B[38;5;28mself\u001B[39m._joint_log_likelihood(X)\n\u001B[32m    107\u001B[39m \u001B[38;5;28;01mreturn\u001B[39;00m \u001B[38;5;28mself\u001B[39m.classes_[np.argmax(jll, axis=\u001B[32m1\u001B[39m)]\n",
      "\u001B[36mFile \u001B[39m\u001B[32m~/PycharmProjects/ML/virt/lib/python3.12/site-packages/sklearn/naive_bayes.py:577\u001B[39m, in \u001B[36m_BaseDiscreteNB._check_X\u001B[39m\u001B[34m(self, X)\u001B[39m\n\u001B[32m    575\u001B[39m \u001B[38;5;28;01mdef\u001B[39;00m\u001B[38;5;250m \u001B[39m\u001B[34m_check_X\u001B[39m(\u001B[38;5;28mself\u001B[39m, X):\n\u001B[32m    576\u001B[39m \u001B[38;5;250m    \u001B[39m\u001B[33;03m\"\"\"Validate X, used only in predict* methods.\"\"\"\u001B[39;00m\n\u001B[32m--> \u001B[39m\u001B[32m577\u001B[39m     \u001B[38;5;28;01mreturn\u001B[39;00m \u001B[43mvalidate_data\u001B[49m\u001B[43m(\u001B[49m\u001B[38;5;28;43mself\u001B[39;49m\u001B[43m,\u001B[49m\u001B[43m \u001B[49m\u001B[43mX\u001B[49m\u001B[43m,\u001B[49m\u001B[43m \u001B[49m\u001B[43maccept_sparse\u001B[49m\u001B[43m=\u001B[49m\u001B[33;43m\"\u001B[39;49m\u001B[33;43mcsr\u001B[39;49m\u001B[33;43m\"\u001B[39;49m\u001B[43m,\u001B[49m\u001B[43m \u001B[49m\u001B[43mreset\u001B[49m\u001B[43m=\u001B[49m\u001B[38;5;28;43;01mFalse\u001B[39;49;00m\u001B[43m)\u001B[49m\n",
      "\u001B[36mFile \u001B[39m\u001B[32m~/PycharmProjects/ML/virt/lib/python3.12/site-packages/sklearn/utils/validation.py:2944\u001B[39m, in \u001B[36mvalidate_data\u001B[39m\u001B[34m(_estimator, X, y, reset, validate_separately, skip_check_array, **check_params)\u001B[39m\n\u001B[32m   2942\u001B[39m         out = X, y\n\u001B[32m   2943\u001B[39m \u001B[38;5;28;01melif\u001B[39;00m \u001B[38;5;129;01mnot\u001B[39;00m no_val_X \u001B[38;5;129;01mand\u001B[39;00m no_val_y:\n\u001B[32m-> \u001B[39m\u001B[32m2944\u001B[39m     out = \u001B[43mcheck_array\u001B[49m\u001B[43m(\u001B[49m\u001B[43mX\u001B[49m\u001B[43m,\u001B[49m\u001B[43m \u001B[49m\u001B[43minput_name\u001B[49m\u001B[43m=\u001B[49m\u001B[33;43m\"\u001B[39;49m\u001B[33;43mX\u001B[39;49m\u001B[33;43m\"\u001B[39;49m\u001B[43m,\u001B[49m\u001B[43m \u001B[49m\u001B[43m*\u001B[49m\u001B[43m*\u001B[49m\u001B[43mcheck_params\u001B[49m\u001B[43m)\u001B[49m\n\u001B[32m   2945\u001B[39m \u001B[38;5;28;01melif\u001B[39;00m no_val_X \u001B[38;5;129;01mand\u001B[39;00m \u001B[38;5;129;01mnot\u001B[39;00m no_val_y:\n\u001B[32m   2946\u001B[39m     out = _check_y(y, **check_params)\n",
      "\u001B[36mFile \u001B[39m\u001B[32m~/PycharmProjects/ML/virt/lib/python3.12/site-packages/sklearn/utils/validation.py:1070\u001B[39m, in \u001B[36mcheck_array\u001B[39m\u001B[34m(array, accept_sparse, accept_large_sparse, dtype, order, copy, force_writeable, force_all_finite, ensure_all_finite, ensure_non_negative, ensure_2d, allow_nd, ensure_min_samples, ensure_min_features, estimator, input_name)\u001B[39m\n\u001B[32m   1067\u001B[39m \u001B[38;5;28;01mif\u001B[39;00m ensure_2d:\n\u001B[32m   1068\u001B[39m     \u001B[38;5;66;03m# If input is scalar raise error\u001B[39;00m\n\u001B[32m   1069\u001B[39m     \u001B[38;5;28;01mif\u001B[39;00m array.ndim == \u001B[32m0\u001B[39m:\n\u001B[32m-> \u001B[39m\u001B[32m1070\u001B[39m         \u001B[38;5;28;01mraise\u001B[39;00m \u001B[38;5;167;01mValueError\u001B[39;00m(\n\u001B[32m   1071\u001B[39m             \u001B[33m\"\u001B[39m\u001B[33mExpected 2D array, got scalar array instead:\u001B[39m\u001B[38;5;130;01m\\n\u001B[39;00m\u001B[33marray=\u001B[39m\u001B[38;5;132;01m{}\u001B[39;00m\u001B[33m.\u001B[39m\u001B[38;5;130;01m\\n\u001B[39;00m\u001B[33m\"\u001B[39m\n\u001B[32m   1072\u001B[39m             \u001B[33m\"\u001B[39m\u001B[33mReshape your data either using array.reshape(-1, 1) if \u001B[39m\u001B[33m\"\u001B[39m\n\u001B[32m   1073\u001B[39m             \u001B[33m\"\u001B[39m\u001B[33myour data has a single feature or array.reshape(1, -1) \u001B[39m\u001B[33m\"\u001B[39m\n\u001B[32m   1074\u001B[39m             \u001B[33m\"\u001B[39m\u001B[33mif it contains a single sample.\u001B[39m\u001B[33m\"\u001B[39m.format(array)\n\u001B[32m   1075\u001B[39m         )\n\u001B[32m   1076\u001B[39m     \u001B[38;5;66;03m# If input is 1D raise error\u001B[39;00m\n\u001B[32m   1077\u001B[39m     \u001B[38;5;28;01mif\u001B[39;00m array.ndim == \u001B[32m1\u001B[39m:\n\u001B[32m   1078\u001B[39m         \u001B[38;5;66;03m# If input is a Series-like object (eg. pandas Series or polars Series)\u001B[39;00m\n",
      "\u001B[31mValueError\u001B[39m: Expected 2D array, got scalar array instead:\narray=love love love love love love love.\nReshape your data either using array.reshape(-1, 1) if your data has a single feature or array.reshape(1, -1) if it contains a single sample."
     ]
    }
   ],
   "execution_count": 251
  },
  {
   "metadata": {},
   "cell_type": "code",
   "outputs": [],
   "execution_count": null,
   "source": "",
   "id": "2130b029a114545e"
  }
 ],
 "metadata": {
  "kernelspec": {
   "display_name": "Python 3 (ipykernel)",
   "language": "python",
   "name": "python3"
  },
  "language_info": {
   "codemirror_mode": {
    "name": "ipython",
    "version": 3
   },
   "file_extension": ".py",
   "mimetype": "text/x-python",
   "name": "python",
   "nbconvert_exporter": "python",
   "pygments_lexer": "ipython3",
   "version": "3.12.3"
  }
 },
 "nbformat": 4,
 "nbformat_minor": 5
}
