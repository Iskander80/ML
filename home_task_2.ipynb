{
 "cells": [
  {
   "cell_type": "code",
   "id": "initial_id",
   "metadata": {
    "ExecuteTime": {
     "end_time": "2025-05-22T14:51:24.155261Z",
     "start_time": "2025-05-22T14:51:24.153251Z"
    }
   },
   "source": [
    "import pandas as pd\n",
    "from matplotlib import pyplot as plt\n",
    "import os\n",
    "from pathlib import Path\n",
    "import seaborn as sns"
   ],
   "outputs": [],
   "execution_count": 136
  },
  {
   "metadata": {
    "ExecuteTime": {
     "end_time": "2025-05-22T14:51:24.409836Z",
     "start_time": "2025-05-22T14:51:24.407147Z"
    }
   },
   "cell_type": "code",
   "source": [
    "data_path = os.path.join(str(Path.home()), 'PycharmProjects/ML/src/data/sentiment_twitter')\n",
    "for dirname, _, filenames in os.walk(data_path):\n",
    "    for filename in filenames:\n",
    "        print(os.path.join(dirname, filename))"
   ],
   "id": "8577c5fc8564114a",
   "outputs": [
    {
     "name": "stdout",
     "output_type": "stream",
     "text": [
      "/Users/aleksandrkoval/PycharmProjects/ML/src/data/sentiment_twitter/test.csv\n",
      "/Users/aleksandrkoval/PycharmProjects/ML/src/data/sentiment_twitter/train.csv\n",
      "/Users/aleksandrkoval/PycharmProjects/ML/src/data/sentiment_twitter/labeled_data.csv\n"
     ]
    }
   ],
   "execution_count": 137
  },
  {
   "metadata": {
    "ExecuteTime": {
     "end_time": "2025-05-22T14:51:24.441570Z",
     "start_time": "2025-05-22T14:51:24.437465Z"
    }
   },
   "cell_type": "code",
   "source": [
    "path = os.path.join(str(Path.home()), 'PycharmProjects/ML/src/data/sentiment_twitter')\n",
    "test_path = os.path.join(path, os.listdir(path)[0])\n",
    "train_path = os.path.join(path, os.listdir(path)[1])\n",
    "label_path = os.path.join(path, os.listdir(path)[2])\n",
    "os.listdir(path)"
   ],
   "id": "5f0134ecec6706a7",
   "outputs": [
    {
     "data": {
      "text/plain": [
       "['test.csv', 'train.csv', 'labeled_data.csv']"
      ]
     },
     "execution_count": 138,
     "metadata": {},
     "output_type": "execute_result"
    }
   ],
   "execution_count": 138
  },
  {
   "cell_type": "code",
   "id": "f4f1d1e8cdfb32e2",
   "metadata": {
    "ExecuteTime": {
     "end_time": "2025-05-22T14:51:24.546814Z",
     "start_time": "2025-05-22T14:51:24.467314Z"
    }
   },
   "source": [
    "df_train = pd.read_csv(train_path)\n",
    "df_test = pd.read_csv(test_path)\n",
    "df_label = pd.read_csv(label_path)\n",
    "df_train.head()"
   ],
   "outputs": [
    {
     "data": {
      "text/plain": [
       "   id  label  \\\n",
       "0   1      0   \n",
       "1   2      0   \n",
       "2   3      0   \n",
       "3   4      0   \n",
       "4   5      0   \n",
       "\n",
       "                                                                                                                        tweet  \n",
       "0                       @user when a father is dysfunctional and is so selfish he drags his kids into his dysfunction.   #run  \n",
       "1  @user @user thanks for #lyft credit i can't use cause they don't offer wheelchair vans in pdx.    #disapointed #getthanked  \n",
       "2                                                                                                         bihday your majesty  \n",
       "3                                      #model   i love u take with u all the time in urð±!!! ðððð\n",
       "ð¦ð¦ð¦    \n",
       "4                                                                                      factsguide: society now    #motivation  "
      ],
      "text/html": [
       "<div>\n",
       "<style scoped>\n",
       "    .dataframe tbody tr th:only-of-type {\n",
       "        vertical-align: middle;\n",
       "    }\n",
       "\n",
       "    .dataframe tbody tr th {\n",
       "        vertical-align: top;\n",
       "    }\n",
       "\n",
       "    .dataframe thead th {\n",
       "        text-align: right;\n",
       "    }\n",
       "</style>\n",
       "<table border=\"1\" class=\"dataframe\">\n",
       "  <thead>\n",
       "    <tr style=\"text-align: right;\">\n",
       "      <th></th>\n",
       "      <th>id</th>\n",
       "      <th>label</th>\n",
       "      <th>tweet</th>\n",
       "    </tr>\n",
       "  </thead>\n",
       "  <tbody>\n",
       "    <tr>\n",
       "      <th>0</th>\n",
       "      <td>1</td>\n",
       "      <td>0</td>\n",
       "      <td>@user when a father is dysfunctional and is so selfish he drags his kids into his dysfunction.   #run</td>\n",
       "    </tr>\n",
       "    <tr>\n",
       "      <th>1</th>\n",
       "      <td>2</td>\n",
       "      <td>0</td>\n",
       "      <td>@user @user thanks for #lyft credit i can't use cause they don't offer wheelchair vans in pdx.    #disapointed #getthanked</td>\n",
       "    </tr>\n",
       "    <tr>\n",
       "      <th>2</th>\n",
       "      <td>3</td>\n",
       "      <td>0</td>\n",
       "      <td>bihday your majesty</td>\n",
       "    </tr>\n",
       "    <tr>\n",
       "      <th>3</th>\n",
       "      <td>4</td>\n",
       "      <td>0</td>\n",
       "      <td>#model   i love u take with u all the time in urð±!!! ððððð¦ð¦ð¦</td>\n",
       "    </tr>\n",
       "    <tr>\n",
       "      <th>4</th>\n",
       "      <td>5</td>\n",
       "      <td>0</td>\n",
       "      <td>factsguide: society now    #motivation</td>\n",
       "    </tr>\n",
       "  </tbody>\n",
       "</table>\n",
       "</div>"
      ]
     },
     "execution_count": 139,
     "metadata": {},
     "output_type": "execute_result"
    }
   ],
   "execution_count": 139
  },
  {
   "cell_type": "code",
   "id": "385e968222d7f7ba",
   "metadata": {
    "ExecuteTime": {
     "end_time": "2025-05-22T14:51:24.557825Z",
     "start_time": "2025-05-22T14:51:24.548135Z"
    }
   },
   "source": [
    "print(\"shape: \\n\", df_train.shape, \"\\n\")\n",
    "print(\"describe \\n\", df_train.describe(), \"\\n\")\n",
    "print(\"info \\n\", df_train.info(), \"\\n\")"
   ],
   "outputs": [
    {
     "name": "stdout",
     "output_type": "stream",
     "text": [
      "shape: \n",
      " (31962, 3) \n",
      "\n",
      "describe \n",
      "                  id         label\n",
      "count  31962.000000  31962.000000\n",
      "mean   15981.500000      0.070146\n",
      "std     9226.778988      0.255397\n",
      "min        1.000000      0.000000\n",
      "25%     7991.250000      0.000000\n",
      "50%    15981.500000      0.000000\n",
      "75%    23971.750000      0.000000\n",
      "max    31962.000000      1.000000 \n",
      "\n",
      "<class 'pandas.core.frame.DataFrame'>\n",
      "RangeIndex: 31962 entries, 0 to 31961\n",
      "Data columns (total 3 columns):\n",
      " #   Column  Non-Null Count  Dtype \n",
      "---  ------  --------------  ----- \n",
      " 0   id      31962 non-null  int64 \n",
      " 1   label   31962 non-null  int64 \n",
      " 2   tweet   31962 non-null  object\n",
      "dtypes: int64(2), object(1)\n",
      "memory usage: 749.2+ KB\n",
      "info \n",
      " None \n",
      "\n"
     ]
    }
   ],
   "execution_count": 140
  },
  {
   "cell_type": "code",
   "id": "97ffad6eb5466c73",
   "metadata": {
    "ExecuteTime": {
     "end_time": "2025-05-22T14:51:24.648297Z",
     "start_time": "2025-05-22T14:51:24.558794Z"
    }
   },
   "source": [
    "plt.figure(figsize=(8, 6))\n",
    "sns.countplot(data=df_train, x='label', palette='pastel', stat='percent', hue='label')\n",
    "plt.title('sentiment of twit')\n",
    "plt.xlabel('sentiment')\n",
    "plt.ylabel('count')\n",
    "plt.legend(title='sentiment of twit', labels=['negative', 'positive'])\n",
    "plt.show()"
   ],
   "outputs": [
    {
     "data": {
      "text/plain": [
       "<Figure size 800x600 with 1 Axes>"
      ],
      "image/png": "[encoded data removed]"
     },
     "metadata": {},
     "output_type": "display_data"
    }
   ],
   "execution_count": 141
  },
  {
   "metadata": {},
   "cell_type": "markdown",
   "source": "Негативных данных немного. Посмотрим, что мы сможем увидеть на этом наборе",
   "id": "b58e6ab8bb620fe3"
  },
  {
   "metadata": {
    "ExecuteTime": {
     "end_time": "2025-05-22T14:51:24.653442Z",
     "start_time": "2025-05-22T14:51:24.650205Z"
    }
   },
   "cell_type": "code",
   "source": "df_train.drop('id',axis=1,inplace=True)",
   "id": "61c096b822c727bc",
   "outputs": [],
   "execution_count": 142
  },
  {
   "metadata": {
    "ExecuteTime": {
     "end_time": "2025-05-22T14:51:24.658862Z",
     "start_time": "2025-05-22T14:51:24.654437Z"
    }
   },
   "cell_type": "code",
   "source": "df_label.head()",
   "id": "df88fd59986c3d9d",
   "outputs": [
    {
     "data": {
      "text/plain": [
       "   Unnamed: 0  count  hate_speech  offensive_language  neither  class  \\\n",
       "0           0      3            0                   0        3      2   \n",
       "1           1      3            0                   3        0      1   \n",
       "2           2      3            0                   3        0      1   \n",
       "3           3      3            0                   2        1      1   \n",
       "4           4      6            0                   6        0      1   \n",
       "\n",
       "                                                                                                                                          tweet  \n",
       "0  !!! RT @mayasolovely: As a woman you shouldn't complain about cleaning up your house. &amp; as a man you should always take the trash out...  \n",
       "1                                                         !!!!! RT @mleew17: boy dats cold...tyga dwn bad for cuffin dat hoe in the 1st place!!  \n",
       "2                      !!!!!!! RT @UrKindOfBrand Dawg!!!! RT @80sbaby4life: You ever fuck a bitch and she start to cry? You be confused as shit  \n",
       "3                                                                                !!!!!!!!! RT @C_G_Anderson: @viva_based she look like a tranny  \n",
       "4     !!!!!!!!!!!!! RT @ShenikaRoberts: The shit you hear about me might be true or it might be faker than the bitch who told it to ya &#57361;  "
      ],
      "text/html": [
       "<div>\n",
       "<style scoped>\n",
       "    .dataframe tbody tr th:only-of-type {\n",
       "        vertical-align: middle;\n",
       "    }\n",
       "\n",
       "    .dataframe tbody tr th {\n",
       "        vertical-align: top;\n",
       "    }\n",
       "\n",
       "    .dataframe thead th {\n",
       "        text-align: right;\n",
       "    }\n",
       "</style>\n",
       "<table border=\"1\" class=\"dataframe\">\n",
       "  <thead>\n",
       "    <tr style=\"text-align: right;\">\n",
       "      <th></th>\n",
       "      <th>Unnamed: 0</th>\n",
       "      <th>count</th>\n",
       "      <th>hate_speech</th>\n",
       "      <th>offensive_language</th>\n",
       "      <th>neither</th>\n",
       "      <th>class</th>\n",
       "      <th>tweet</th>\n",
       "    </tr>\n",
       "  </thead>\n",
       "  <tbody>\n",
       "    <tr>\n",
       "      <th>0</th>\n",
       "      <td>0</td>\n",
       "      <td>3</td>\n",
       "      <td>0</td>\n",
       "      <td>0</td>\n",
       "      <td>3</td>\n",
       "      <td>2</td>\n",
       "      <td>!!! RT @mayasolovely: As a woman you shouldn't complain about cleaning up your house. &amp;amp; as a man you should always take the trash out...</td>\n",
       "    </tr>\n",
       "    <tr>\n",
       "      <th>1</th>\n",
       "      <td>1</td>\n",
       "      <td>3</td>\n",
       "      <td>0</td>\n",
       "      <td>3</td>\n",
       "      <td>0</td>\n",
       "      <td>1</td>\n",
       "      <td>!!!!! RT @mleew17: boy dats cold...tyga dwn bad for cuffin dat hoe in the 1st place!!</td>\n",
       "    </tr>\n",
       "    <tr>\n",
       "      <th>2</th>\n",
       "      <td>2</td>\n",
       "      <td>3</td>\n",
       "      <td>0</td>\n",
       "      <td>3</td>\n",
       "      <td>0</td>\n",
       "      <td>1</td>\n",
       "      <td>!!!!!!! RT @UrKindOfBrand Dawg!!!! RT @80sbaby4life: You ever fuck a bitch and she start to cry? You be confused as shit</td>\n",
       "    </tr>\n",
       "    <tr>\n",
       "      <th>3</th>\n",
       "      <td>3</td>\n",
       "      <td>3</td>\n",
       "      <td>0</td>\n",
       "      <td>2</td>\n",
       "      <td>1</td>\n",
       "      <td>1</td>\n",
       "      <td>!!!!!!!!! RT @C_G_Anderson: @viva_based she look like a tranny</td>\n",
       "    </tr>\n",
       "    <tr>\n",
       "      <th>4</th>\n",
       "      <td>4</td>\n",
       "      <td>6</td>\n",
       "      <td>0</td>\n",
       "      <td>6</td>\n",
       "      <td>0</td>\n",
       "      <td>1</td>\n",
       "      <td>!!!!!!!!!!!!! RT @ShenikaRoberts: The shit you hear about me might be true or it might be faker than the bitch who told it to ya &amp;#57361;</td>\n",
       "    </tr>\n",
       "  </tbody>\n",
       "</table>\n",
       "</div>"
      ]
     },
     "execution_count": 143,
     "metadata": {},
     "output_type": "execute_result"
    }
   ],
   "execution_count": 143
  },
  {
   "metadata": {
    "ExecuteTime": {
     "end_time": "2025-05-22T14:51:24.700247Z",
     "start_time": "2025-05-22T14:51:24.697759Z"
    }
   },
   "cell_type": "code",
   "source": "df_label.shape",
   "id": "e4ee8566694e2fed",
   "outputs": [
    {
     "data": {
      "text/plain": [
       "(24783, 7)"
      ]
     },
     "execution_count": 144,
     "metadata": {},
     "output_type": "execute_result"
    }
   ],
   "execution_count": 144
  },
  {
   "metadata": {
    "ExecuteTime": {
     "end_time": "2025-05-22T14:51:24.783856Z",
     "start_time": "2025-05-22T14:51:24.780841Z"
    }
   },
   "cell_type": "code",
   "source": "df_train.shape",
   "id": "560b80780a3966cd",
   "outputs": [
    {
     "data": {
      "text/plain": [
       "(31962, 2)"
      ]
     },
     "execution_count": 145,
     "metadata": {},
     "output_type": "execute_result"
    }
   ],
   "execution_count": 145
  },
  {
   "metadata": {
    "ExecuteTime": {
     "end_time": "2025-05-22T14:51:24.900576Z",
     "start_time": "2025-05-22T14:51:24.897439Z"
    }
   },
   "cell_type": "code",
   "source": "df_test.shape",
   "id": "e7eaaabb7b33c7e2",
   "outputs": [
    {
     "data": {
      "text/plain": [
       "(17197, 2)"
      ]
     },
     "execution_count": 146,
     "metadata": {},
     "output_type": "execute_result"
    }
   ],
   "execution_count": 146
  },
  {
   "metadata": {
    "ExecuteTime": {
     "end_time": "2025-05-22T14:51:25.056078Z",
     "start_time": "2025-05-22T14:51:24.955969Z"
    }
   },
   "cell_type": "code",
   "source": [
    "plt.figure(figsize=(8, 6))\n",
    "sns.countplot(data=df_label, x='class', palette='pastel', stat='percent', hue='class')\n",
    "plt.title('sentiment of twit')\n",
    "plt.xlabel('sentiment')\n",
    "plt.ylabel('count')\n",
    "#plt.legend(title='sentiment of twit', labels=['positive', 'negative'])\n",
    "plt.show()"
   ],
   "id": "275f3b032bb6d3d7",
   "outputs": [
    {
     "data": {
      "text/plain": [
       "<Figure size 800x600 with 1 Axes>"
      ],
      "image/png": "[encoded data removed]"
     },
     "metadata": {},
     "output_type": "display_data"
    }
   ],
   "execution_count": 147
  },
  {
   "metadata": {},
   "cell_type": "markdown",
   "source": "Подготовка данных для обработки",
   "id": "341b1b4e18e07507"
  },
  {
   "metadata": {
    "ExecuteTime": {
     "end_time": "2025-05-22T14:51:25.060393Z",
     "start_time": "2025-05-22T14:51:25.057686Z"
    }
   },
   "cell_type": "code",
   "source": [
    "import re\n",
    "result = re.sub(r'India', 'the World', 'AV is largest Analytics community of India')\n",
    "print(result)"
   ],
   "id": "4991a6ae0e9a0f46",
   "outputs": [
    {
     "name": "stdout",
     "output_type": "stream",
     "text": [
      "AV is largest Analytics community of the World\n"
     ]
    }
   ],
   "execution_count": 148
  },
  {
   "metadata": {
    "ExecuteTime": {
     "end_time": "2025-05-22T14:51:25.063870Z",
     "start_time": "2025-05-22T14:51:25.061268Z"
    }
   },
   "cell_type": "code",
   "source": [
    "import re\n",
    "import nltk\n",
    "stemmer = nltk.SnowballStemmer(\"english\")\n",
    "from nltk.corpus import stopwords\n",
    "stopword=set(stopwords.words('english'))"
   ],
   "id": "8b6a39f6c12cdda",
   "outputs": [],
   "execution_count": 149
  },
  {
   "metadata": {
    "ExecuteTime": {
     "end_time": "2025-05-22T14:51:25.076390Z",
     "start_time": "2025-05-22T14:51:25.073007Z"
    }
   },
   "cell_type": "code",
   "source": [
    "# выполним очистку текста от синтаксического и пунктуационного мусора\n",
    "def clean_text(string): \n",
    "    string = str(string).lower() # Понизить регистры. Мы будем вызывать CountVectorizer, который по-умолчанию это выполняет, но лишний раз может оказаться не лишним.\n",
    "    string = re.sub(r\"[^a-zA-Z]\", \" \", string) # Оставляем только латинские буквы. Это сильное условие для английского текста, но не универсальное. Поэтому по развлекаемся точечно.\n",
    "    string = re.sub(r'\\[.*?\\]', '', string) # разберёмся с квадратными скобками\n",
    "    string = re.sub(r'https?://\\S+|www\\.\\S+', '', string) # убрать адресные строки\n",
    "    string = re.sub(r'<.*?>+', '', string) # убираем случайные HTML-теги\n",
    "    string = re.sub(r'[^\\w\\s]', '', string) #убрать всю пунктуацию\n",
    "    string = re.sub(r'\\n', '', string) # удалим все переносы строки\n",
    "    string = re.sub(r'\\w*\\d\\w*', '', string) # убираем слова с цифрой в середине\n",
    "    string = [word for word in string.split(' ') if word not in stopword] # очищаем текст от слов исключений\n",
    "    string= \" \".join(string)\n",
    "    string = [stemmer.stem(word) for word in string.split(' ')] # приводим слова к исходному значению, убирая склонения\n",
    "    string= \" \".join(string)\n",
    "    string = re.sub('  ', '', string) # уберём все двойные пробелы\n",
    "    #print(string)\n",
    "    return string"
   ],
   "id": "4cd3e90a839a728e",
   "outputs": [],
   "execution_count": 150
  },
  {
   "metadata": {
    "ExecuteTime": {
     "end_time": "2025-05-22T14:51:27.251190Z",
     "start_time": "2025-05-22T14:51:25.115160Z"
    }
   },
   "cell_type": "code",
   "source": [
    "df_train['tweet']=df_train['tweet'].apply(clean_text)\n",
    "df_train"
   ],
   "id": "51eaa60eb9606987",
   "outputs": [
    {
     "data": {
      "text/plain": [
       "       label  \\\n",
       "0          0   \n",
       "1          0   \n",
       "2          0   \n",
       "3          0   \n",
       "4          0   \n",
       "...      ...   \n",
       "31957      0   \n",
       "31958      0   \n",
       "31959      0   \n",
       "31960      1   \n",
       "31961      0   \n",
       "\n",
       "                                                                                     tweet  \n",
       "0                                       user father dysfunct selfish drag kid dysfunct run  \n",
       "1             useruser thanklyft credit use caus offer wheelchair van pdxdisapointgetthank  \n",
       "2                                                                           bihday majesti  \n",
       "3                                                              model love u take u time ur  \n",
       "4                                                                   factsguidsocieti motiv  \n",
       "...                                                                                    ...  \n",
       "31957                                                                    ateuser isz youuu  \n",
       "31958  see nina turner airwav tri wrap mantl genuin hero like shirley chisolm shameimwithh  \n",
       "31959                                             listen sad song monday morn otw work sad  \n",
       "31960                                         usersikhtempl vandaliscalgari wso condemnact  \n",
       "31961                                                                     thankuser follow  \n",
       "\n",
       "[31962 rows x 2 columns]"
      ],
      "text/html": [
       "<div>\n",
       "<style scoped>\n",
       "    .dataframe tbody tr th:only-of-type {\n",
       "        vertical-align: middle;\n",
       "    }\n",
       "\n",
       "    .dataframe tbody tr th {\n",
       "        vertical-align: top;\n",
       "    }\n",
       "\n",
       "    .dataframe thead th {\n",
       "        text-align: right;\n",
       "    }\n",
       "</style>\n",
       "<table border=\"1\" class=\"dataframe\">\n",
       "  <thead>\n",
       "    <tr style=\"text-align: right;\">\n",
       "      <th></th>\n",
       "      <th>label</th>\n",
       "      <th>tweet</th>\n",
       "    </tr>\n",
       "  </thead>\n",
       "  <tbody>\n",
       "    <tr>\n",
       "      <th>0</th>\n",
       "      <td>0</td>\n",
       "      <td>user father dysfunct selfish drag kid dysfunct run</td>\n",
       "    </tr>\n",
       "    <tr>\n",
       "      <th>1</th>\n",
       "      <td>0</td>\n",
       "      <td>useruser thanklyft credit use caus offer wheelchair van pdxdisapointgetthank</td>\n",
       "    </tr>\n",
       "    <tr>\n",
       "      <th>2</th>\n",
       "      <td>0</td>\n",
       "      <td>bihday majesti</td>\n",
       "    </tr>\n",
       "    <tr>\n",
       "      <th>3</th>\n",
       "      <td>0</td>\n",
       "      <td>model love u take u time ur</td>\n",
       "    </tr>\n",
       "    <tr>\n",
       "      <th>4</th>\n",
       "      <td>0</td>\n",
       "      <td>factsguidsocieti motiv</td>\n",
       "    </tr>\n",
       "    <tr>\n",
       "      <th>...</th>\n",
       "      <td>...</td>\n",
       "      <td>...</td>\n",
       "    </tr>\n",
       "    <tr>\n",
       "      <th>31957</th>\n",
       "      <td>0</td>\n",
       "      <td>ateuser isz youuu</td>\n",
       "    </tr>\n",
       "    <tr>\n",
       "      <th>31958</th>\n",
       "      <td>0</td>\n",
       "      <td>see nina turner airwav tri wrap mantl genuin hero like shirley chisolm shameimwithh</td>\n",
       "    </tr>\n",
       "    <tr>\n",
       "      <th>31959</th>\n",
       "      <td>0</td>\n",
       "      <td>listen sad song monday morn otw work sad</td>\n",
       "    </tr>\n",
       "    <tr>\n",
       "      <th>31960</th>\n",
       "      <td>1</td>\n",
       "      <td>usersikhtempl vandaliscalgari wso condemnact</td>\n",
       "    </tr>\n",
       "    <tr>\n",
       "      <th>31961</th>\n",
       "      <td>0</td>\n",
       "      <td>thankuser follow</td>\n",
       "    </tr>\n",
       "  </tbody>\n",
       "</table>\n",
       "<p>31962 rows × 2 columns</p>\n",
       "</div>"
      ]
     },
     "execution_count": 151,
     "metadata": {},
     "output_type": "execute_result"
    }
   ],
   "execution_count": 151
  },
  {
   "metadata": {
    "ExecuteTime": {
     "end_time": "2025-05-22T14:51:27.254746Z",
     "start_time": "2025-05-22T14:51:27.252428Z"
    }
   },
   "cell_type": "code",
   "source": "df_train.shape",
   "id": "2611e1ef90bf7d6c",
   "outputs": [
    {
     "data": {
      "text/plain": [
       "(31962, 2)"
      ]
     },
     "execution_count": 152,
     "metadata": {},
     "output_type": "execute_result"
    }
   ],
   "execution_count": 152
  },
  {
   "metadata": {
    "ExecuteTime": {
     "end_time": "2025-05-22T14:51:28.827622Z",
     "start_time": "2025-05-22T14:51:27.255396Z"
    }
   },
   "cell_type": "code",
   "source": [
    "df_label['tweet']=df_label['tweet'].apply(clean_text)\n",
    "df_label"
   ],
   "id": "f780a32d71d6d2f0",
   "outputs": [
    {
     "data": {
      "text/plain": [
       "       Unnamed: 0  count  hate_speech  offensive_language  neither  class  \\\n",
       "0               0      3            0                   0        3      2   \n",
       "1               1      3            0                   3        0      1   \n",
       "2               2      3            0                   3        0      1   \n",
       "3               3      3            0                   2        1      1   \n",
       "4               4      6            0                   6        0      1   \n",
       "...           ...    ...          ...                 ...      ...    ...   \n",
       "24778       25291      3            0                   2        1      1   \n",
       "24779       25292      3            0                   1        2      2   \n",
       "24780       25294      3            0                   3        0      1   \n",
       "24781       25295      6            0                   6        0      1   \n",
       "24782       25296      3            0                   0        3      2   \n",
       "\n",
       "                                                                                             tweet  \n",
       "0                                    rtmayasolovwoman complain clean hous ampman alway take trash   \n",
       "1                                          rtmleewboy dat cold tyga dwn bad cuffin dat hoest place  \n",
       "2                            rturkindofbrand dawg rtsbabi lifeever fuck bitch start criconfus shit  \n",
       "3                                                        rtc g anderson viva base look like tranni  \n",
       "4                                   rtshenikarobertshit hear might true might faker bitch told ya   \n",
       "...                                                                                            ...  \n",
       "24778                   muthaf lie lifeaskpearlcorey emanuel righttl trash minebibl scriptur hymn   \n",
       "24779                                               gone broke wrong heart babidrove redneck crazi  \n",
       "24780                                         young buck wanna eat dat nigguh like aint fuckin dis  \n",
       "24781                                                               youu got wild bitch tellin lie  \n",
       "24782  ruffl ntac eileen dahlia beauti color combin pinkorangyellowampwhitecoll http co h dyebvnzb  \n",
       "\n",
       "[24783 rows x 7 columns]"
      ],
      "text/html": [
       "<div>\n",
       "<style scoped>\n",
       "    .dataframe tbody tr th:only-of-type {\n",
       "        vertical-align: middle;\n",
       "    }\n",
       "\n",
       "    .dataframe tbody tr th {\n",
       "        vertical-align: top;\n",
       "    }\n",
       "\n",
       "    .dataframe thead th {\n",
       "        text-align: right;\n",
       "    }\n",
       "</style>\n",
       "<table border=\"1\" class=\"dataframe\">\n",
       "  <thead>\n",
       "    <tr style=\"text-align: right;\">\n",
       "      <th></th>\n",
       "      <th>Unnamed: 0</th>\n",
       "      <th>count</th>\n",
       "      <th>hate_speech</th>\n",
       "      <th>offensive_language</th>\n",
       "      <th>neither</th>\n",
       "      <th>class</th>\n",
       "      <th>tweet</th>\n",
       "    </tr>\n",
       "  </thead>\n",
       "  <tbody>\n",
       "    <tr>\n",
       "      <th>0</th>\n",
       "      <td>0</td>\n",
       "      <td>3</td>\n",
       "      <td>0</td>\n",
       "      <td>0</td>\n",
       "      <td>3</td>\n",
       "      <td>2</td>\n",
       "      <td>rtmayasolovwoman complain clean hous ampman alway take trash</td>\n",
       "    </tr>\n",
       "    <tr>\n",
       "      <th>1</th>\n",
       "      <td>1</td>\n",
       "      <td>3</td>\n",
       "      <td>0</td>\n",
       "      <td>3</td>\n",
       "      <td>0</td>\n",
       "      <td>1</td>\n",
       "      <td>rtmleewboy dat cold tyga dwn bad cuffin dat hoest place</td>\n",
       "    </tr>\n",
       "    <tr>\n",
       "      <th>2</th>\n",
       "      <td>2</td>\n",
       "      <td>3</td>\n",
       "      <td>0</td>\n",
       "      <td>3</td>\n",
       "      <td>0</td>\n",
       "      <td>1</td>\n",
       "      <td>rturkindofbrand dawg rtsbabi lifeever fuck bitch start criconfus shit</td>\n",
       "    </tr>\n",
       "    <tr>\n",
       "      <th>3</th>\n",
       "      <td>3</td>\n",
       "      <td>3</td>\n",
       "      <td>0</td>\n",
       "      <td>2</td>\n",
       "      <td>1</td>\n",
       "      <td>1</td>\n",
       "      <td>rtc g anderson viva base look like tranni</td>\n",
       "    </tr>\n",
       "    <tr>\n",
       "      <th>4</th>\n",
       "      <td>4</td>\n",
       "      <td>6</td>\n",
       "      <td>0</td>\n",
       "      <td>6</td>\n",
       "      <td>0</td>\n",
       "      <td>1</td>\n",
       "      <td>rtshenikarobertshit hear might true might faker bitch told ya</td>\n",
       "    </tr>\n",
       "    <tr>\n",
       "      <th>...</th>\n",
       "      <td>...</td>\n",
       "      <td>...</td>\n",
       "      <td>...</td>\n",
       "      <td>...</td>\n",
       "      <td>...</td>\n",
       "      <td>...</td>\n",
       "      <td>...</td>\n",
       "    </tr>\n",
       "    <tr>\n",
       "      <th>24778</th>\n",
       "      <td>25291</td>\n",
       "      <td>3</td>\n",
       "      <td>0</td>\n",
       "      <td>2</td>\n",
       "      <td>1</td>\n",
       "      <td>1</td>\n",
       "      <td>muthaf lie lifeaskpearlcorey emanuel righttl trash minebibl scriptur hymn</td>\n",
       "    </tr>\n",
       "    <tr>\n",
       "      <th>24779</th>\n",
       "      <td>25292</td>\n",
       "      <td>3</td>\n",
       "      <td>0</td>\n",
       "      <td>1</td>\n",
       "      <td>2</td>\n",
       "      <td>2</td>\n",
       "      <td>gone broke wrong heart babidrove redneck crazi</td>\n",
       "    </tr>\n",
       "    <tr>\n",
       "      <th>24780</th>\n",
       "      <td>25294</td>\n",
       "      <td>3</td>\n",
       "      <td>0</td>\n",
       "      <td>3</td>\n",
       "      <td>0</td>\n",
       "      <td>1</td>\n",
       "      <td>young buck wanna eat dat nigguh like aint fuckin dis</td>\n",
       "    </tr>\n",
       "    <tr>\n",
       "      <th>24781</th>\n",
       "      <td>25295</td>\n",
       "      <td>6</td>\n",
       "      <td>0</td>\n",
       "      <td>6</td>\n",
       "      <td>0</td>\n",
       "      <td>1</td>\n",
       "      <td>youu got wild bitch tellin lie</td>\n",
       "    </tr>\n",
       "    <tr>\n",
       "      <th>24782</th>\n",
       "      <td>25296</td>\n",
       "      <td>3</td>\n",
       "      <td>0</td>\n",
       "      <td>0</td>\n",
       "      <td>3</td>\n",
       "      <td>2</td>\n",
       "      <td>ruffl ntac eileen dahlia beauti color combin pinkorangyellowampwhitecoll http co h dyebvnzb</td>\n",
       "    </tr>\n",
       "  </tbody>\n",
       "</table>\n",
       "<p>24783 rows × 7 columns</p>\n",
       "</div>"
      ]
     },
     "execution_count": 153,
     "metadata": {},
     "output_type": "execute_result"
    }
   ],
   "execution_count": 153
  },
  {
   "metadata": {
    "ExecuteTime": {
     "end_time": "2025-05-22T14:51:28.832862Z",
     "start_time": "2025-05-22T14:51:28.829389Z"
    }
   },
   "cell_type": "code",
   "source": "df_train.head()",
   "id": "cd0d723959fdb149",
   "outputs": [
    {
     "data": {
      "text/plain": [
       "   label  \\\n",
       "0      0   \n",
       "1      0   \n",
       "2      0   \n",
       "3      0   \n",
       "4      0   \n",
       "\n",
       "                                                                           tweet  \n",
       "0                             user father dysfunct selfish drag kid dysfunct run  \n",
       "1   useruser thanklyft credit use caus offer wheelchair van pdxdisapointgetthank  \n",
       "2                                                                 bihday majesti  \n",
       "3                                                    model love u take u time ur  \n",
       "4                                                         factsguidsocieti motiv  "
      ],
      "text/html": [
       "<div>\n",
       "<style scoped>\n",
       "    .dataframe tbody tr th:only-of-type {\n",
       "        vertical-align: middle;\n",
       "    }\n",
       "\n",
       "    .dataframe tbody tr th {\n",
       "        vertical-align: top;\n",
       "    }\n",
       "\n",
       "    .dataframe thead th {\n",
       "        text-align: right;\n",
       "    }\n",
       "</style>\n",
       "<table border=\"1\" class=\"dataframe\">\n",
       "  <thead>\n",
       "    <tr style=\"text-align: right;\">\n",
       "      <th></th>\n",
       "      <th>label</th>\n",
       "      <th>tweet</th>\n",
       "    </tr>\n",
       "  </thead>\n",
       "  <tbody>\n",
       "    <tr>\n",
       "      <th>0</th>\n",
       "      <td>0</td>\n",
       "      <td>user father dysfunct selfish drag kid dysfunct run</td>\n",
       "    </tr>\n",
       "    <tr>\n",
       "      <th>1</th>\n",
       "      <td>0</td>\n",
       "      <td>useruser thanklyft credit use caus offer wheelchair van pdxdisapointgetthank</td>\n",
       "    </tr>\n",
       "    <tr>\n",
       "      <th>2</th>\n",
       "      <td>0</td>\n",
       "      <td>bihday majesti</td>\n",
       "    </tr>\n",
       "    <tr>\n",
       "      <th>3</th>\n",
       "      <td>0</td>\n",
       "      <td>model love u take u time ur</td>\n",
       "    </tr>\n",
       "    <tr>\n",
       "      <th>4</th>\n",
       "      <td>0</td>\n",
       "      <td>factsguidsocieti motiv</td>\n",
       "    </tr>\n",
       "  </tbody>\n",
       "</table>\n",
       "</div>"
      ]
     },
     "execution_count": 154,
     "metadata": {},
     "output_type": "execute_result"
    }
   ],
   "execution_count": 154
  },
  {
   "metadata": {
    "ExecuteTime": {
     "end_time": "2025-05-22T14:51:28.835808Z",
     "start_time": "2025-05-22T14:51:28.833588Z"
    }
   },
   "cell_type": "code",
   "source": [
    "#проконтролируем тип наших данных\n",
    "x=df_train['tweet']\n",
    "y=df_train['label']\n",
    "type(x)"
   ],
   "id": "902a9aeb41fb58ee",
   "outputs": [
    {
     "data": {
      "text/plain": [
       "pandas.core.series.Series"
      ]
     },
     "execution_count": 155,
     "metadata": {},
     "output_type": "execute_result"
    }
   ],
   "execution_count": 155
  },
  {
   "metadata": {},
   "cell_type": "markdown",
   "source": "Разделим нашу выборку на обучающую и тестовую",
   "id": "7ec8ff9cdb94890f"
  },
  {
   "metadata": {
    "ExecuteTime": {
     "end_time": "2025-05-22T14:51:28.840935Z",
     "start_time": "2025-05-22T14:51:28.836489Z"
    }
   },
   "cell_type": "code",
   "source": [
    "from sklearn.model_selection import train_test_split\n",
    "\n",
    "x_train, x_test, y_train, y_test = train_test_split(x, y, test_size=0.2, shuffle=True)"
   ],
   "id": "bffc5627a55a9adf",
   "outputs": [],
   "execution_count": 156
  },
  {
   "metadata": {},
   "cell_type": "markdown",
   "source": [
    "Запустим класс CountVectorizer. Этот класс позволит выполнить преобразование нашего текста в тензор частоты слов нашего списка твитов для каждого твита.\n",
    "\n",
    "Этот класс позволяет также задавать n-граммы, смысловые последовательности слов, чтобы удержать контекст вхождения. Используем вхождение до 4 слов"
   ],
   "id": "1b2ef74fb0559f68"
  },
  {
   "metadata": {
    "ExecuteTime": {
     "end_time": "2025-05-22T14:51:29.534950Z",
     "start_time": "2025-05-22T14:51:28.841534Z"
    }
   },
   "cell_type": "code",
   "source": [
    "from sklearn.feature_extraction.text import CountVectorizer\n",
    "\n",
    "count = CountVectorizer(ngram_range=(1,4))\n",
    "x_train_vectorizer=count.fit_transform(x_train)"
   ],
   "id": "a3758a1e4ab692a8",
   "outputs": [],
   "execution_count": 157
  },
  {
   "metadata": {
    "ExecuteTime": {
     "end_time": "2025-05-22T14:51:30.265003Z",
     "start_time": "2025-05-22T14:51:29.536138Z"
    }
   },
   "cell_type": "code",
   "source": [
    "x_test_vectorizer=count.transform(x_test)\n",
    "x_train_vectorizer.toarray()"
   ],
   "id": "191e6112ba34fc1b",
   "outputs": [
    {
     "data": {
      "text/plain": [
       "array([[0, 0, 0, ..., 0, 0, 0],\n",
       "       [0, 0, 0, ..., 0, 0, 0],\n",
       "       [0, 0, 0, ..., 0, 0, 0],\n",
       "       ...,\n",
       "       [0, 0, 0, ..., 0, 0, 0],\n",
       "       [0, 0, 0, ..., 0, 0, 0],\n",
       "       [0, 0, 0, ..., 0, 0, 0]])"
      ]
     },
     "execution_count": 158,
     "metadata": {},
     "output_type": "execute_result"
    }
   ],
   "execution_count": 158
  },
  {
   "metadata": {},
   "cell_type": "markdown",
   "source": "Мы получили сильно разреженную матрицу с большим количеством нулей, но это ожидаемо",
   "id": "af4592599d3dbf47"
  },
  {
   "metadata": {},
   "cell_type": "markdown",
   "source": "Выполним преобразование нашего тензора с помощью метода взвешивания важности слова в твите TF-IDF",
   "id": "29bc6510e3d7936f"
  },
  {
   "metadata": {
    "ExecuteTime": {
     "end_time": "2025-05-22T14:51:30.271617Z",
     "start_time": "2025-05-22T14:51:30.268940Z"
    }
   },
   "cell_type": "code",
   "source": [
    "from sklearn.feature_extraction.text import TfidfTransformer\n",
    "tfidf_transformer = TfidfTransformer()"
   ],
   "id": "f64d9f58eb999abc",
   "outputs": [],
   "execution_count": 159
  },
  {
   "metadata": {
    "ExecuteTime": {
     "end_time": "2025-05-22T14:51:30.776797Z",
     "start_time": "2025-05-22T14:51:30.273854Z"
    }
   },
   "cell_type": "code",
   "source": [
    "x_train_tfidf = tfidf_transformer.fit_transform(x_train_vectorizer)\n",
    "x_train_tfidf.toarray()"
   ],
   "id": "becccb1a977e2817",
   "outputs": [
    {
     "data": {
      "text/plain": [
       "array([[0., 0., 0., ..., 0., 0., 0.],\n",
       "       [0., 0., 0., ..., 0., 0., 0.],\n",
       "       [0., 0., 0., ..., 0., 0., 0.],\n",
       "       ...,\n",
       "       [0., 0., 0., ..., 0., 0., 0.],\n",
       "       [0., 0., 0., ..., 0., 0., 0.],\n",
       "       [0., 0., 0., ..., 0., 0., 0.]])"
      ]
     },
     "execution_count": 160,
     "metadata": {},
     "output_type": "execute_result"
    }
   ],
   "execution_count": 160
  },
  {
   "metadata": {
    "ExecuteTime": {
     "end_time": "2025-05-22T14:51:30.862007Z",
     "start_time": "2025-05-22T14:51:30.777433Z"
    }
   },
   "cell_type": "code",
   "source": [
    "x_test_tfidf = tfidf_transformer.transform(x_test_vectorizer)\n",
    "x_test_tfidf.toarray()"
   ],
   "id": "a93728cf3b87fe73",
   "outputs": [
    {
     "data": {
      "text/plain": [
       "array([[0., 0., 0., ..., 0., 0., 0.],\n",
       "       [0., 0., 0., ..., 0., 0., 0.],\n",
       "       [0., 0., 0., ..., 0., 0., 0.],\n",
       "       ...,\n",
       "       [0., 0., 0., ..., 0., 0., 0.],\n",
       "       [0., 0., 0., ..., 0., 0., 0.],\n",
       "       [0., 0., 0., ..., 0., 0., 0.]])"
      ]
     },
     "execution_count": 161,
     "metadata": {},
     "output_type": "execute_result"
    }
   ],
   "execution_count": 161
  },
  {
   "metadata": {
    "ExecuteTime": {
     "end_time": "2025-05-22T14:51:30.865308Z",
     "start_time": "2025-05-22T14:51:30.862947Z"
    }
   },
   "cell_type": "code",
   "source": [
    "from sklearn.naive_bayes import MultinomialNB\n",
    "from sklearn.metrics import classification_report\n",
    "from sklearn.metrics import confusion_matrix"
   ],
   "id": "1b06accadf2a7da5",
   "outputs": [],
   "execution_count": 162
  },
  {
   "metadata": {},
   "cell_type": "markdown",
   "source": "Теперь наши данные готовы для обучения модели наивного Байесовского классификатора с мультиномиальным распределением. ",
   "id": "c5451b9da3d02f86"
  },
  {
   "metadata": {
    "ExecuteTime": {
     "end_time": "2025-05-22T14:51:30.879476Z",
     "start_time": "2025-05-22T14:51:30.865964Z"
    }
   },
   "cell_type": "code",
   "source": "model_vectorizer= MultinomialNB().fit(x_train_vectorizer, y_train)",
   "id": "d6cc0b3820ed2213",
   "outputs": [],
   "execution_count": 163
  },
  {
   "metadata": {},
   "cell_type": "markdown",
   "source": "Произведём предсказание на нашей модели Vectorizer",
   "id": "ddef2c4a3243e3e9"
  },
  {
   "metadata": {
    "ExecuteTime": {
     "end_time": "2025-05-22T14:51:30.884037Z",
     "start_time": "2025-05-22T14:51:30.880406Z"
    }
   },
   "cell_type": "code",
   "source": "prediction_vectorizer=model_vectorizer.predict(x_test_vectorizer)",
   "id": "a866b7ea737d6868",
   "outputs": [],
   "execution_count": 164
  },
  {
   "metadata": {},
   "cell_type": "markdown",
   "source": "Поинтересуемся качеством нашего предсказания. Для этого выведем матрицу ошибок для целевых y_test, и предсказанных, prediction_vectorizer, значений",
   "id": "2672be09e9d745f6"
  },
  {
   "metadata": {
    "ExecuteTime": {
     "end_time": "2025-05-22T14:51:30.887700Z",
     "start_time": "2025-05-22T14:51:30.884751Z"
    }
   },
   "cell_type": "code",
   "source": "print(confusion_matrix(y_test,prediction_vectorizer))",
   "id": "43575645c7f6c885",
   "outputs": [
    {
     "name": "stdout",
     "output_type": "stream",
     "text": [
      "[[5913    4]\n",
      " [ 331  145]]\n"
     ]
    }
   ],
   "execution_count": 165
  },
  {
   "metadata": {},
   "cell_type": "markdown",
   "source": [
    "Этот результат нам показывает:\n",
    "* TN = 5920 - модель правильно предсказала негативность твита\n",
    "* FN = 290 - модель неправильно предсказала негативность твита\n",
    "* TP = 183 - модель правильно предсказала позитивность твита\n",
    "* FP = 0 - модель неправильно предсказала позитивность твита"
   ],
   "id": "1337bcc65af251f6"
  },
  {
   "metadata": {},
   "cell_type": "markdown",
   "source": "Посмотрим подробный отчёт по классификации",
   "id": "6c3297ec5c5cff22"
  },
  {
   "metadata": {
    "ExecuteTime": {
     "end_time": "2025-05-22T14:51:30.894557Z",
     "start_time": "2025-05-22T14:51:30.888391Z"
    }
   },
   "cell_type": "code",
   "source": "print (classification_report(y_test, prediction_vectorizer))",
   "id": "59bd507ce2f699e4",
   "outputs": [
    {
     "name": "stdout",
     "output_type": "stream",
     "text": [
      "              precision    recall  f1-score   support\n",
      "\n",
      "           0       0.95      1.00      0.97      5917\n",
      "           1       0.97      0.30      0.46       476\n",
      "\n",
      "    accuracy                           0.95      6393\n",
      "   macro avg       0.96      0.65      0.72      6393\n",
      "weighted avg       0.95      0.95      0.93      6393\n",
      "\n"
     ]
    }
   ],
   "execution_count": 166
  },
  {
   "metadata": {},
   "cell_type": "markdown",
   "source": [
    "Мы получили очень хорошие результаты предсказания.\n",
    " \n",
    "Точность соотнесения объекта класса к классам предсказанным, как этот класс - точность положительных прогнозов 95% и 100%\n",
    "\n",
    "<h1 align=\"center\"> $ precision = \\frac{ TP }{ TP + FP } $ </h1>\n",
    "\n",
    "Доля правильно идентифицированных положительных прогнозов, однако, показала результаты скромнее 100% и 39% \n",
    "\n",
    "<h1 align=\"center\"> $ recall = \\frac{ TP }{ TP + FN } $ </h1>\n",
    "\n",
    "f1-score среднее гармоническое между precision и recall:\n",
    "\n",
    "<h1 align=\"center\"> $ f1score = 2*\\frac{ recall * rpecision }{ recall + precision } $ </h1>\n",
    "\n",
    "Интерпретация значений для f1 имеет смысл:\n",
    "* f1-score > 0,9 = отлично.\n",
    "* f1-score между 0,8 и 0,9 = хорошо,\n",
    "* f1-score от 0,5 до 0,8 = среднее,\n",
    "* f1-score < 0,5 = плохо.\n",
    "\n",
    "Значит, мы получили очень хорошее предсказание для негативных твитов и чуть выше среднего для позитивных. Вероятно, это связано с недостаточностью данных"
   ],
   "id": "a79e13e073b87a39"
  },
  {
   "metadata": {},
   "cell_type": "markdown",
   "source": "Повторим вычисления на модели TF-IDF",
   "id": "64adf6d96cb44015"
  },
  {
   "metadata": {
    "ExecuteTime": {
     "end_time": "2025-05-22T14:51:30.913947Z",
     "start_time": "2025-05-22T14:51:30.895439Z"
    }
   },
   "cell_type": "code",
   "source": [
    "model_tfidf= MultinomialNB().fit(x_train_tfidf, y_train)\n",
    "prediction_tfidf=model_tfidf.predict(x_test_tfidf)\n",
    "print (classification_report(y_test, prediction_tfidf))\n",
    "print(confusion_matrix(y_test,prediction_tfidf))"
   ],
   "id": "ae1fdc197cce378a",
   "outputs": [
    {
     "name": "stdout",
     "output_type": "stream",
     "text": [
      "              precision    recall  f1-score   support\n",
      "\n",
      "           0       0.93      1.00      0.97      5917\n",
      "           1       1.00      0.11      0.20       476\n",
      "\n",
      "    accuracy                           0.93      6393\n",
      "   macro avg       0.97      0.55      0.58      6393\n",
      "weighted avg       0.94      0.93      0.91      6393\n",
      "\n",
      "[[5917    0]\n",
      " [ 424   52]]\n"
     ]
    }
   ],
   "execution_count": 167
  },
  {
   "metadata": {},
   "cell_type": "markdown",
   "source": [
    "Результаты прогноза оказались хуже, чем для Vectorizer.\n",
    "\n",
    "Попробуем увеличить количество данных и сравнить результаты\n",
    "\n",
    "Для этого воспользуемся источником дополнительных исследований https://github.com/t-davidson/hate-speech-and-offensive-language/tree/master/data"
   ],
   "id": "843691e8b6e51a70"
  },
  {
   "metadata": {
    "ExecuteTime": {
     "end_time": "2025-05-22T14:51:30.943663Z",
     "start_time": "2025-05-22T14:51:30.914866Z"
    }
   },
   "cell_type": "code",
   "source": [
    "df_label = pd.read_csv(label_path)\n",
    "df_label.head()"
   ],
   "id": "32d8aeb7bc0ae481",
   "outputs": [
    {
     "data": {
      "text/plain": [
       "   Unnamed: 0  count  hate_speech  offensive_language  neither  class  \\\n",
       "0           0      3            0                   0        3      2   \n",
       "1           1      3            0                   3        0      1   \n",
       "2           2      3            0                   3        0      1   \n",
       "3           3      3            0                   2        1      1   \n",
       "4           4      6            0                   6        0      1   \n",
       "\n",
       "                                                                                                                                          tweet  \n",
       "0  !!! RT @mayasolovely: As a woman you shouldn't complain about cleaning up your house. &amp; as a man you should always take the trash out...  \n",
       "1                                                         !!!!! RT @mleew17: boy dats cold...tyga dwn bad for cuffin dat hoe in the 1st place!!  \n",
       "2                      !!!!!!! RT @UrKindOfBrand Dawg!!!! RT @80sbaby4life: You ever fuck a bitch and she start to cry? You be confused as shit  \n",
       "3                                                                                !!!!!!!!! RT @C_G_Anderson: @viva_based she look like a tranny  \n",
       "4     !!!!!!!!!!!!! RT @ShenikaRoberts: The shit you hear about me might be true or it might be faker than the bitch who told it to ya &#57361;  "
      ],
      "text/html": [
       "<div>\n",
       "<style scoped>\n",
       "    .dataframe tbody tr th:only-of-type {\n",
       "        vertical-align: middle;\n",
       "    }\n",
       "\n",
       "    .dataframe tbody tr th {\n",
       "        vertical-align: top;\n",
       "    }\n",
       "\n",
       "    .dataframe thead th {\n",
       "        text-align: right;\n",
       "    }\n",
       "</style>\n",
       "<table border=\"1\" class=\"dataframe\">\n",
       "  <thead>\n",
       "    <tr style=\"text-align: right;\">\n",
       "      <th></th>\n",
       "      <th>Unnamed: 0</th>\n",
       "      <th>count</th>\n",
       "      <th>hate_speech</th>\n",
       "      <th>offensive_language</th>\n",
       "      <th>neither</th>\n",
       "      <th>class</th>\n",
       "      <th>tweet</th>\n",
       "    </tr>\n",
       "  </thead>\n",
       "  <tbody>\n",
       "    <tr>\n",
       "      <th>0</th>\n",
       "      <td>0</td>\n",
       "      <td>3</td>\n",
       "      <td>0</td>\n",
       "      <td>0</td>\n",
       "      <td>3</td>\n",
       "      <td>2</td>\n",
       "      <td>!!! RT @mayasolovely: As a woman you shouldn't complain about cleaning up your house. &amp;amp; as a man you should always take the trash out...</td>\n",
       "    </tr>\n",
       "    <tr>\n",
       "      <th>1</th>\n",
       "      <td>1</td>\n",
       "      <td>3</td>\n",
       "      <td>0</td>\n",
       "      <td>3</td>\n",
       "      <td>0</td>\n",
       "      <td>1</td>\n",
       "      <td>!!!!! RT @mleew17: boy dats cold...tyga dwn bad for cuffin dat hoe in the 1st place!!</td>\n",
       "    </tr>\n",
       "    <tr>\n",
       "      <th>2</th>\n",
       "      <td>2</td>\n",
       "      <td>3</td>\n",
       "      <td>0</td>\n",
       "      <td>3</td>\n",
       "      <td>0</td>\n",
       "      <td>1</td>\n",
       "      <td>!!!!!!! RT @UrKindOfBrand Dawg!!!! RT @80sbaby4life: You ever fuck a bitch and she start to cry? You be confused as shit</td>\n",
       "    </tr>\n",
       "    <tr>\n",
       "      <th>3</th>\n",
       "      <td>3</td>\n",
       "      <td>3</td>\n",
       "      <td>0</td>\n",
       "      <td>2</td>\n",
       "      <td>1</td>\n",
       "      <td>1</td>\n",
       "      <td>!!!!!!!!! RT @C_G_Anderson: @viva_based she look like a tranny</td>\n",
       "    </tr>\n",
       "    <tr>\n",
       "      <th>4</th>\n",
       "      <td>4</td>\n",
       "      <td>6</td>\n",
       "      <td>0</td>\n",
       "      <td>6</td>\n",
       "      <td>0</td>\n",
       "      <td>1</td>\n",
       "      <td>!!!!!!!!!!!!! RT @ShenikaRoberts: The shit you hear about me might be true or it might be faker than the bitch who told it to ya &amp;#57361;</td>\n",
       "    </tr>\n",
       "  </tbody>\n",
       "</table>\n",
       "</div>"
      ]
     },
     "execution_count": 168,
     "metadata": {},
     "output_type": "execute_result"
    }
   ],
   "execution_count": 168
  },
  {
   "metadata": {
    "ExecuteTime": {
     "end_time": "2025-05-22T14:51:30.973527Z",
     "start_time": "2025-05-22T14:51:30.944647Z"
    }
   },
   "cell_type": "code",
   "source": [
    "df_label = pd.read_csv(label_path)\n",
    "df_label.drop(['Unnamed: 0','count','hate_speech','offensive_language','neither'],axis=1,inplace=True)\n",
    "df_label.replace({\"class\":{0: 1}}, inplace=True)\n",
    "df_label.replace({'class':{2: 0}}, inplace=True)\n",
    "df_label.rename(columns ={'class':'label'}, inplace = True)\n",
    "df_label.head(10)"
   ],
   "id": "963e2c08cd76ec7",
   "outputs": [
    {
     "data": {
      "text/plain": [
       "   label  \\\n",
       "0      0   \n",
       "1      1   \n",
       "2      1   \n",
       "3      1   \n",
       "4      1   \n",
       "5      1   \n",
       "6      1   \n",
       "7      1   \n",
       "8      1   \n",
       "9      1   \n",
       "\n",
       "                                                                                                                                                            tweet  \n",
       "0                    !!! RT @mayasolovely: As a woman you shouldn't complain about cleaning up your house. &amp; as a man you should always take the trash out...  \n",
       "1                                                                           !!!!! RT @mleew17: boy dats cold...tyga dwn bad for cuffin dat hoe in the 1st place!!  \n",
       "2                                        !!!!!!! RT @UrKindOfBrand Dawg!!!! RT @80sbaby4life: You ever fuck a bitch and she start to cry? You be confused as shit  \n",
       "3                                                                                                  !!!!!!!!! RT @C_G_Anderson: @viva_based she look like a tranny  \n",
       "4                       !!!!!!!!!!!!! RT @ShenikaRoberts: The shit you hear about me might be true or it might be faker than the bitch who told it to ya &#57361;  \n",
       "5  !!!!!!!!!!!!!!!!!!\"@T_Madison_x: The shit just blows me..claim you so faithful and down for somebody but still fucking with hoes! &#128514;&#128514;&#128514;\"  \n",
       "6                                                       !!!!!!\"@__BrighterDays: I can not just sit up and HATE on another bitch .. I got too much shit going on!\"  \n",
       "7                                                              !!!!&#8220;@selfiequeenbri: cause I'm tired of you big bitches coming for us skinny girls!!&#8221;  \n",
       "8                                                                                                      \" &amp; you might not get ya bitch back &amp; thats that \"  \n",
       "9                                                                                                       \" @rhythmixx_ :hobbies include: fighting Mariam\"\\n\\nbitch  "
      ],
      "text/html": [
       "<div>\n",
       "<style scoped>\n",
       "    .dataframe tbody tr th:only-of-type {\n",
       "        vertical-align: middle;\n",
       "    }\n",
       "\n",
       "    .dataframe tbody tr th {\n",
       "        vertical-align: top;\n",
       "    }\n",
       "\n",
       "    .dataframe thead th {\n",
       "        text-align: right;\n",
       "    }\n",
       "</style>\n",
       "<table border=\"1\" class=\"dataframe\">\n",
       "  <thead>\n",
       "    <tr style=\"text-align: right;\">\n",
       "      <th></th>\n",
       "      <th>label</th>\n",
       "      <th>tweet</th>\n",
       "    </tr>\n",
       "  </thead>\n",
       "  <tbody>\n",
       "    <tr>\n",
       "      <th>0</th>\n",
       "      <td>0</td>\n",
       "      <td>!!! RT @mayasolovely: As a woman you shouldn't complain about cleaning up your house. &amp;amp; as a man you should always take the trash out...</td>\n",
       "    </tr>\n",
       "    <tr>\n",
       "      <th>1</th>\n",
       "      <td>1</td>\n",
       "      <td>!!!!! RT @mleew17: boy dats cold...tyga dwn bad for cuffin dat hoe in the 1st place!!</td>\n",
       "    </tr>\n",
       "    <tr>\n",
       "      <th>2</th>\n",
       "      <td>1</td>\n",
       "      <td>!!!!!!! RT @UrKindOfBrand Dawg!!!! RT @80sbaby4life: You ever fuck a bitch and she start to cry? You be confused as shit</td>\n",
       "    </tr>\n",
       "    <tr>\n",
       "      <th>3</th>\n",
       "      <td>1</td>\n",
       "      <td>!!!!!!!!! RT @C_G_Anderson: @viva_based she look like a tranny</td>\n",
       "    </tr>\n",
       "    <tr>\n",
       "      <th>4</th>\n",
       "      <td>1</td>\n",
       "      <td>!!!!!!!!!!!!! RT @ShenikaRoberts: The shit you hear about me might be true or it might be faker than the bitch who told it to ya &amp;#57361;</td>\n",
       "    </tr>\n",
       "    <tr>\n",
       "      <th>5</th>\n",
       "      <td>1</td>\n",
       "      <td>!!!!!!!!!!!!!!!!!!\"@T_Madison_x: The shit just blows me..claim you so faithful and down for somebody but still fucking with hoes! &amp;#128514;&amp;#128514;&amp;#128514;\"</td>\n",
       "    </tr>\n",
       "    <tr>\n",
       "      <th>6</th>\n",
       "      <td>1</td>\n",
       "      <td>!!!!!!\"@__BrighterDays: I can not just sit up and HATE on another bitch .. I got too much shit going on!\"</td>\n",
       "    </tr>\n",
       "    <tr>\n",
       "      <th>7</th>\n",
       "      <td>1</td>\n",
       "      <td>!!!!&amp;#8220;@selfiequeenbri: cause I'm tired of you big bitches coming for us skinny girls!!&amp;#8221;</td>\n",
       "    </tr>\n",
       "    <tr>\n",
       "      <th>8</th>\n",
       "      <td>1</td>\n",
       "      <td>\" &amp;amp; you might not get ya bitch back &amp;amp; thats that \"</td>\n",
       "    </tr>\n",
       "    <tr>\n",
       "      <th>9</th>\n",
       "      <td>1</td>\n",
       "      <td>\" @rhythmixx_ :hobbies include: fighting Mariam\"\\n\\nbitch</td>\n",
       "    </tr>\n",
       "  </tbody>\n",
       "</table>\n",
       "</div>"
      ]
     },
     "execution_count": 169,
     "metadata": {},
     "output_type": "execute_result"
    }
   ],
   "execution_count": 169
  },
  {
   "metadata": {
    "ExecuteTime": {
     "end_time": "2025-05-22T14:51:30.978893Z",
     "start_time": "2025-05-22T14:51:30.975060Z"
    }
   },
   "cell_type": "code",
   "source": [
    "frame=[df_train,df_label]\n",
    "frame"
   ],
   "id": "e0861da6cc330276",
   "outputs": [
    {
     "data": {
      "text/plain": [
       "[       label  \\\n",
       " 0          0   \n",
       " 1          0   \n",
       " 2          0   \n",
       " 3          0   \n",
       " 4          0   \n",
       " ...      ...   \n",
       " 31957      0   \n",
       " 31958      0   \n",
       " 31959      0   \n",
       " 31960      1   \n",
       " 31961      0   \n",
       " \n",
       "                                                                                      tweet  \n",
       " 0                                       user father dysfunct selfish drag kid dysfunct run  \n",
       " 1             useruser thanklyft credit use caus offer wheelchair van pdxdisapointgetthank  \n",
       " 2                                                                           bihday majesti  \n",
       " 3                                                              model love u take u time ur  \n",
       " 4                                                                   factsguidsocieti motiv  \n",
       " ...                                                                                    ...  \n",
       " 31957                                                                    ateuser isz youuu  \n",
       " 31958  see nina turner airwav tri wrap mantl genuin hero like shirley chisolm shameimwithh  \n",
       " 31959                                             listen sad song monday morn otw work sad  \n",
       " 31960                                         usersikhtempl vandaliscalgari wso condemnact  \n",
       " 31961                                                                     thankuser follow  \n",
       " \n",
       " [31962 rows x 2 columns],\n",
       "        label  \\\n",
       " 0          0   \n",
       " 1          1   \n",
       " 2          1   \n",
       " 3          1   \n",
       " 4          1   \n",
       " ...      ...   \n",
       " 24778      1   \n",
       " 24779      0   \n",
       " 24780      1   \n",
       " 24781      1   \n",
       " 24782      0   \n",
       " \n",
       "                                                                                                                                                     tweet  \n",
       " 0            !!! RT @mayasolovely: As a woman you shouldn't complain about cleaning up your house. &amp; as a man you should always take the trash out...  \n",
       " 1                                                                   !!!!! RT @mleew17: boy dats cold...tyga dwn bad for cuffin dat hoe in the 1st place!!  \n",
       " 2                                !!!!!!! RT @UrKindOfBrand Dawg!!!! RT @80sbaby4life: You ever fuck a bitch and she start to cry? You be confused as shit  \n",
       " 3                                                                                          !!!!!!!!! RT @C_G_Anderson: @viva_based she look like a tranny  \n",
       " 4               !!!!!!!!!!!!! RT @ShenikaRoberts: The shit you hear about me might be true or it might be faker than the bitch who told it to ya &#57361;  \n",
       " ...                                                                                                                                                   ...  \n",
       " 24778  you's a muthaf***in lie &#8220;@LifeAsKing: @20_Pearls @corey_emanuel right! His TL is trash &#8230;. Now, mine? Bible scriptures and hymns&#8221;  \n",
       " 24779                                                                              you've gone and broke the wrong heart baby, and drove me redneck crazy  \n",
       " 24780                                                                                 young buck wanna eat!!.. dat nigguh like I aint fuckin dis up again  \n",
       " 24781                                                                                                               youu got wild bitches tellin you lies  \n",
       " 24782                     ~~Ruffled | Ntac Eileen Dahlia - Beautiful color combination of pink, orange, yellow &amp; white. A Coll http://t.co/H0dYEBvnZB  \n",
       " \n",
       " [24783 rows x 2 columns]]"
      ]
     },
     "execution_count": 170,
     "metadata": {},
     "output_type": "execute_result"
    }
   ],
   "execution_count": 170
  },
  {
   "metadata": {
    "ExecuteTime": {
     "end_time": "2025-05-22T14:51:30.984332Z",
     "start_time": "2025-05-22T14:51:30.979508Z"
    }
   },
   "cell_type": "code",
   "source": [
    "df_wide = pd.concat(frame, ignore_index=True)\n",
    "df_wide.head(10)"
   ],
   "id": "71f89e4412c591c2",
   "outputs": [
    {
     "data": {
      "text/plain": [
       "   label  \\\n",
       "0      0   \n",
       "1      0   \n",
       "2      0   \n",
       "3      0   \n",
       "4      0   \n",
       "5      0   \n",
       "6      0   \n",
       "7      0   \n",
       "8      0   \n",
       "9      0   \n",
       "\n",
       "                                                                               tweet  \n",
       "0                                 user father dysfunct selfish drag kid dysfunct run  \n",
       "1       useruser thanklyft credit use caus offer wheelchair van pdxdisapointgetthank  \n",
       "2                                                                     bihday majesti  \n",
       "3                                                        model love u take u time ur  \n",
       "4                                                             factsguidsocieti motiv  \n",
       "5                      huge fan fare big talk leavchao pay disput get allshowandnogo  \n",
       "6                              user camp tomorrowuseruseruseruseruseruseruser danni   \n",
       "7  next school year year examthink schoolexamhateimaginactorslifrevolutionschoolgirl  \n",
       "8                                 love land allincavchampionclevelandclevelandcavali  \n",
       "9                                                                 useruser welcom gr  "
      ],
      "text/html": [
       "<div>\n",
       "<style scoped>\n",
       "    .dataframe tbody tr th:only-of-type {\n",
       "        vertical-align: middle;\n",
       "    }\n",
       "\n",
       "    .dataframe tbody tr th {\n",
       "        vertical-align: top;\n",
       "    }\n",
       "\n",
       "    .dataframe thead th {\n",
       "        text-align: right;\n",
       "    }\n",
       "</style>\n",
       "<table border=\"1\" class=\"dataframe\">\n",
       "  <thead>\n",
       "    <tr style=\"text-align: right;\">\n",
       "      <th></th>\n",
       "      <th>label</th>\n",
       "      <th>tweet</th>\n",
       "    </tr>\n",
       "  </thead>\n",
       "  <tbody>\n",
       "    <tr>\n",
       "      <th>0</th>\n",
       "      <td>0</td>\n",
       "      <td>user father dysfunct selfish drag kid dysfunct run</td>\n",
       "    </tr>\n",
       "    <tr>\n",
       "      <th>1</th>\n",
       "      <td>0</td>\n",
       "      <td>useruser thanklyft credit use caus offer wheelchair van pdxdisapointgetthank</td>\n",
       "    </tr>\n",
       "    <tr>\n",
       "      <th>2</th>\n",
       "      <td>0</td>\n",
       "      <td>bihday majesti</td>\n",
       "    </tr>\n",
       "    <tr>\n",
       "      <th>3</th>\n",
       "      <td>0</td>\n",
       "      <td>model love u take u time ur</td>\n",
       "    </tr>\n",
       "    <tr>\n",
       "      <th>4</th>\n",
       "      <td>0</td>\n",
       "      <td>factsguidsocieti motiv</td>\n",
       "    </tr>\n",
       "    <tr>\n",
       "      <th>5</th>\n",
       "      <td>0</td>\n",
       "      <td>huge fan fare big talk leavchao pay disput get allshowandnogo</td>\n",
       "    </tr>\n",
       "    <tr>\n",
       "      <th>6</th>\n",
       "      <td>0</td>\n",
       "      <td>user camp tomorrowuseruseruseruseruseruseruser danni</td>\n",
       "    </tr>\n",
       "    <tr>\n",
       "      <th>7</th>\n",
       "      <td>0</td>\n",
       "      <td>next school year year examthink schoolexamhateimaginactorslifrevolutionschoolgirl</td>\n",
       "    </tr>\n",
       "    <tr>\n",
       "      <th>8</th>\n",
       "      <td>0</td>\n",
       "      <td>love land allincavchampionclevelandclevelandcavali</td>\n",
       "    </tr>\n",
       "    <tr>\n",
       "      <th>9</th>\n",
       "      <td>0</td>\n",
       "      <td>useruser welcom gr</td>\n",
       "    </tr>\n",
       "  </tbody>\n",
       "</table>\n",
       "</div>"
      ]
     },
     "execution_count": 171,
     "metadata": {},
     "output_type": "execute_result"
    }
   ],
   "execution_count": 171
  },
  {
   "metadata": {
    "ExecuteTime": {
     "end_time": "2025-05-22T14:51:30.988437Z",
     "start_time": "2025-05-22T14:51:30.984991Z"
    }
   },
   "cell_type": "code",
   "source": "df_label.head()",
   "id": "8fe98c7a511cc2d3",
   "outputs": [
    {
     "data": {
      "text/plain": [
       "   label  \\\n",
       "0      0   \n",
       "1      1   \n",
       "2      1   \n",
       "3      1   \n",
       "4      1   \n",
       "\n",
       "                                                                                                                                          tweet  \n",
       "0  !!! RT @mayasolovely: As a woman you shouldn't complain about cleaning up your house. &amp; as a man you should always take the trash out...  \n",
       "1                                                         !!!!! RT @mleew17: boy dats cold...tyga dwn bad for cuffin dat hoe in the 1st place!!  \n",
       "2                      !!!!!!! RT @UrKindOfBrand Dawg!!!! RT @80sbaby4life: You ever fuck a bitch and she start to cry? You be confused as shit  \n",
       "3                                                                                !!!!!!!!! RT @C_G_Anderson: @viva_based she look like a tranny  \n",
       "4     !!!!!!!!!!!!! RT @ShenikaRoberts: The shit you hear about me might be true or it might be faker than the bitch who told it to ya &#57361;  "
      ],
      "text/html": [
       "<div>\n",
       "<style scoped>\n",
       "    .dataframe tbody tr th:only-of-type {\n",
       "        vertical-align: middle;\n",
       "    }\n",
       "\n",
       "    .dataframe tbody tr th {\n",
       "        vertical-align: top;\n",
       "    }\n",
       "\n",
       "    .dataframe thead th {\n",
       "        text-align: right;\n",
       "    }\n",
       "</style>\n",
       "<table border=\"1\" class=\"dataframe\">\n",
       "  <thead>\n",
       "    <tr style=\"text-align: right;\">\n",
       "      <th></th>\n",
       "      <th>label</th>\n",
       "      <th>tweet</th>\n",
       "    </tr>\n",
       "  </thead>\n",
       "  <tbody>\n",
       "    <tr>\n",
       "      <th>0</th>\n",
       "      <td>0</td>\n",
       "      <td>!!! RT @mayasolovely: As a woman you shouldn't complain about cleaning up your house. &amp;amp; as a man you should always take the trash out...</td>\n",
       "    </tr>\n",
       "    <tr>\n",
       "      <th>1</th>\n",
       "      <td>1</td>\n",
       "      <td>!!!!! RT @mleew17: boy dats cold...tyga dwn bad for cuffin dat hoe in the 1st place!!</td>\n",
       "    </tr>\n",
       "    <tr>\n",
       "      <th>2</th>\n",
       "      <td>1</td>\n",
       "      <td>!!!!!!! RT @UrKindOfBrand Dawg!!!! RT @80sbaby4life: You ever fuck a bitch and she start to cry? You be confused as shit</td>\n",
       "    </tr>\n",
       "    <tr>\n",
       "      <th>3</th>\n",
       "      <td>1</td>\n",
       "      <td>!!!!!!!!! RT @C_G_Anderson: @viva_based she look like a tranny</td>\n",
       "    </tr>\n",
       "    <tr>\n",
       "      <th>4</th>\n",
       "      <td>1</td>\n",
       "      <td>!!!!!!!!!!!!! RT @ShenikaRoberts: The shit you hear about me might be true or it might be faker than the bitch who told it to ya &amp;#57361;</td>\n",
       "    </tr>\n",
       "  </tbody>\n",
       "</table>\n",
       "</div>"
      ]
     },
     "execution_count": 172,
     "metadata": {},
     "output_type": "execute_result"
    }
   ],
   "execution_count": 172
  },
  {
   "metadata": {
    "ExecuteTime": {
     "end_time": "2025-05-22T14:51:33.920032Z",
     "start_time": "2025-05-22T14:51:30.989049Z"
    }
   },
   "cell_type": "code",
   "source": [
    "df_wide['tweet'] = df_wide['tweet'].apply(clean_text)\n",
    "df_wide.head()"
   ],
   "id": "cd98b4420855d44c",
   "outputs": [
    {
     "data": {
      "text/plain": [
       "   label  \\\n",
       "0      0   \n",
       "1      0   \n",
       "2      0   \n",
       "3      0   \n",
       "4      0   \n",
       "\n",
       "                                                                         tweet  \n",
       "0                           user father dysfunct selfish drag kid dysfunct run  \n",
       "1   userus thanklyft credit use caus offer wheelchair van pdxdisapointgetthank  \n",
       "2                                                               bihday majesti  \n",
       "3                                                  model love u take u time ur  \n",
       "4                                                       factsguidsocieti motiv  "
      ],
      "text/html": [
       "<div>\n",
       "<style scoped>\n",
       "    .dataframe tbody tr th:only-of-type {\n",
       "        vertical-align: middle;\n",
       "    }\n",
       "\n",
       "    .dataframe tbody tr th {\n",
       "        vertical-align: top;\n",
       "    }\n",
       "\n",
       "    .dataframe thead th {\n",
       "        text-align: right;\n",
       "    }\n",
       "</style>\n",
       "<table border=\"1\" class=\"dataframe\">\n",
       "  <thead>\n",
       "    <tr style=\"text-align: right;\">\n",
       "      <th></th>\n",
       "      <th>label</th>\n",
       "      <th>tweet</th>\n",
       "    </tr>\n",
       "  </thead>\n",
       "  <tbody>\n",
       "    <tr>\n",
       "      <th>0</th>\n",
       "      <td>0</td>\n",
       "      <td>user father dysfunct selfish drag kid dysfunct run</td>\n",
       "    </tr>\n",
       "    <tr>\n",
       "      <th>1</th>\n",
       "      <td>0</td>\n",
       "      <td>userus thanklyft credit use caus offer wheelchair van pdxdisapointgetthank</td>\n",
       "    </tr>\n",
       "    <tr>\n",
       "      <th>2</th>\n",
       "      <td>0</td>\n",
       "      <td>bihday majesti</td>\n",
       "    </tr>\n",
       "    <tr>\n",
       "      <th>3</th>\n",
       "      <td>0</td>\n",
       "      <td>model love u take u time ur</td>\n",
       "    </tr>\n",
       "    <tr>\n",
       "      <th>4</th>\n",
       "      <td>0</td>\n",
       "      <td>factsguidsocieti motiv</td>\n",
       "    </tr>\n",
       "  </tbody>\n",
       "</table>\n",
       "</div>"
      ]
     },
     "execution_count": 173,
     "metadata": {},
     "output_type": "execute_result"
    }
   ],
   "execution_count": 173
  },
  {
   "metadata": {
    "ExecuteTime": {
     "end_time": "2025-05-22T14:51:33.924161Z",
     "start_time": "2025-05-22T14:51:33.920892Z"
    }
   },
   "cell_type": "code",
   "source": "df_wide.tail()",
   "id": "6a9616f1be4d2337",
   "outputs": [
    {
     "data": {
      "text/plain": [
       "       label  \\\n",
       "56740      1   \n",
       "56741      0   \n",
       "56742      1   \n",
       "56743      1   \n",
       "56744      0   \n",
       "\n",
       "                                                                                             tweet  \n",
       "56740                   muthaf lie lifeaskpearlcorey emanuel righttl trash minebibl scriptur hymn   \n",
       "56741                                               gone broke wrong heart babidrove redneck crazi  \n",
       "56742                                         young buck wanna eat dat nigguh like aint fuckin dis  \n",
       "56743                                                               youu got wild bitch tellin lie  \n",
       "56744  ruffl ntac eileen dahlia beauti color combin pinkorangyellowampwhitecoll http co h dyebvnzb  "
      ],
      "text/html": [
       "<div>\n",
       "<style scoped>\n",
       "    .dataframe tbody tr th:only-of-type {\n",
       "        vertical-align: middle;\n",
       "    }\n",
       "\n",
       "    .dataframe tbody tr th {\n",
       "        vertical-align: top;\n",
       "    }\n",
       "\n",
       "    .dataframe thead th {\n",
       "        text-align: right;\n",
       "    }\n",
       "</style>\n",
       "<table border=\"1\" class=\"dataframe\">\n",
       "  <thead>\n",
       "    <tr style=\"text-align: right;\">\n",
       "      <th></th>\n",
       "      <th>label</th>\n",
       "      <th>tweet</th>\n",
       "    </tr>\n",
       "  </thead>\n",
       "  <tbody>\n",
       "    <tr>\n",
       "      <th>56740</th>\n",
       "      <td>1</td>\n",
       "      <td>muthaf lie lifeaskpearlcorey emanuel righttl trash minebibl scriptur hymn</td>\n",
       "    </tr>\n",
       "    <tr>\n",
       "      <th>56741</th>\n",
       "      <td>0</td>\n",
       "      <td>gone broke wrong heart babidrove redneck crazi</td>\n",
       "    </tr>\n",
       "    <tr>\n",
       "      <th>56742</th>\n",
       "      <td>1</td>\n",
       "      <td>young buck wanna eat dat nigguh like aint fuckin dis</td>\n",
       "    </tr>\n",
       "    <tr>\n",
       "      <th>56743</th>\n",
       "      <td>1</td>\n",
       "      <td>youu got wild bitch tellin lie</td>\n",
       "    </tr>\n",
       "    <tr>\n",
       "      <th>56744</th>\n",
       "      <td>0</td>\n",
       "      <td>ruffl ntac eileen dahlia beauti color combin pinkorangyellowampwhitecoll http co h dyebvnzb</td>\n",
       "    </tr>\n",
       "  </tbody>\n",
       "</table>\n",
       "</div>"
      ]
     },
     "execution_count": 174,
     "metadata": {},
     "output_type": "execute_result"
    }
   ],
   "execution_count": 174
  },
  {
   "metadata": {
    "ExecuteTime": {
     "end_time": "2025-05-22T14:51:34.035817Z",
     "start_time": "2025-05-22T14:51:33.924931Z"
    }
   },
   "cell_type": "code",
   "source": [
    "plt.figure(figsize=(8, 6))\n",
    "sns.countplot(data=df_wide, x='label', palette='pastel', stat='percent', hue='label')\n",
    "plt.title('sentiment of twit')\n",
    "plt.xlabel('sentiment')\n",
    "plt.ylabel('count')\n",
    "plt.legend(title='sentiment of twit', labels=['positive', 'negative'])\n",
    "plt.show()\n"
   ],
   "id": "c77aa4f9da7b905b",
   "outputs": [
    {
     "data": {
      "text/plain": [
       "<Figure size 800x600 with 1 Axes>"
      ],
      "image/png": "[encoded data removed]"
     },
     "metadata": {},
     "output_type": "display_data"
    }
   ],
   "execution_count": 175
  },
  {
   "metadata": {
    "ExecuteTime": {
     "end_time": "2025-05-22T14:51:34.039468Z",
     "start_time": "2025-05-22T14:51:34.036886Z"
    }
   },
   "cell_type": "code",
   "source": "df_wide.shape",
   "id": "6faafb1ffd1043bb",
   "outputs": [
    {
     "data": {
      "text/plain": [
       "(56745, 2)"
      ]
     },
     "execution_count": 176,
     "metadata": {},
     "output_type": "execute_result"
    }
   ],
   "execution_count": 176
  },
  {
   "metadata": {
    "ExecuteTime": {
     "end_time": "2025-05-22T14:51:34.042197Z",
     "start_time": "2025-05-22T14:51:34.040045Z"
    }
   },
   "cell_type": "code",
   "source": "df_train.shape",
   "id": "a773b951a9c83561",
   "outputs": [
    {
     "data": {
      "text/plain": [
       "(31962, 2)"
      ]
     },
     "execution_count": 177,
     "metadata": {},
     "output_type": "execute_result"
    }
   ],
   "execution_count": 177
  },
  {
   "metadata": {},
   "cell_type": "markdown",
   "source": "Повторим обучение на новом наборе данных",
   "id": "9c09f9d5d1764452"
  },
  {
   "metadata": {
    "ExecuteTime": {
     "end_time": "2025-05-22T14:51:34.050257Z",
     "start_time": "2025-05-22T14:51:34.045367Z"
    }
   },
   "cell_type": "code",
   "source": "x_wide_train, x_wide_test, y_wide_train, y_wide_test = train_test_split(df_wide['tweet'], df_wide['label'], test_size=0.2, shuffle=True)",
   "id": "4b99dc046eadc2dc",
   "outputs": [],
   "execution_count": 178
  },
  {
   "metadata": {
    "ExecuteTime": {
     "end_time": "2025-05-22T14:51:35.855981Z",
     "start_time": "2025-05-22T14:51:34.050925Z"
    }
   },
   "cell_type": "code",
   "source": [
    "count = CountVectorizer(ngram_range=(1, 4))\n",
    "x_wide_train_vectorizer = count.fit_transform(x_wide_train)\n",
    "x_wide_test_vectorizer = count.transform(x_wide_test)"
   ],
   "id": "d651950690a951db",
   "outputs": [],
   "execution_count": 179
  },
  {
   "metadata": {
    "ExecuteTime": {
     "end_time": "2025-05-22T14:51:36.770711Z",
     "start_time": "2025-05-22T14:51:35.856833Z"
    }
   },
   "cell_type": "code",
   "source": "x_wide_train_vectorizer.toarray()",
   "id": "7cb5e8485cd0c5c",
   "outputs": [
    {
     "data": {
      "text/plain": [
       "array([[0, 0, 0, ..., 0, 0, 0],\n",
       "       [0, 0, 0, ..., 0, 0, 0],\n",
       "       [0, 0, 0, ..., 0, 0, 0],\n",
       "       ...,\n",
       "       [0, 0, 0, ..., 0, 0, 0],\n",
       "       [0, 0, 0, ..., 0, 0, 0],\n",
       "       [0, 0, 0, ..., 0, 0, 0]])"
      ]
     },
     "execution_count": 180,
     "metadata": {},
     "output_type": "execute_result"
    }
   ],
   "execution_count": 180
  },
  {
   "metadata": {
    "ExecuteTime": {
     "end_time": "2025-05-22T14:51:37.958426Z",
     "start_time": "2025-05-22T14:51:36.771587Z"
    }
   },
   "cell_type": "code",
   "source": [
    "x_wide_train_tfidf = tfidf_transformer.fit_transform(x_wide_train_vectorizer)\n",
    "x_wide_train_tfidf.toarray()\n",
    "x_wide_test_tfidf = tfidf_transformer.transform(x_wide_test_vectorizer)\n",
    "x_wide_test_tfidf.toarray()"
   ],
   "id": "f9917cf749930ff6",
   "outputs": [
    {
     "data": {
      "text/plain": [
       "array([[0., 0., 0., ..., 0., 0., 0.],\n",
       "       [0., 0., 0., ..., 0., 0., 0.],\n",
       "       [0., 0., 0., ..., 0., 0., 0.],\n",
       "       ...,\n",
       "       [0., 0., 0., ..., 0., 0., 0.],\n",
       "       [0., 0., 0., ..., 0., 0., 0.],\n",
       "       [0., 0., 0., ..., 0., 0., 0.]])"
      ]
     },
     "execution_count": 181,
     "metadata": {},
     "output_type": "execute_result"
    }
   ],
   "execution_count": 181
  },
  {
   "metadata": {
    "ExecuteTime": {
     "end_time": "2025-05-22T14:51:37.991590Z",
     "start_time": "2025-05-22T14:51:37.959559Z"
    }
   },
   "cell_type": "code",
   "source": [
    "model_wide_vectorizer = MultinomialNB().fit(x_wide_train_vectorizer, y_wide_train)\n",
    "prediction_wide_vectorizer = model_wide_vectorizer.predict(x_wide_test_vectorizer)\n",
    "print(confusion_matrix(y_wide_test,prediction_wide_vectorizer))\n",
    "print (classification_report(y_wide_test, prediction_wide_vectorizer))"
   ],
   "id": "de993ef405e7b1db",
   "outputs": [
    {
     "name": "stdout",
     "output_type": "stream",
     "text": [
      "[[6199  584]\n",
      " [ 506 4060]]\n",
      "              precision    recall  f1-score   support\n",
      "\n",
      "           0       0.92      0.91      0.92      6783\n",
      "           1       0.87      0.89      0.88      4566\n",
      "\n",
      "    accuracy                           0.90     11349\n",
      "   macro avg       0.90      0.90      0.90     11349\n",
      "weighted avg       0.90      0.90      0.90     11349\n",
      "\n"
     ]
    }
   ],
   "execution_count": 182
  },
  {
   "metadata": {
    "ExecuteTime": {
     "end_time": "2025-05-22T14:51:38.020859Z",
     "start_time": "2025-05-22T14:51:37.992405Z"
    }
   },
   "cell_type": "code",
   "source": [
    "model_wide_tfidf= MultinomialNB().fit(x_wide_train_tfidf, y_wide_train)\n",
    "prediction_wide_tfidf=model_wide_tfidf.predict(x_wide_test_tfidf)\n",
    "print(confusion_matrix(y_wide_test,prediction_wide_tfidf))\n",
    "print (classification_report(y_wide_test, prediction_wide_tfidf))"
   ],
   "id": "d70d262b5a7665c8",
   "outputs": [
    {
     "name": "stdout",
     "output_type": "stream",
     "text": [
      "[[6470  313]\n",
      " [ 851 3715]]\n",
      "              precision    recall  f1-score   support\n",
      "\n",
      "           0       0.88      0.95      0.92      6783\n",
      "           1       0.92      0.81      0.86      4566\n",
      "\n",
      "    accuracy                           0.90     11349\n",
      "   macro avg       0.90      0.88      0.89     11349\n",
      "weighted avg       0.90      0.90      0.90     11349\n",
      "\n"
     ]
    }
   ],
   "execution_count": 183
  },
  {
   "metadata": {},
   "cell_type": "markdown",
   "source": "Мы получили значения сильно лучше, чем на первом наборе",
   "id": "ac578f0856c92abb"
  },
  {
   "metadata": {},
   "cell_type": "markdown",
   "source": "Попробуем поучить другими методами, например Логистической регрессией и К ближайших соседов",
   "id": "43d7fcf25a0bc569"
  },
  {
   "metadata": {
    "ExecuteTime": {
     "end_time": "2025-05-22T14:51:38.024365Z",
     "start_time": "2025-05-22T14:51:38.021576Z"
    }
   },
   "cell_type": "code",
   "source": [
    "from sklearn.linear_model import LogisticRegression\n",
    "clf = LogisticRegression()"
   ],
   "id": "996de982c89127d5",
   "outputs": [],
   "execution_count": 184
  },
  {
   "metadata": {
    "ExecuteTime": {
     "end_time": "2025-05-22T14:58:52.357066Z",
     "start_time": "2025-05-22T14:58:51.676081Z"
    }
   },
   "cell_type": "code",
   "source": [
    "clf.fit(x_train_vectorizer, y_train)\n",
    "prediction_clf=clf.predict(x_test_vectorizer)\n",
    "print(confusion_matrix(y_test,prediction_clf))\n",
    "print (classification_report(y_test, prediction_clf))"
   ],
   "id": "d91f78bdcbb5c2a3",
   "outputs": [
    {
     "name": "stdout",
     "output_type": "stream",
     "text": [
      "[[5907   10]\n",
      " [ 331  145]]\n",
      "              precision    recall  f1-score   support\n",
      "\n",
      "           0       0.95      1.00      0.97      5917\n",
      "           1       0.94      0.30      0.46       476\n",
      "\n",
      "    accuracy                           0.95      6393\n",
      "   macro avg       0.94      0.65      0.72      6393\n",
      "weighted avg       0.95      0.95      0.93      6393\n",
      "\n"
     ]
    }
   ],
   "execution_count": 187
  },
  {
   "metadata": {
    "ExecuteTime": {
     "end_time": "2025-05-22T14:59:05.453023Z",
     "start_time": "2025-05-22T14:59:04.899686Z"
    }
   },
   "cell_type": "code",
   "source": [
    "clf.fit(x_train_tfidf, y_train)\n",
    "prediction_tfidf=clf.predict(x_test_tfidf)\n",
    "print(confusion_matrix(y_test,prediction_tfidf))\n",
    "print (classification_report(y_test, prediction_tfidf))"
   ],
   "id": "2130b029a114545e",
   "outputs": [
    {
     "name": "stdout",
     "output_type": "stream",
     "text": [
      "[[5907   10]\n",
      " [ 404   72]]\n",
      "              precision    recall  f1-score   support\n",
      "\n",
      "           0       0.94      1.00      0.97      5917\n",
      "           1       0.88      0.15      0.26       476\n",
      "\n",
      "    accuracy                           0.94      6393\n",
      "   macro avg       0.91      0.57      0.61      6393\n",
      "weighted avg       0.93      0.94      0.91      6393\n",
      "\n"
     ]
    }
   ],
   "execution_count": 188
  },
  {
   "metadata": {
    "ExecuteTime": {
     "end_time": "2025-05-22T15:00:56.482045Z",
     "start_time": "2025-05-22T15:00:54.388903Z"
    }
   },
   "cell_type": "code",
   "source": [
    "clf.fit(x_wide_train_vectorizer, y_wide_train)\n",
    "prediction_clf_wide_vectoriser=clf.predict(x_wide_test_vectorizer)\n",
    "print(confusion_matrix(y_wide_test,prediction_clf_wide_vectoriser))\n",
    "print (classification_report(y_wide_test, prediction_clf_wide_vectoriser))"
   ],
   "id": "3ec55def918c93f7",
   "outputs": [
    {
     "name": "stdout",
     "output_type": "stream",
     "text": [
      "[[6586  197]\n",
      " [ 886 3680]]\n",
      "              precision    recall  f1-score   support\n",
      "\n",
      "           0       0.88      0.97      0.92      6783\n",
      "           1       0.95      0.81      0.87      4566\n",
      "\n",
      "    accuracy                           0.90     11349\n",
      "   macro avg       0.92      0.89      0.90     11349\n",
      "weighted avg       0.91      0.90      0.90     11349\n",
      "\n"
     ]
    }
   ],
   "execution_count": 190
  },
  {
   "metadata": {
    "ExecuteTime": {
     "end_time": "2025-05-22T15:04:13.162761Z",
     "start_time": "2025-05-22T15:04:12.079487Z"
    }
   },
   "cell_type": "code",
   "source": [
    "clf.fit(x_wide_train_tfidf, y_wide_train)\n",
    "prediction_clf_wide_tfidf=clf.predict(x_wide_test_tfidf)\n",
    "print(confusion_matrix(y_wide_test,prediction_clf_wide_tfidf))\n",
    "print (classification_report(y_wide_test, prediction_clf_wide_tfidf))"
   ],
   "id": "2f4f63aceb4c4b1f",
   "outputs": [
    {
     "name": "stdout",
     "output_type": "stream",
     "text": [
      "[[6311  472]\n",
      " [ 770 3796]]\n",
      "              precision    recall  f1-score   support\n",
      "\n",
      "           0       0.89      0.93      0.91      6783\n",
      "           1       0.89      0.83      0.86      4566\n",
      "\n",
      "    accuracy                           0.89     11349\n",
      "   macro avg       0.89      0.88      0.88     11349\n",
      "weighted avg       0.89      0.89      0.89     11349\n",
      "\n"
     ]
    }
   ],
   "execution_count": 193
  },
  {
   "metadata": {},
   "cell_type": "code",
   "outputs": [],
   "execution_count": null,
   "source": "",
   "id": "e1333279078c304e"
  },
  {
   "metadata": {},
   "cell_type": "markdown",
   "source": "К ближайших соседов",
   "id": "1a2b5b9cb8ec7969"
  },
  {
   "metadata": {
    "ExecuteTime": {
     "end_time": "2025-05-22T15:08:51.443775Z",
     "start_time": "2025-05-22T15:08:51.441036Z"
    }
   },
   "cell_type": "code",
   "source": [
    "from sklearn.neighbors import KNeighborsClassifier\n",
    "neigh = KNeighborsClassifier(n_neighbors=10)"
   ],
   "id": "a1a8e40013eaf59b",
   "outputs": [],
   "execution_count": 197
  },
  {
   "metadata": {
    "ExecuteTime": {
     "end_time": "2025-05-22T15:08:53.110872Z",
     "start_time": "2025-05-22T15:08:51.458418Z"
    }
   },
   "cell_type": "code",
   "source": [
    "neigh.fit(x_train_vectorizer, y_train)\n",
    "prediction_neigh=neigh.predict(x_test_vectorizer)\n",
    "print(confusion_matrix(y_test,prediction_neigh))\n",
    "print (classification_report(y_test, prediction_neigh))"
   ],
   "id": "165d29c174899e2e",
   "outputs": [
    {
     "name": "stdout",
     "output_type": "stream",
     "text": [
      "[[5916    1]\n",
      " [ 440   36]]\n",
      "              precision    recall  f1-score   support\n",
      "\n",
      "           0       0.93      1.00      0.96      5917\n",
      "           1       0.97      0.08      0.14       476\n",
      "\n",
      "    accuracy                           0.93      6393\n",
      "   macro avg       0.95      0.54      0.55      6393\n",
      "weighted avg       0.93      0.93      0.90      6393\n",
      "\n"
     ]
    }
   ],
   "execution_count": 198
  },
  {
   "metadata": {
    "ExecuteTime": {
     "end_time": "2025-05-22T15:08:55.034197Z",
     "start_time": "2025-05-22T15:08:53.112131Z"
    }
   },
   "cell_type": "code",
   "source": [
    "neigh.fit(x_train_tfidf, y_train)\n",
    "prediction_tfidf=neigh.predict(x_test_tfidf)\n",
    "print(confusion_matrix(y_test,prediction_tfidf))\n",
    "print (classification_report(y_test, prediction_tfidf))"
   ],
   "id": "80a203e1f874edd6",
   "outputs": [
    {
     "name": "stdout",
     "output_type": "stream",
     "text": [
      "[[5917    0]\n",
      " [ 439   37]]\n",
      "              precision    recall  f1-score   support\n",
      "\n",
      "           0       0.93      1.00      0.96      5917\n",
      "           1       1.00      0.08      0.14       476\n",
      "\n",
      "    accuracy                           0.93      6393\n",
      "   macro avg       0.97      0.54      0.55      6393\n",
      "weighted avg       0.94      0.93      0.90      6393\n",
      "\n"
     ]
    }
   ],
   "execution_count": 199
  },
  {
   "metadata": {
    "ExecuteTime": {
     "end_time": "2025-05-22T15:09:00.329690Z",
     "start_time": "2025-05-22T15:08:55.035057Z"
    }
   },
   "cell_type": "code",
   "source": [
    "neigh.fit(x_wide_train_vectorizer, y_wide_train)\n",
    "prediction_neigh_wide_vectorizer=neigh.predict(x_wide_test_vectorizer)\n",
    "print(confusion_matrix(y_wide_test,prediction_neigh_wide_vectorizer))\n",
    "print (classification_report(y_wide_test, prediction_neigh_wide_vectorizer))"
   ],
   "id": "ee93dc9753bb6049",
   "outputs": [
    {
     "name": "stdout",
     "output_type": "stream",
     "text": [
      "[[6756   27]\n",
      " [2228 2338]]\n",
      "              precision    recall  f1-score   support\n",
      "\n",
      "           0       0.75      1.00      0.86      6783\n",
      "           1       0.99      0.51      0.67      4566\n",
      "\n",
      "    accuracy                           0.80     11349\n",
      "   macro avg       0.87      0.75      0.77     11349\n",
      "weighted avg       0.85      0.80      0.78     11349\n",
      "\n"
     ]
    }
   ],
   "execution_count": 200
  },
  {
   "metadata": {
    "ExecuteTime": {
     "end_time": "2025-05-22T15:09:06.528902Z",
     "start_time": "2025-05-22T15:09:00.333756Z"
    }
   },
   "cell_type": "code",
   "source": [
    "neigh.fit(x_wide_train_tfidf, y_wide_train)\n",
    "prediction_neigh_wide_tfidf=neigh.predict(x_wide_test_tfidf)\n",
    "print(confusion_matrix(y_wide_test,prediction_neigh_wide_tfidf))\n",
    "print (classification_report(y_wide_test, prediction_neigh_wide_tfidf))"
   ],
   "id": "6eb2699abc706c55",
   "outputs": [
    {
     "name": "stdout",
     "output_type": "stream",
     "text": [
      "[[6778    5]\n",
      " [4415  151]]\n",
      "              precision    recall  f1-score   support\n",
      "\n",
      "           0       0.61      1.00      0.75      6783\n",
      "           1       0.97      0.03      0.06      4566\n",
      "\n",
      "    accuracy                           0.61     11349\n",
      "   macro avg       0.79      0.52      0.41     11349\n",
      "weighted avg       0.75      0.61      0.48     11349\n",
      "\n"
     ]
    }
   ],
   "execution_count": 201
  },
  {
   "metadata": {},
   "cell_type": "markdown",
   "source": [
    "Использование различных методов не позволяет получить хороших результатов на несбалансированных данных, в отличие от данных с более полным распределением. \n",
    "Для этого попробуем использовать методы по ребалансу данных. \n",
    "\n",
    "Существуют два подхода к ребалансу. \n",
    "1. Oversampling\n",
    "2. Undersampling\n",
    "\n",
    "В первом случае мы используем метод случайного наполнения класса меньшинства для достижения ожидаемой пропорции. Например, алгоритм SMOTE. В его основе лежит алгоритм К-ближайших соседей, с помощью которого происходит синтетическое наполнение младшего класса\n",
    "\n",
    "Во втором случае, применяется случайное разреживание старшего класса. Например, TomekLinks, который чистит старший класс путём удаления из него взаимно близко расположенных объектов старшего класса и младшего"
   ],
   "id": "7234a3c9bfe76aa7"
  },
  {
   "metadata": {},
   "cell_type": "code",
   "outputs": [],
   "execution_count": 206,
   "source": [
    "from imblearn.combine import SMOTETomek\n",
    "\n",
    "smote_tomek = SMOTETomek(random_state=42)\n",
    "x_train_smote, y_train_smote = smote_tomek.fit_resample(x_train_vectorizer, y_train)"
   ],
   "id": "4d259ec8a0045b3a"
  },
  {
   "metadata": {},
   "cell_type": "markdown",
   "source": "Для примера используем логистическую регрессию, показавшую худший результат на первичных данных",
   "id": "baafb9a7b7990aa6"
  },
  {
   "metadata": {},
   "cell_type": "code",
   "outputs": [
    {
     "name": "stdout",
     "output_type": "stream",
     "text": [
      "              precision    recall  f1-score   support\n",
      "\n",
      "           0       0.96      0.79      0.87      5917\n",
      "           1       0.19      0.58      0.28       476\n",
      "\n",
      "    accuracy                           0.78      6393\n",
      "   macro avg       0.57      0.69      0.58      6393\n",
      "weighted avg       0.90      0.78      0.83      6393\n",
      "\n"
     ]
    }
   ],
   "execution_count": 208,
   "source": [
    "clf_smote = LogisticRegression(class_weight = 'balanced')\n",
    "clf_smote.fit(x_train_smote, y_train_smote)\n",
    "predictions = clf_smote.predict(x_test_vectorizer)\n",
    "print(classification_report(y_test, predictions))"
   ],
   "id": "aceff99992b118ef"
  },
  {
   "metadata": {},
   "cell_type": "code",
   "outputs": [],
   "execution_count": 203,
   "source": [
    "from imblearn.under_sampling import TomekLinks\n",
    "\n",
    "augm = TomekLinks(sampling_strategy='majority')\n",
    "x_train_augm, y_train_augm = augm.fit_resample(x_train_vectorizer, y_train)"
   ],
   "id": "d318ac75fb452dba"
  },
  {
   "metadata": {},
   "cell_type": "code",
   "outputs": [
    {
     "name": "stdout",
     "output_type": "stream",
     "text": [
      "              precision    recall  f1-score   support\n",
      "\n",
      "           0       0.96      0.99      0.97      5917\n",
      "           1       0.80      0.45      0.57       476\n",
      "\n",
      "    accuracy                           0.95      6393\n",
      "   macro avg       0.88      0.72      0.77      6393\n",
      "weighted avg       0.95      0.95      0.94      6393\n",
      "\n"
     ]
    }
   ],
   "execution_count": 205,
   "source": [
    "clf_augm = LogisticRegression(class_weight = 'balanced')\n",
    "clf_augm.fit(x_train_augm, y_train_augm)\n",
    "predictions = clf_augm.predict(x_test_vectorizer)\n",
    "print(classification_report(y_test, predictions))"
   ],
   "id": "4d5fb111c265ab84"
  },
  {
   "metadata": {},
   "cell_type": "markdown",
   "source": [
    "Вывод. \n",
    "методы работы с несбалансированными данными могут показать значительное улучшение качества работы с моделями"
   ],
   "id": "e8d2af831071a400"
  },
  {
   "metadata": {},
   "cell_type": "code",
   "outputs": [],
   "execution_count": null,
   "source": "",
   "id": "31a9938c994be409"
  }
 ],
 "metadata": {
  "kernelspec": {
   "display_name": "Python 3 (ipykernel)",
   "language": "python",
   "name": "python3"
  },
  "language_info": {
   "codemirror_mode": {
    "name": "ipython",
    "version": 3
   },
   "file_extension": ".py",
   "mimetype": "text/x-python",
   "name": "python",
   "nbconvert_exporter": "python",
   "pygments_lexer": "ipython3",
   "version": "3.12.3"
  }
 },
 "nbformat": 4,
 "nbformat_minor": 5
}
